{
 "cells": [
  {
   "cell_type": "markdown",
   "id": "fda9d492",
   "metadata": {
    "papermill": {
     "duration": 0.012275,
     "end_time": "2024-12-19T22:01:17.515426",
     "exception": false,
     "start_time": "2024-12-19T22:01:17.503151",
     "status": "completed"
    },
    "tags": []
   },
   "source": [
    "## PARQUET PROCESSING"
   ]
  },
  {
   "cell_type": "code",
   "execution_count": 1,
   "id": "7fbbcd17",
   "metadata": {
    "execution": {
     "iopub.execute_input": "2024-12-19T22:01:17.537066Z",
     "iopub.status.busy": "2024-12-19T22:01:17.536743Z",
     "iopub.status.idle": "2024-12-19T22:01:22.490397Z",
     "shell.execute_reply": "2024-12-19T22:01:22.489703Z"
    },
    "papermill": {
     "duration": 4.96668,
     "end_time": "2024-12-19T22:01:22.492427",
     "exception": false,
     "start_time": "2024-12-19T22:01:17.525747",
     "status": "completed"
    },
    "tags": []
   },
   "outputs": [],
   "source": [
    "import polars as pl\n",
    "import numpy as np\n",
    "import pandas as pd\n",
    "import os\n",
    "from concurrent.futures import ThreadPoolExecutor\n",
    "from tqdm import tqdm\n",
    "import torch\n",
    "import torch.nn as nn\n",
    "from sklearn.preprocessing import StandardScaler\n",
    "import torch.optim as optim"
   ]
  },
  {
   "cell_type": "markdown",
   "id": "bc1dd410",
   "metadata": {
    "papermill": {
     "duration": 0.010013,
     "end_time": "2024-12-19T22:01:22.513033",
     "exception": false,
     "start_time": "2024-12-19T22:01:22.503020",
     "status": "completed"
    },
    "tags": []
   },
   "source": [
    "## TABULAR NORMAL DATA PROCESSING"
   ]
  },
  {
   "cell_type": "markdown",
   "id": "413f1392",
   "metadata": {
    "papermill": {
     "duration": 0.010196,
     "end_time": "2024-12-19T22:01:22.533087",
     "exception": false,
     "start_time": "2024-12-19T22:01:22.522891",
     "status": "completed"
    },
    "tags": []
   },
   "source": [
    "#### Drop any samplers which only missed any values in PCIAT test"
   ]
  },
  {
   "cell_type": "code",
   "execution_count": 2,
   "id": "26b5325f",
   "metadata": {
    "execution": {
     "iopub.execute_input": "2024-12-19T22:01:22.559368Z",
     "iopub.status.busy": "2024-12-19T22:01:22.558465Z",
     "iopub.status.idle": "2024-12-19T22:01:22.631476Z",
     "shell.execute_reply": "2024-12-19T22:01:22.630846Z"
    },
    "papermill": {
     "duration": 0.087094,
     "end_time": "2024-12-19T22:01:22.633340",
     "exception": false,
     "start_time": "2024-12-19T22:01:22.546246",
     "status": "completed"
    },
    "tags": []
   },
   "outputs": [],
   "source": [
    "train_data = pd.read_csv(\"/kaggle/input/child-mind-institute-problematic-internet-use/train.csv\")\n",
    "test_data = pd.read_csv(\"/kaggle/input/child-mind-institute-problematic-internet-use/test.csv\")"
   ]
  },
  {
   "cell_type": "code",
   "execution_count": 3,
   "id": "c6655455",
   "metadata": {
    "execution": {
     "iopub.execute_input": "2024-12-19T22:01:22.655345Z",
     "iopub.status.busy": "2024-12-19T22:01:22.655068Z",
     "iopub.status.idle": "2024-12-19T22:01:22.669654Z",
     "shell.execute_reply": "2024-12-19T22:01:22.669079Z"
    },
    "papermill": {
     "duration": 0.02691,
     "end_time": "2024-12-19T22:01:22.671156",
     "exception": false,
     "start_time": "2024-12-19T22:01:22.644246",
     "status": "completed"
    },
    "tags": []
   },
   "outputs": [],
   "source": [
    "columns_not_in_test = ['PCIAT-PCIAT_01', 'PCIAT-PCIAT_02', 'PCIAT-PCIAT_03', 'PCIAT-PCIAT_04', 'PCIAT-PCIAT_05', 'PCIAT-PCIAT_06', 'PCIAT-PCIAT_07', 'PCIAT-PCIAT_08', 'PCIAT-PCIAT_09', 'PCIAT-PCIAT_10', 'PCIAT-PCIAT_11', 'PCIAT-PCIAT_12', 'PCIAT-PCIAT_13', 'PCIAT-PCIAT_14', 'PCIAT-PCIAT_15', 'PCIAT-PCIAT_16', 'PCIAT-PCIAT_17', 'PCIAT-PCIAT_18', 'PCIAT-PCIAT_19', 'PCIAT-PCIAT_20', 'PCIAT-PCIAT_Total', 'PCIAT-Season', 'sii']\n",
    "train_data = train_data.dropna(subset=columns_not_in_test)"
   ]
  },
  {
   "cell_type": "markdown",
   "id": "6188c9ff",
   "metadata": {
    "execution": {
     "iopub.execute_input": "2024-12-16T07:14:27.674761Z",
     "iopub.status.busy": "2024-12-16T07:14:27.674415Z",
     "iopub.status.idle": "2024-12-16T07:14:27.678811Z",
     "shell.execute_reply": "2024-12-16T07:14:27.677871Z",
     "shell.execute_reply.started": "2024-12-16T07:14:27.674731Z"
    },
    "papermill": {
     "duration": 0.009666,
     "end_time": "2024-12-19T22:01:22.690870",
     "exception": false,
     "start_time": "2024-12-19T22:01:22.681204",
     "status": "completed"
    },
    "tags": []
   },
   "source": [
    "#### Drop season data"
   ]
  },
  {
   "cell_type": "code",
   "execution_count": 4,
   "id": "ebe2bb1a",
   "metadata": {
    "execution": {
     "iopub.execute_input": "2024-12-19T22:01:22.711499Z",
     "iopub.status.busy": "2024-12-19T22:01:22.711240Z",
     "iopub.status.idle": "2024-12-19T22:01:22.715174Z",
     "shell.execute_reply": "2024-12-19T22:01:22.714504Z"
    },
    "papermill": {
     "duration": 0.016056,
     "end_time": "2024-12-19T22:01:22.716733",
     "exception": false,
     "start_time": "2024-12-19T22:01:22.700677",
     "status": "completed"
    },
    "tags": []
   },
   "outputs": [],
   "source": [
    "train_seasonal_columns = [col for col in train_data.columns if 'Season' in col]\n",
    "test_seasonal_columns = [col for col in test_data.columns if 'Season' in col]"
   ]
  },
  {
   "cell_type": "code",
   "execution_count": 5,
   "id": "3f35eea8",
   "metadata": {
    "execution": {
     "iopub.execute_input": "2024-12-19T22:01:22.737665Z",
     "iopub.status.busy": "2024-12-19T22:01:22.737435Z",
     "iopub.status.idle": "2024-12-19T22:01:22.742511Z",
     "shell.execute_reply": "2024-12-19T22:01:22.741852Z"
    },
    "papermill": {
     "duration": 0.017413,
     "end_time": "2024-12-19T22:01:22.744126",
     "exception": false,
     "start_time": "2024-12-19T22:01:22.726713",
     "status": "completed"
    },
    "tags": []
   },
   "outputs": [],
   "source": [
    "train_data_wo_season = train_data.drop(train_seasonal_columns, axis = 1)\n",
    "test_data_wo_season = test_data.drop(test_seasonal_columns, axis = 1)"
   ]
  },
  {
   "cell_type": "markdown",
   "id": "c5c9aa25",
   "metadata": {
    "papermill": {
     "duration": 0.009643,
     "end_time": "2024-12-19T22:01:22.763840",
     "exception": false,
     "start_time": "2024-12-19T22:01:22.754197",
     "status": "completed"
    },
    "tags": []
   },
   "source": [
    "#### So, we got a quire reliable labels here, the next step would be create X and y"
   ]
  },
  {
   "cell_type": "code",
   "execution_count": 6,
   "id": "e0afb381",
   "metadata": {
    "execution": {
     "iopub.execute_input": "2024-12-19T22:01:22.784498Z",
     "iopub.status.busy": "2024-12-19T22:01:22.784281Z",
     "iopub.status.idle": "2024-12-19T22:01:22.789709Z",
     "shell.execute_reply": "2024-12-19T22:01:22.789133Z"
    },
    "papermill": {
     "duration": 0.017789,
     "end_time": "2024-12-19T22:01:22.791467",
     "exception": false,
     "start_time": "2024-12-19T22:01:22.773678",
     "status": "completed"
    },
    "tags": []
   },
   "outputs": [],
   "source": [
    "label_related_features = ['PCIAT-PCIAT_01', 'PCIAT-PCIAT_02', 'PCIAT-PCIAT_03', 'PCIAT-PCIAT_04', 'PCIAT-PCIAT_05', 'PCIAT-PCIAT_06', 'PCIAT-PCIAT_07', 'PCIAT-PCIAT_08', 'PCIAT-PCIAT_09', 'PCIAT-PCIAT_10', 'PCIAT-PCIAT_11', 'PCIAT-PCIAT_12', 'PCIAT-PCIAT_13', 'PCIAT-PCIAT_14', 'PCIAT-PCIAT_15', 'PCIAT-PCIAT_16', 'PCIAT-PCIAT_17', 'PCIAT-PCIAT_18', 'PCIAT-PCIAT_19', 'PCIAT-PCIAT_20', 'PCIAT-PCIAT_Total', 'sii']\n",
    "label = ['sii']\n",
    "X = train_data_wo_season.drop(label_related_features, axis = 1)\n",
    "new_y = train_data_wo_season[label]"
   ]
  },
  {
   "cell_type": "code",
   "execution_count": 7,
   "id": "18d261bf",
   "metadata": {
    "execution": {
     "iopub.execute_input": "2024-12-19T22:01:22.812249Z",
     "iopub.status.busy": "2024-12-19T22:01:22.811701Z",
     "iopub.status.idle": "2024-12-19T22:01:22.816376Z",
     "shell.execute_reply": "2024-12-19T22:01:22.815692Z"
    },
    "papermill": {
     "duration": 0.016553,
     "end_time": "2024-12-19T22:01:22.817876",
     "exception": false,
     "start_time": "2024-12-19T22:01:22.801323",
     "status": "completed"
    },
    "tags": []
   },
   "outputs": [],
   "source": [
    "new_X = X.drop(['id'], axis = 1)\n",
    "new_test = test_data_wo_season.drop(['id'], axis = 1)"
   ]
  },
  {
   "cell_type": "code",
   "execution_count": 8,
   "id": "25c34f59",
   "metadata": {
    "execution": {
     "iopub.execute_input": "2024-12-19T22:01:22.838294Z",
     "iopub.status.busy": "2024-12-19T22:01:22.838071Z",
     "iopub.status.idle": "2024-12-19T22:01:22.844968Z",
     "shell.execute_reply": "2024-12-19T22:01:22.844265Z"
    },
    "papermill": {
     "duration": 0.018801,
     "end_time": "2024-12-19T22:01:22.846445",
     "exception": false,
     "start_time": "2024-12-19T22:01:22.827644",
     "status": "completed"
    },
    "tags": []
   },
   "outputs": [],
   "source": [
    "def feature_engineering(df):\n",
    "    #Age\n",
    "    df['Internet_Hours_Age'] = df['PreInt_EduHx-computerinternet_hoursday'] * df['Basic_Demos-Age']\n",
    "    df['Physical-Waist_Age'] = df['Basic_Demos-Age'] * df['Physical-Waist_Circumference']\n",
    "    df['BMI_Age'] = df['Physical-BMI'] * df['Basic_Demos-Age']\n",
    "    df['Physical-Height_Age'] = df['Basic_Demos-Age'] * df['Physical-Height']\n",
    "    df['SDS_InternetHours'] = df['SDS-SDS_Total_T'] * df['PreInt_EduHx-computerinternet_hoursday']\n",
    "\n",
    "    #SDS\n",
    "    df['SDS_BMI'] = df['BIA-BIA_BMI'] * df['SDS-SDS_Total_T']\n",
    "    df['CGAS_SDS'] = df['CGAS-CGAS_Score'] * df['SDS-SDS_Total_T']\n",
    "    df['CGAS_Endurance_Mins'] = df['CGAS-CGAS_Score'] * df['Fitness_Endurance-Time_Mins']\n",
    "    df['SDS_Activity'] = df['BIA-BIA_Activity_Level_num'] * df['SDS-SDS_Total_T']\n",
    "\n",
    "    df['BMI_Systolic_BP'] = df['BIA-BIA_BMI'] * df['Physical-Systolic_BP']\n",
    "    df['Age_Systolic_BP'] = df['Basic_Demos-Age'] * df['Physical-Systolic_BP']\n",
    "    df['PreInt_Systolic_BP'] = df['Physical-Systolic_BP'] * df['PreInt_EduHx-computerinternet_hoursday']\n",
    "    df['PAQ_A_Activity'] = df['BIA-BIA_Activity_Level_num'] * df['PAQ_A-PAQ_A_Total']\n",
    "    df['Activity_CU_PU'] = df['BIA-BIA_Activity_Level_num'] * df['FGC-FGC_CU'] * df['FGC-FGC_PU']\n",
    "\n",
    "    #FGC\n",
    "    df['FGC_CU_PU'] = df['FGC-FGC_CU'] * df['FGC-FGC_PU']\n",
    "    df['FGC_CU_PU_Age'] = df['FGC-FGC_CU'] * df['FGC-FGC_PU'] * df['Basic_Demos-Age']\n",
    "    df['FGC_GSND_GSD'] = df['FGC-FGC_GSND'] * df['FGC-FGC_GSD']\n",
    "    df['FGC_GSND_GSD_Age'] = df['FGC-FGC_GSND'] * df['FGC-FGC_GSD'] * df['Basic_Demos-Age']\n",
    "    df['CGAS_CU_PU'] = df['CGAS-CGAS_Score'] * df['FGC-FGC_CU'] * df['FGC-FGC_PU']\n",
    "    df['PreInt_FGC_CU_PU'] = df['PreInt_EduHx-computerinternet_hoursday'] * df['FGC-FGC_CU'] * df['FGC-FGC_PU']\n",
    "    df['Endurance_CU_PU'] = df['Fitness_Endurance-Time_Mins'] * df['FGC-FGC_CU'] * df['FGC-FGC_PU']\n",
    "\n",
    "    return df"
   ]
  },
  {
   "cell_type": "code",
   "execution_count": 9,
   "id": "6cb7eb0d",
   "metadata": {
    "execution": {
     "iopub.execute_input": "2024-12-19T22:01:22.866883Z",
     "iopub.status.busy": "2024-12-19T22:01:22.866621Z",
     "iopub.status.idle": "2024-12-19T22:01:22.888509Z",
     "shell.execute_reply": "2024-12-19T22:01:22.887932Z"
    },
    "papermill": {
     "duration": 0.033859,
     "end_time": "2024-12-19T22:01:22.890048",
     "exception": false,
     "start_time": "2024-12-19T22:01:22.856189",
     "status": "completed"
    },
    "tags": []
   },
   "outputs": [],
   "source": [
    "new_X = feature_engineering(new_X)\n",
    "new_test = feature_engineering(new_test)"
   ]
  },
  {
   "cell_type": "code",
   "execution_count": 12,
   "id": "9c048db3",
   "metadata": {
    "execution": {
     "iopub.execute_input": "2024-12-19T22:01:22.966181Z",
     "iopub.status.busy": "2024-12-19T22:01:22.965553Z",
     "iopub.status.idle": "2024-12-19T22:01:22.992157Z",
     "shell.execute_reply": "2024-12-19T22:01:22.991298Z"
    },
    "papermill": {
     "duration": 0.039082,
     "end_time": "2024-12-19T22:01:22.993745",
     "exception": false,
     "start_time": "2024-12-19T22:01:22.954663",
     "status": "completed"
    },
    "tags": []
   },
   "outputs": [
    {
     "name": "stderr",
     "output_type": "stream",
     "text": [
      "/opt/conda/lib/python3.10/site-packages/sklearn/utils/extmath.py:1047: RuntimeWarning: invalid value encountered in divide\n",
      "  updated_mean = (last_sum + new_sum) / updated_sample_count\n",
      "/opt/conda/lib/python3.10/site-packages/sklearn/utils/extmath.py:1052: RuntimeWarning: invalid value encountered in divide\n",
      "  T = new_sum / new_sample_count\n",
      "/opt/conda/lib/python3.10/site-packages/sklearn/utils/extmath.py:1072: RuntimeWarning: invalid value encountered in divide\n",
      "  new_unnormalized_variance -= correction**2 / new_sample_count\n"
     ]
    }
   ],
   "source": [
    "from sklearn.preprocessing import StandardScaler\n",
    "standard_scaler = StandardScaler()\n",
    "\n",
    "new_X = pd.DataFrame(standard_scaler.fit_transform(new_X), columns=new_X.columns)\n",
    "new_test = pd.DataFrame(standard_scaler.fit_transform(new_test), columns=new_test.columns)"
   ]
  },
  {
   "cell_type": "code",
   "execution_count": 13,
   "id": "9cee8b9a",
   "metadata": {
    "execution": {
     "iopub.execute_input": "2024-12-19T22:01:23.015894Z",
     "iopub.status.busy": "2024-12-19T22:01:23.015163Z",
     "iopub.status.idle": "2024-12-19T22:01:23.020233Z",
     "shell.execute_reply": "2024-12-19T22:01:23.019436Z"
    },
    "papermill": {
     "duration": 0.01737,
     "end_time": "2024-12-19T22:01:23.021753",
     "exception": false,
     "start_time": "2024-12-19T22:01:23.004383",
     "status": "completed"
    },
    "tags": []
   },
   "outputs": [],
   "source": [
    "new_X = new_X.drop('PAQ_A_Activity', axis=1)\n",
    "new_test = new_test.drop('PAQ_A_Activity', axis=1)"
   ]
  },
  {
   "cell_type": "markdown",
   "id": "e670ae24",
   "metadata": {
    "papermill": {
     "duration": 0.010005,
     "end_time": "2024-12-19T22:01:23.042102",
     "exception": false,
     "start_time": "2024-12-19T22:01:23.032097",
     "status": "completed"
    },
    "tags": []
   },
   "source": [
    "## IMPUTATION IN NORMAL TABULAR DATA"
   ]
  },
  {
   "cell_type": "code",
   "execution_count": 14,
   "id": "30cd02cb",
   "metadata": {
    "execution": {
     "iopub.execute_input": "2024-12-19T22:01:23.063398Z",
     "iopub.status.busy": "2024-12-19T22:01:23.062676Z",
     "iopub.status.idle": "2024-12-19T22:01:23.273928Z",
     "shell.execute_reply": "2024-12-19T22:01:23.273227Z"
    },
    "papermill": {
     "duration": 0.223894,
     "end_time": "2024-12-19T22:01:23.275918",
     "exception": false,
     "start_time": "2024-12-19T22:01:23.052024",
     "status": "completed"
    },
    "tags": []
   },
   "outputs": [],
   "source": [
    "from sklearn.experimental import enable_iterative_imputer\n",
    "from sklearn.impute import IterativeImputer\n",
    "import numpy as np"
   ]
  },
  {
   "cell_type": "code",
   "execution_count": 15,
   "id": "09a5f910",
   "metadata": {
    "execution": {
     "iopub.execute_input": "2024-12-19T22:01:23.298155Z",
     "iopub.status.busy": "2024-12-19T22:01:23.297883Z",
     "iopub.status.idle": "2024-12-19T22:01:23.303554Z",
     "shell.execute_reply": "2024-12-19T22:01:23.302722Z"
    },
    "papermill": {
     "duration": 0.018269,
     "end_time": "2024-12-19T22:01:23.305231",
     "exception": false,
     "start_time": "2024-12-19T22:01:23.286962",
     "status": "completed"
    },
    "tags": []
   },
   "outputs": [],
   "source": [
    "def fill_na_with_MICE(df):\n",
    "    df_copy = df.copy()\n",
    "    missing_mask = df_copy.isna()\n",
    "    original_columns = df_copy.columns.tolist()\n",
    "    imputer = IterativeImputer(max_iter=50, random_state=0)\n",
    "    imputed_values = imputer.fit_transform(df_copy)\n",
    "    imputed_df = pd.DataFrame(\n",
    "        imputed_values,\n",
    "        columns=original_columns,\n",
    "        index=df_copy.index\n",
    "    )\n",
    "    df_copy[missing_mask] = imputed_df[missing_mask]\n",
    "    return df_copy\n",
    "    "
   ]
  },
  {
   "cell_type": "code",
   "execution_count": 16,
   "id": "6df1737a",
   "metadata": {
    "execution": {
     "iopub.execute_input": "2024-12-19T22:01:23.326201Z",
     "iopub.status.busy": "2024-12-19T22:01:23.325950Z",
     "iopub.status.idle": "2024-12-19T22:02:00.170272Z",
     "shell.execute_reply": "2024-12-19T22:02:00.169396Z"
    },
    "papermill": {
     "duration": 36.867623,
     "end_time": "2024-12-19T22:02:00.182821",
     "exception": false,
     "start_time": "2024-12-19T22:01:23.315198",
     "status": "completed"
    },
    "tags": []
   },
   "outputs": [
    {
     "name": "stderr",
     "output_type": "stream",
     "text": [
      "/opt/conda/lib/python3.10/site-packages/sklearn/impute/_iterative.py:785: ConvergenceWarning: [IterativeImputer] Early stopping criterion not reached.\n",
      "  warnings.warn(\n"
     ]
    }
   ],
   "source": [
    "new_X = fill_na_with_MICE(new_X)\n",
    "new_test = fill_na_with_MICE(new_test)"
   ]
  },
  {
   "cell_type": "markdown",
   "id": "363ea2ff",
   "metadata": {
    "papermill": {
     "duration": 0.010824,
     "end_time": "2024-12-19T22:02:00.299161",
     "exception": false,
     "start_time": "2024-12-19T22:02:00.288337",
     "status": "completed"
    },
    "tags": []
   },
   "source": [
    "### Preparing for FTT"
   ]
  },
  {
   "cell_type": "code",
   "execution_count": 19,
   "id": "19fb6091",
   "metadata": {
    "execution": {
     "iopub.execute_input": "2024-12-19T22:02:00.322174Z",
     "iopub.status.busy": "2024-12-19T22:02:00.321938Z",
     "iopub.status.idle": "2024-12-19T22:02:00.326805Z",
     "shell.execute_reply": "2024-12-19T22:02:00.325996Z"
    },
    "papermill": {
     "duration": 0.018258,
     "end_time": "2024-12-19T22:02:00.328380",
     "exception": false,
     "start_time": "2024-12-19T22:02:00.310122",
     "status": "completed"
    },
    "tags": []
   },
   "outputs": [],
   "source": [
    "def get_info_for_ftt(df):\n",
    "    number_of_cat = 0\n",
    "    cat_ranges = []\n",
    "    all_features = df.columns.tolist()\n",
    "    cat_idx = []\n",
    "    for i, feature in enumerate(all_features):\n",
    "        if (df[feature].nunique() <= 2):\n",
    "            number_of_cat = number_of_cat + 1\n",
    "            cat_ranges.append(df[feature].nunique())\n",
    "            cat_idx.append(i)\n",
    "    \n",
    "    num_continuous = df.shape[-1] - number_of_cat\n",
    "    return cat_ranges, num_continuous, cat_idx\n"
   ]
  },
  {
   "cell_type": "code",
   "execution_count": 20,
   "id": "54f2f272",
   "metadata": {
    "execution": {
     "iopub.execute_input": "2024-12-19T22:02:00.351586Z",
     "iopub.status.busy": "2024-12-19T22:02:00.351344Z",
     "iopub.status.idle": "2024-12-19T22:02:00.357576Z",
     "shell.execute_reply": "2024-12-19T22:02:00.356818Z"
    },
    "papermill": {
     "duration": 0.019492,
     "end_time": "2024-12-19T22:02:00.359098",
     "exception": false,
     "start_time": "2024-12-19T22:02:00.339606",
     "status": "completed"
    },
    "tags": []
   },
   "outputs": [],
   "source": [
    "import torch\n",
    "from torch.utils.data import Dataset\n",
    "\n",
    "class MyDataset(Dataset):\n",
    "    def __init__(self, samples, labels, cat_idx):\n",
    "        if isinstance(labels, pd.DataFrame) or isinstance(labels, pd.Series):\n",
    "            labels = labels.to_numpy()\n",
    "        self.samples = samples\n",
    "        self.labels = labels\n",
    "        self.cat_idx = cat_idx\n",
    "        \n",
    "    def __len__(self):\n",
    "        return len(self.labels)\n",
    "        \n",
    "    def divide_cat_num(self, row_data):\n",
    "        mask = np.zeros(len(row_data), dtype=bool)\n",
    "        mask[self.cat_idx] = True\n",
    "        cat_elements = row_data[mask]\n",
    "        remaining_elements = row_data[~mask]\n",
    "        return cat_elements, remaining_elements\n",
    "\n",
    "    def __getitem__(self, idx):\n",
    "        row_value = self.samples[idx]\n",
    "        tensor_row_value = torch.tensor(row_value)\n",
    "        cat_values, num_values = self.divide_cat_num(row_value)\n",
    "        cat_values = torch.tensor(cat_values, dtype=torch.int32)\n",
    "        num_values = torch.tensor(num_values, dtype=torch.float32)\n",
    "        label = self.labels[idx]\n",
    "        tensor_label = torch.tensor(label, dtype=torch.float32) \n",
    "        return cat_values, num_values, tensor_label"
   ]
  },
  {
   "cell_type": "code",
   "execution_count": 21,
   "id": "3886ec07",
   "metadata": {
    "execution": {
     "iopub.execute_input": "2024-12-19T22:02:00.382198Z",
     "iopub.status.busy": "2024-12-19T22:02:00.381984Z",
     "iopub.status.idle": "2024-12-19T22:02:00.385293Z",
     "shell.execute_reply": "2024-12-19T22:02:00.384637Z"
    },
    "papermill": {
     "duration": 0.016676,
     "end_time": "2024-12-19T22:02:00.386821",
     "exception": false,
     "start_time": "2024-12-19T22:02:00.370145",
     "status": "completed"
    },
    "tags": []
   },
   "outputs": [],
   "source": [
    "from torch.utils.data import DataLoader"
   ]
  },
  {
   "cell_type": "code",
   "execution_count": 22,
   "id": "b8656ed4",
   "metadata": {
    "execution": {
     "iopub.execute_input": "2024-12-19T22:02:00.409842Z",
     "iopub.status.busy": "2024-12-19T22:02:00.409563Z",
     "iopub.status.idle": "2024-12-19T22:02:41.556676Z",
     "shell.execute_reply": "2024-12-19T22:02:41.555545Z"
    },
    "papermill": {
     "duration": 41.161432,
     "end_time": "2024-12-19T22:02:41.559300",
     "exception": false,
     "start_time": "2024-12-19T22:02:00.397868",
     "status": "completed"
    },
    "tags": []
   },
   "outputs": [
    {
     "name": "stderr",
     "output_type": "stream",
     "text": [
      "/opt/conda/lib/python3.10/pty.py:89: RuntimeWarning: Using fork() can cause Polars to deadlock in the child process.\n",
      "In addition, using fork() with Python in general is a recipe for mysterious\n",
      "deadlocks and crashes.\n",
      "\n",
      "The most likely reason you are seeing this error is because you are using the\n",
      "multiprocessing module on Linux, which uses fork() by default. This will be\n",
      "fixed in Python 3.14. Until then, you want to use the \"spawn\" context instead.\n",
      "\n",
      "See https://docs.pola.rs/user-guide/misc/multiprocessing/ for details.\n",
      "\n",
      "  pid, fd = os.forkpty()\n"
     ]
    },
    {
     "name": "stdout",
     "output_type": "stream",
     "text": [
      "Processing /kaggle/input/fttransformer/einops-0.8.0-py3-none-any.whl\r\n",
      "Installing collected packages: einops\r\n",
      "Successfully installed einops-0.8.0\r\n"
     ]
    }
   ],
   "source": [
    "!pip install /kaggle/input/fttransformer/einops-0.8.0-py3-none-any.whl"
   ]
  },
  {
   "cell_type": "code",
   "execution_count": 23,
   "id": "8694d84e",
   "metadata": {
    "execution": {
     "iopub.execute_input": "2024-12-19T22:02:41.583962Z",
     "iopub.status.busy": "2024-12-19T22:02:41.583642Z",
     "iopub.status.idle": "2024-12-19T22:02:41.587789Z",
     "shell.execute_reply": "2024-12-19T22:02:41.586988Z"
    },
    "papermill": {
     "duration": 0.018196,
     "end_time": "2024-12-19T22:02:41.589405",
     "exception": false,
     "start_time": "2024-12-19T22:02:41.571209",
     "status": "completed"
    },
    "tags": []
   },
   "outputs": [],
   "source": [
    "import torch.nn as nn\n",
    "import torch.optim as optim"
   ]
  },
  {
   "cell_type": "code",
   "execution_count": 24,
   "id": "6cd40fd0",
   "metadata": {
    "execution": {
     "iopub.execute_input": "2024-12-19T22:02:41.613556Z",
     "iopub.status.busy": "2024-12-19T22:02:41.613141Z",
     "iopub.status.idle": "2024-12-19T22:02:41.629756Z",
     "shell.execute_reply": "2024-12-19T22:02:41.628961Z"
    },
    "papermill": {
     "duration": 0.030482,
     "end_time": "2024-12-19T22:02:41.631356",
     "exception": false,
     "start_time": "2024-12-19T22:02:41.600874",
     "status": "completed"
    },
    "tags": []
   },
   "outputs": [],
   "source": [
    "cat_ranges, num_continuous, cat_idx = get_info_for_ftt(new_X)"
   ]
  },
  {
   "cell_type": "markdown",
   "id": "42537408",
   "metadata": {
    "papermill": {
     "duration": 0.011386,
     "end_time": "2024-12-19T22:02:41.654175",
     "exception": false,
     "start_time": "2024-12-19T22:02:41.642789",
     "status": "completed"
    },
    "tags": []
   },
   "source": [
    "## Making wrapper for FTTransformer"
   ]
  },
  {
   "cell_type": "code",
   "execution_count": 25,
   "id": "d1ee2ec1",
   "metadata": {
    "execution": {
     "iopub.execute_input": "2024-12-19T22:02:41.678035Z",
     "iopub.status.busy": "2024-12-19T22:02:41.677763Z",
     "iopub.status.idle": "2024-12-19T22:02:41.832765Z",
     "shell.execute_reply": "2024-12-19T22:02:41.831898Z"
    },
    "papermill": {
     "duration": 0.169512,
     "end_time": "2024-12-19T22:02:41.834889",
     "exception": false,
     "start_time": "2024-12-19T22:02:41.665377",
     "status": "completed"
    },
    "tags": []
   },
   "outputs": [],
   "source": [
    "import torch\n",
    "import torch.nn.functional as F\n",
    "from torch import nn, einsum\n",
    "\n",
    "from einops import rearrange, repeat\n",
    "\n",
    "# feedforward and attention\n",
    "\n",
    "class GEGLU(nn.Module):\n",
    "    def forward(self, x):\n",
    "        x, gates = x.chunk(2, dim = -1)\n",
    "        return x * F.gelu(gates)\n",
    "\n",
    "def FeedForward(dim, mult = 4, dropout = 0.):\n",
    "    return nn.Sequential(\n",
    "        nn.LayerNorm(dim),\n",
    "        nn.Linear(dim, dim * mult * 2),\n",
    "        GEGLU(),\n",
    "        nn.Dropout(dropout),\n",
    "        nn.Linear(dim * mult, dim)\n",
    "    )\n",
    "\n",
    "class Attention(nn.Module):\n",
    "    def __init__(\n",
    "        self,\n",
    "        dim,\n",
    "        heads = 8,\n",
    "        dim_head = 64,\n",
    "        dropout = 0.\n",
    "    ):\n",
    "        super().__init__()\n",
    "        inner_dim = dim_head * heads\n",
    "        self.heads = heads\n",
    "        self.scale = dim_head ** -0.5\n",
    "\n",
    "        self.norm = nn.LayerNorm(dim)\n",
    "        \n",
    "        self.to_qkv = nn.Linear(dim, inner_dim * 3, bias = False)\n",
    "        self.to_out = nn.Linear(inner_dim, dim, bias = False)\n",
    "\n",
    "        self.dropout = nn.Dropout(dropout)\n",
    "\n",
    "    def forward(self, x):\n",
    "        h = self.heads\n",
    "\n",
    "        x = self.norm(x)\n",
    "\n",
    "        q, k, v = self.to_qkv(x).chunk(3, dim = -1)\n",
    "        q, k, v = map(lambda t: rearrange(t, 'b n (h d) -> b h n d', h = h), (q, k, v))\n",
    "        q = q * self.scale\n",
    "\n",
    "        sim = einsum('b h i d, b h j d -> b h i j', q, k)\n",
    "\n",
    "        attn = sim.softmax(dim = -1)\n",
    "        dropped_attn = self.dropout(attn)\n",
    "\n",
    "        out = einsum('b h i j, b h j d -> b h i d', dropped_attn, v)\n",
    "        out = rearrange(out, 'b h n d -> b n (h d)', h = h)\n",
    "        out = self.to_out(out)\n",
    "\n",
    "        return out, attn\n",
    "\n",
    "# transformer\n",
    "\n",
    "class Transformer(nn.Module):\n",
    "    def __init__(\n",
    "        self,\n",
    "        dim,\n",
    "        depth,\n",
    "        heads,\n",
    "        dim_head,\n",
    "        attn_dropout,\n",
    "        ff_dropout\n",
    "    ):\n",
    "        super().__init__()\n",
    "        self.layers = nn.ModuleList([])\n",
    "\n",
    "        for _ in range(depth):\n",
    "            self.layers.append(nn.ModuleList([\n",
    "                Attention(dim, heads = heads, dim_head = dim_head, dropout = attn_dropout),\n",
    "                FeedForward(dim, dropout = ff_dropout),\n",
    "            ]))\n",
    "\n",
    "    def forward(self, x, return_attn = False):\n",
    "        post_softmax_attns = []\n",
    "\n",
    "        for attn, ff in self.layers:\n",
    "            attn_out, post_softmax_attn = attn(x)\n",
    "            post_softmax_attns.append(post_softmax_attn)\n",
    "\n",
    "            x = attn_out + x\n",
    "            x = ff(x) + x\n",
    "\n",
    "        if not return_attn:\n",
    "            return x\n",
    "\n",
    "        return x, torch.stack(post_softmax_attns)\n",
    "        \n",
    "# batch norm\n",
    "class BatchNormSequence(nn.Module):\n",
    "    def __init__(self, dim):\n",
    "        super().__init__()\n",
    "        self.bn = nn.BatchNorm1d(dim)\n",
    "        \n",
    "    def forward(self, x):\n",
    "        # x: (batch, sequence, features)\n",
    "        x = x.transpose(1, 2)\n",
    "        x = self.bn(x)\n",
    "        x = x.transpose(1, 2) \n",
    "        return x\n",
    "        \n",
    "# numerical embedder\n",
    "class NumericalEmbedder(nn.Module):\n",
    "    def __init__(self, dim, num_numerical_types):\n",
    "        super().__init__()\n",
    "        self.weights = nn.Parameter(torch.randn(num_numerical_types, dim))\n",
    "        self.biases = nn.Parameter(torch.randn(num_numerical_types, dim))\n",
    "\n",
    "    def forward(self, x):\n",
    "        x = rearrange(x, 'b n -> b n 1')\n",
    "        return x * self.weights + self.biases\n",
    "\n",
    "# main class\n",
    "\n",
    "class FTTransformer(nn.Module):\n",
    "    def __init__(\n",
    "        self,\n",
    "        *,\n",
    "        categories,\n",
    "        num_continuous,\n",
    "        dim,\n",
    "        depth,\n",
    "        heads,\n",
    "        dim_head = 16,\n",
    "        dim_out = 1,\n",
    "        num_special_tokens = 2,\n",
    "        attn_dropout = 0.,\n",
    "        ff_dropout = 0.\n",
    "    ):\n",
    "        super().__init__()\n",
    "        assert all(map(lambda n: n > 0, categories)), 'number of each category must be positive'\n",
    "        assert len(categories) + num_continuous > 0, 'input shape must not be null'\n",
    "\n",
    "        # categories related calculations\n",
    "\n",
    "        self.num_categories = len(categories)\n",
    "        self.num_unique_categories = sum(categories)\n",
    "\n",
    "        # create category embeddings table\n",
    "\n",
    "        self.num_special_tokens = num_special_tokens\n",
    "        total_tokens = self.num_unique_categories + num_special_tokens\n",
    "\n",
    "        # for automatically offsetting unique category ids to the correct position in the categories embedding table\n",
    "\n",
    "        if self.num_unique_categories > 0:\n",
    "            categories_offset = F.pad(torch.tensor(list(categories)), (1, 0), value = num_special_tokens)\n",
    "            categories_offset = categories_offset.cumsum(dim = -1)[:-1]\n",
    "            self.register_buffer('categories_offset', categories_offset)\n",
    "\n",
    "            # categorical embedding\n",
    "\n",
    "            self.categorical_embeds = nn.Embedding(total_tokens, dim)\n",
    "            self.categ_bn = BatchNormSequence(dim)\n",
    "\n",
    "\n",
    "        # continuous\n",
    "\n",
    "        self.num_continuous = num_continuous\n",
    "\n",
    "        if self.num_continuous > 0:\n",
    "            self.numerical_embedder = NumericalEmbedder(dim, self.num_continuous)\n",
    "            self.numer_bn = BatchNormSequence(dim)\n",
    "\n",
    "\n",
    "        # cls token\n",
    "\n",
    "        self.cls_token = nn.Parameter(torch.randn(1, 1, dim))\n",
    "        self.pre_transformer_bn = BatchNormSequence(dim)\n",
    "\n",
    "        # transformer\n",
    "\n",
    "        self.transformer = Transformer(\n",
    "            dim = dim,\n",
    "            depth = depth,\n",
    "            heads = heads,\n",
    "            dim_head = dim_head,\n",
    "            attn_dropout = attn_dropout,\n",
    "            ff_dropout = ff_dropout\n",
    "        )\n",
    "\n",
    "        # to logits\n",
    "\n",
    "        self.to_logits = nn.Sequential(\n",
    "            nn.LayerNorm(dim),\n",
    "            nn.ReLU(),\n",
    "            nn.Linear(dim, dim_out)\n",
    "        )\n",
    "\n",
    "    def forward(self, x_categ, x_numer, return_attn = False):\n",
    "        assert x_categ.shape[-1] == self.num_categories, f'you must pass in {self.num_categories} values for your categories input'\n",
    "\n",
    "        xs = []\n",
    "        if self.num_unique_categories > 0:\n",
    "            x_categ = x_categ + self.categories_offset\n",
    "\n",
    "            x_categ = self.categorical_embeds(x_categ)\n",
    "            x_categ = self.categ_bn(x_categ)\n",
    "            xs.append(x_categ)\n",
    "\n",
    "        # add numerically embedded tokens\n",
    "        if self.num_continuous > 0:\n",
    "            x_numer = self.numerical_embedder(x_numer)\n",
    "            x_numer = self.numer_bn(x_numer)\n",
    "            xs.append(x_numer)\n",
    "\n",
    "        # concat categorical and numerical\n",
    "\n",
    "        x = torch.cat(xs, dim = 1)\n",
    "        x = self.pre_transformer_bn(x)\n",
    "\n",
    "\n",
    "        # append cls tokens\n",
    "        b = x.shape[0]\n",
    "        cls_tokens = repeat(self.cls_token, '1 1 d -> b 1 d', b = b)\n",
    "        x = torch.cat((cls_tokens, x), dim = 1)\n",
    "        \n",
    "        # attend\n",
    "\n",
    "        x, attns = self.transformer(x, return_attn = True)\n",
    "\n",
    "        # get cls token\n",
    "\n",
    "        x = x[:, 0]\n",
    "\n",
    "        # out in the paper is linear(relu(ln(cls)))\n",
    "\n",
    "        logits = self.to_logits(x)\n",
    "\n",
    "        if not return_attn:\n",
    "            return logits\n",
    "\n",
    "        return logits, attns\n"
   ]
  },
  {
   "cell_type": "code",
   "execution_count": 26,
   "id": "f73eb5b3",
   "metadata": {
    "execution": {
     "iopub.execute_input": "2024-12-19T22:02:41.859532Z",
     "iopub.status.busy": "2024-12-19T22:02:41.859062Z",
     "iopub.status.idle": "2024-12-19T22:02:41.863093Z",
     "shell.execute_reply": "2024-12-19T22:02:41.862288Z"
    },
    "papermill": {
     "duration": 0.01771,
     "end_time": "2024-12-19T22:02:41.864710",
     "exception": false,
     "start_time": "2024-12-19T22:02:41.847000",
     "status": "completed"
    },
    "tags": []
   },
   "outputs": [],
   "source": [
    "from sklearn.base import BaseEstimator, RegressorMixin\n",
    "from torch.utils.data import DataLoader, TensorDataset\n",
    "from sklearn.model_selection import train_test_split\n",
    "from sklearn.preprocessing import StandardScaler\n",
    "import os\n",
    "import torch"
   ]
  },
  {
   "cell_type": "code",
   "execution_count": 27,
   "id": "c56f5840",
   "metadata": {
    "execution": {
     "iopub.execute_input": "2024-12-19T22:02:41.888434Z",
     "iopub.status.busy": "2024-12-19T22:02:41.887958Z",
     "iopub.status.idle": "2024-12-19T22:02:41.891650Z",
     "shell.execute_reply": "2024-12-19T22:02:41.890893Z"
    },
    "papermill": {
     "duration": 0.017218,
     "end_time": "2024-12-19T22:02:41.893164",
     "exception": false,
     "start_time": "2024-12-19T22:02:41.875946",
     "status": "completed"
    },
    "tags": []
   },
   "outputs": [],
   "source": [
    "from sklearn.metrics import cohen_kappa_score\n",
    "\n",
    "def qwk(y_true, y_pred):\n",
    "    return cohen_kappa_score(y_true, y_pred, weights='quadratic')"
   ]
  },
  {
   "cell_type": "code",
   "execution_count": 28,
   "id": "23d08668",
   "metadata": {
    "execution": {
     "iopub.execute_input": "2024-12-19T22:02:41.917566Z",
     "iopub.status.busy": "2024-12-19T22:02:41.917305Z",
     "iopub.status.idle": "2024-12-19T22:02:41.938597Z",
     "shell.execute_reply": "2024-12-19T22:02:41.937815Z"
    },
    "papermill": {
     "duration": 0.035128,
     "end_time": "2024-12-19T22:02:41.940186",
     "exception": false,
     "start_time": "2024-12-19T22:02:41.905058",
     "status": "completed"
    },
    "tags": []
   },
   "outputs": [],
   "source": [
    "class FTTransformerWrapper(BaseEstimator, RegressorMixin):\n",
    "    def __init__(self, categories, num_continuous, dim, dim_out, depth, heads, attn_dropout, \n",
    "                 ff_dropout, batch_size, num_epochs, learning_rate, cat_ranges, cat_idx):\n",
    "        self.categories = categories\n",
    "        self.num_continuous = num_continuous\n",
    "        self.dim = dim\n",
    "        self.dim_out = dim_out\n",
    "        self.depth = depth\n",
    "        self.heads = heads\n",
    "        self.attn_dropout = attn_dropout\n",
    "        self.ff_dropout = ff_dropout\n",
    "        self.batch_size = batch_size\n",
    "        self.num_epochs = num_epochs\n",
    "        self.learning_rate = learning_rate\n",
    "        self.device = torch.device('cuda' if torch.cuda.is_available() else 'cpu')\n",
    "        self.cat_ranges = cat_ranges\n",
    "        self.cat_idx = cat_idx\n",
    "        self.num_epochs = num_epochs\n",
    "        \n",
    "    def _init_model(self):\n",
    "        self.model = FTTransformer(\n",
    "            categories=self.categories,\n",
    "            num_continuous=self.num_continuous,\n",
    "            dim=self.dim,\n",
    "            dim_out=self.dim_out,\n",
    "            depth=self.depth,\n",
    "            heads=self.heads,\n",
    "            attn_dropout=self.attn_dropout,\n",
    "            ff_dropout=self.ff_dropout\n",
    "        ).to(self.device)\n",
    "        self.criterion = torch.nn.MSELoss()\n",
    "        self.optimizer = torch.optim.Adam(self.model.parameters(), lr=self.learning_rate)\n",
    "\n",
    "    def fit(self, X, y):\n",
    "        X_train, X_val, y_train, y_val = train_test_split(X, y, test_size=0.2, random_state=42)\n",
    "        from sklearn.preprocessing import StandardScaler\n",
    "        self.scaler = StandardScaler()\n",
    "        scaled_X_train = self.scaler.fit_transform(X_train)\n",
    "        scaled_X_val = self.scaler.transform(X_val)\n",
    "        \n",
    "        train_dataset = MyDataset(scaled_X_train, y_train, self.cat_idx)\n",
    "        val_dataset = MyDataset(scaled_X_val, y_val, self.cat_idx)\n",
    "        train_loader = DataLoader(train_dataset, batch_size=32, shuffle=True)\n",
    "        val_loader = DataLoader(val_dataset, batch_size=32, shuffle=True)\n",
    "\n",
    "        self._init_model()\n",
    "        best_val_loss = float('inf')\n",
    "\n",
    "        save_path='model_checkpoints'\n",
    "        os.makedirs(save_path, exist_ok=True)\n",
    "\n",
    "        for epoch in range(self.num_epochs):\n",
    "            self.model.train()\n",
    "            train_loss = 0\n",
    "            for x_cat, x_num, y in train_loader:\n",
    "                x_cat = x_cat.to(self.device) if x_cat is not None else None\n",
    "                x_num = x_num.to(self.device)\n",
    "                y = y.to(self.device)\n",
    "\n",
    "                self.optimizer.zero_grad()\n",
    "                output = self.model(x_cat, x_num).squeeze(1)\n",
    "                \n",
    "                loss = self.criterion(output, y)\n",
    "                loss.backward()\n",
    "                self.optimizer.step()\n",
    "                train_loss += loss.item()\n",
    "            \n",
    "            self.model.eval()\n",
    "            val_loss = 0\n",
    "            with torch.no_grad():\n",
    "                for x_cat, x_num, y in val_loader:\n",
    "                    x_cat = x_cat.to(self.device) if x_cat is not None else None\n",
    "                    x_num = x_num.to(self.device)\n",
    "                    y = y.to(self.device)\n",
    "                    \n",
    "                    output = self.model(x_cat, x_num).squeeze(1)\n",
    "\n",
    "                    val_loss += self.criterion(output, y).item()\n",
    "\n",
    "            avg_train_loss = train_loss / len(train_loader)\n",
    "            avg_val_loss = val_loss / len(val_loader)\n",
    "            print(f'Epoch {epoch+1}, Train Loss: {avg_train_loss:.4f}, Val Loss: {avg_val_loss:.4f}')\n",
    "\n",
    "            if avg_val_loss < best_val_loss:\n",
    "                best_val_loss = avg_val_loss\n",
    "                checkpoint = {\n",
    "                    'epoch': epoch,\n",
    "                    'model_state_dict': self.model.state_dict(),\n",
    "                    'optimizer_state_dict': self.optimizer.state_dict(),\n",
    "                    'train_loss': avg_train_loss,\n",
    "                    'val_loss': avg_val_loss,\n",
    "                    'best_val_loss': best_val_loss\n",
    "                }\n",
    "                torch.save(checkpoint, os.path.join(save_path, f'best_model.pth'))\n",
    "                print(f'Saved best model with validation loss: {best_val_loss:.4f}')\n",
    "\n",
    "    def load_model(self, model, checkpoint_path):\n",
    "        checkpoint = torch.load(checkpoint_path)\n",
    "        model.load_state_dict(checkpoint['model_state_dict'])\n",
    "        return model\n",
    "\n",
    "    def load_model_checkpoint(self, checkpoint_path):\n",
    "        try:\n",
    "            checkpoint = torch.load(checkpoint_path, map_location=self.device)\n",
    "            self.model.load_state_dict(checkpoint['model_state_dict'])\n",
    "            self.model.to(self.device)\n",
    "            self.model.eval()\n",
    "            print(f\"Model loaded from {checkpoint_path}\")\n",
    "        except Exception as e:\n",
    "            print(f\"Error loading the model: {e}\")\n",
    "    \n",
    "    def predict(self, X):\n",
    "        self.model = self.load_model(self.model, \"/kaggle/working/model_checkpoints/best_model.pth\")\n",
    "\n",
    "        def divide_cat_num(data, cat_idx):\n",
    "            mask = np.zeros(data.shape[1], dtype=bool)\n",
    "            mask[cat_idx] = True\n",
    "            cat_elements = data[:, mask]\n",
    "            remaining_elements = data[:, ~mask]\n",
    "            return cat_elements, remaining_elements\n",
    "\n",
    "        self.model.eval()\n",
    "        new_test_values = X.values\n",
    "        new_test_values = self.scaler.transform(new_test_values)\n",
    "        num_samples = len(new_test_values)\n",
    "        predictions = []\n",
    "\n",
    "        for i in range(0, num_samples, self.batch_size):\n",
    "            batch_data = new_test_values[i:i + self.batch_size]\n",
    "            cat, num = divide_cat_num(batch_data, self.cat_idx)\n",
    "            cat = torch.tensor(cat, dtype=torch.int32).to(self.device)\n",
    "            num = torch.tensor(num, dtype=torch.float32).to(self.device)\n",
    "\n",
    "            with torch.no_grad():\n",
    "                output = self.model(cat, num)\n",
    "                output = output.squeeze(1)\n",
    "                predictions.extend(output.cpu().numpy())\n",
    "\n",
    "            del cat\n",
    "            del num\n",
    "            del output\n",
    "            torch.cuda.empty_cache()\n",
    "\n",
    "        return np.array(predictions)"
   ]
  },
  {
   "cell_type": "markdown",
   "id": "6f2c3050",
   "metadata": {
    "papermill": {
     "duration": 0.01096,
     "end_time": "2024-12-19T22:02:41.984456",
     "exception": false,
     "start_time": "2024-12-19T22:02:41.973496",
     "status": "completed"
    },
    "tags": []
   },
   "source": [
    "## Submission preparation"
   ]
  },
  {
   "cell_type": "code",
   "execution_count": 29,
   "id": "d26e6948",
   "metadata": {
    "execution": {
     "iopub.execute_input": "2024-12-19T22:02:42.007679Z",
     "iopub.status.busy": "2024-12-19T22:02:42.007416Z",
     "iopub.status.idle": "2024-12-19T22:02:42.011794Z",
     "shell.execute_reply": "2024-12-19T22:02:42.011000Z"
    },
    "papermill": {
     "duration": 0.017738,
     "end_time": "2024-12-19T22:02:42.013322",
     "exception": false,
     "start_time": "2024-12-19T22:02:41.995584",
     "status": "completed"
    },
    "tags": []
   },
   "outputs": [],
   "source": [
    "def thresh_rounder_opt(oof_non_rounded, thresholds):\n",
    "    return np.where(oof_non_rounded < thresholds[0], 0,\n",
    "                    np.where(oof_non_rounded < thresholds[1], 1,\n",
    "                             np.where(oof_non_rounded < thresholds[2], 2, 3)))\n",
    "\n",
    "def eval_preds(thresholds, y_true, oof_non_rounded):\n",
    "    rounded_p = thresh_rounder_opt(oof_non_rounded, thresholds)\n",
    "    return -qwk(y_true, rounded_p)"
   ]
  },
  {
   "cell_type": "code",
   "execution_count": 30,
   "id": "2d83c050",
   "metadata": {
    "execution": {
     "iopub.execute_input": "2024-12-19T22:02:42.036728Z",
     "iopub.status.busy": "2024-12-19T22:02:42.036483Z",
     "iopub.status.idle": "2024-12-19T22:02:42.040100Z",
     "shell.execute_reply": "2024-12-19T22:02:42.039381Z"
    },
    "papermill": {
     "duration": 0.017055,
     "end_time": "2024-12-19T22:02:42.041678",
     "exception": false,
     "start_time": "2024-12-19T22:02:42.024623",
     "status": "completed"
    },
    "tags": []
   },
   "outputs": [],
   "source": [
    "from sklearn.model_selection import KFold\n",
    "from sklearn.model_selection import StratifiedKFold\n",
    "from scipy.optimize import minimize\n",
    "from sklearn.base import clone"
   ]
  },
  {
   "cell_type": "code",
   "execution_count": 31,
   "id": "d3e13d05",
   "metadata": {
    "execution": {
     "iopub.execute_input": "2024-12-19T22:02:42.065149Z",
     "iopub.status.busy": "2024-12-19T22:02:42.064920Z",
     "iopub.status.idle": "2024-12-19T22:02:42.072175Z",
     "shell.execute_reply": "2024-12-19T22:02:42.071567Z"
    },
    "papermill": {
     "duration": 0.020758,
     "end_time": "2024-12-19T22:02:42.073660",
     "exception": false,
     "start_time": "2024-12-19T22:02:42.052902",
     "status": "completed"
    },
    "tags": []
   },
   "outputs": [],
   "source": [
    "sample = pd.read_csv('/kaggle/input/child-mind-institute-problematic-internet-use/sample_submission.csv')"
   ]
  },
  {
   "cell_type": "code",
   "execution_count": 32,
   "id": "e6bbcb04",
   "metadata": {
    "execution": {
     "iopub.execute_input": "2024-12-19T22:02:42.097277Z",
     "iopub.status.busy": "2024-12-19T22:02:42.097036Z",
     "iopub.status.idle": "2024-12-19T22:02:42.100465Z",
     "shell.execute_reply": "2024-12-19T22:02:42.099672Z"
    },
    "papermill": {
     "duration": 0.017034,
     "end_time": "2024-12-19T22:02:42.102000",
     "exception": false,
     "start_time": "2024-12-19T22:02:42.084966",
     "status": "completed"
    },
    "tags": []
   },
   "outputs": [],
   "source": [
    "n_splits = 5\n",
    "SEED = 42"
   ]
  },
  {
   "cell_type": "code",
   "execution_count": 33,
   "id": "d0a7d5bc",
   "metadata": {
    "execution": {
     "iopub.execute_input": "2024-12-19T22:02:42.131900Z",
     "iopub.status.busy": "2024-12-19T22:02:42.131432Z",
     "iopub.status.idle": "2024-12-19T22:02:42.135234Z",
     "shell.execute_reply": "2024-12-19T22:02:42.134580Z"
    },
    "papermill": {
     "duration": 0.017522,
     "end_time": "2024-12-19T22:02:42.136704",
     "exception": false,
     "start_time": "2024-12-19T22:02:42.119182",
     "status": "completed"
    },
    "tags": []
   },
   "outputs": [],
   "source": [
    "def thresh_rounder(oof_non_rounded):\n",
    "    return np.where(oof_non_rounded <= 30, 0,\n",
    "                    np.where(oof_non_rounded <= 49, 1,\n",
    "                             np.where(oof_non_rounded <= 79, 2, 3)))"
   ]
  },
  {
   "cell_type": "code",
   "execution_count": 34,
   "id": "f0b70b19",
   "metadata": {
    "execution": {
     "iopub.execute_input": "2024-12-19T22:02:42.160118Z",
     "iopub.status.busy": "2024-12-19T22:02:42.159862Z",
     "iopub.status.idle": "2024-12-19T22:02:42.167225Z",
     "shell.execute_reply": "2024-12-19T22:02:42.166572Z"
    },
    "papermill": {
     "duration": 0.020747,
     "end_time": "2024-12-19T22:02:42.168703",
     "exception": false,
     "start_time": "2024-12-19T22:02:42.147956",
     "status": "completed"
    },
    "tags": []
   },
   "outputs": [],
   "source": [
    "def prepare_submission(model_class, test_data):\n",
    "    X = new_X\n",
    "    y = new_y['sii']\n",
    "    \n",
    "    KF = StratifiedKFold(n_splits=n_splits, shuffle=True, random_state=42)\n",
    "    \n",
    "    train_S = []\n",
    "    test_S = []\n",
    "    \n",
    "    oof_non_rounded = np.zeros(len(y), dtype=float) \n",
    "    oof_rounded = np.zeros(len(y), dtype=int) \n",
    "    test_preds = np.zeros((len(test_data), n_splits))\n",
    "\n",
    "    for fold, (train_idx, test_idx) in enumerate(tqdm(KF.split(X, y), desc=\"Training Folds\", total=n_splits)):\n",
    "        X_train, X_val = X.iloc[train_idx], X.iloc[test_idx]\n",
    "        y_train, y_val = y.iloc[train_idx], y.iloc[test_idx]\n",
    "\n",
    "        model = clone(model_class)\n",
    "        model.fit(X_train, y_train)\n",
    "\n",
    "        y_train_pred = model.predict(X_train)\n",
    "        y_val_pred = model.predict(X_val)\n",
    "\n",
    "        oof_non_rounded[test_idx] = y_val_pred\n",
    "        oof_rounded[test_idx] = y_val_pred.round(0).astype(int)\n",
    "\n",
    "        train_kappa = qwk(y_train, y_train_pred.round(0).astype(int))\n",
    "        val_kappa = qwk(y_val, y_val_pred.round(0).astype(int))\n",
    "\n",
    "        train_S.append(train_kappa)\n",
    "        test_S.append(val_kappa)\n",
    "        \n",
    "        test_preds[:, fold] = model.predict(test_data)\n",
    "\n",
    "    qwkOptimizer = minimize(eval_preds, x0=[0.5, 1.5, 2.5], args=(y, oof_non_rounded), method='Nelder-Mead')\n",
    "    tpm = test_preds.mean(axis=1)\n",
    "    tp_tuned = thresh_rounder_opt(tpm, qwkOptimizer.x)\n",
    "    print(tpm)\n",
    "\n",
    "    submission = pd.DataFrame({\n",
    "        'id': sample['id'],\n",
    "        'sii': tp_tuned\n",
    "    })\n",
    "\n",
    "    return submission"
   ]
  },
  {
   "cell_type": "markdown",
   "id": "b220733f",
   "metadata": {
    "papermill": {
     "duration": 0.011446,
     "end_time": "2024-12-19T22:02:42.191548",
     "exception": false,
     "start_time": "2024-12-19T22:02:42.180102",
     "status": "completed"
    },
    "tags": []
   },
   "source": [
    "## Major voting with ensemble and KFold"
   ]
  },
  {
   "cell_type": "code",
   "execution_count": 35,
   "id": "4dacc3d5",
   "metadata": {
    "execution": {
     "iopub.execute_input": "2024-12-19T22:02:42.214765Z",
     "iopub.status.busy": "2024-12-19T22:02:42.214509Z",
     "iopub.status.idle": "2024-12-19T22:02:45.069532Z",
     "shell.execute_reply": "2024-12-19T22:02:45.068820Z"
    },
    "papermill": {
     "duration": 2.868972,
     "end_time": "2024-12-19T22:02:45.071621",
     "exception": false,
     "start_time": "2024-12-19T22:02:42.202649",
     "status": "completed"
    },
    "tags": []
   },
   "outputs": [],
   "source": [
    "from lightgbm import LGBMRegressor\n",
    "from xgboost import XGBRegressor\n",
    "from catboost import CatBoostRegressor\n",
    "from sklearn.ensemble import VotingRegressor"
   ]
  },
  {
   "cell_type": "markdown",
   "id": "82565427",
   "metadata": {
    "papermill": {
     "duration": 0.011163,
     "end_time": "2024-12-19T22:02:45.095039",
     "exception": false,
     "start_time": "2024-12-19T22:02:45.083876",
     "status": "completed"
    },
    "tags": []
   },
   "source": [
    "### Submission 1"
   ]
  },
  {
   "cell_type": "code",
   "execution_count": 36,
   "id": "db1a76b6",
   "metadata": {
    "execution": {
     "iopub.execute_input": "2024-12-19T22:02:45.119587Z",
     "iopub.status.busy": "2024-12-19T22:02:45.118551Z",
     "iopub.status.idle": "2024-12-19T22:02:45.124929Z",
     "shell.execute_reply": "2024-12-19T22:02:45.124200Z"
    },
    "papermill": {
     "duration": 0.020255,
     "end_time": "2024-12-19T22:02:45.126524",
     "exception": false,
     "start_time": "2024-12-19T22:02:45.106269",
     "status": "completed"
    },
    "tags": []
   },
   "outputs": [],
   "source": [
    "lgbm_params = {\n",
    "    'learning_rate': 0.046,\n",
    "    'max_depth': 12,\n",
    "    'num_leaves': 478,\n",
    "    'feature_fraction': 0.893,\n",
    "    'bagging_fraction': 0.784,\n",
    "    'bagging_freq': 4,\n",
    "    'lambda_l1': 10,\n",
    "    'lambda_l2': 0.01,\n",
    "    'device': 'cpu'\n",
    "}\n",
    "\n",
    "xgb_params = {\n",
    "    'learning_rate': 0.05,\n",
    "    'max_depth': 6,\n",
    "    'n_estimators': 200,\n",
    "    'subsample': 0.8,\n",
    "    'colsample_bytree': 0.8,\n",
    "    'reg_alpha': 1,\n",
    "    'reg_lambda': 5,\n",
    "    'random_state': 42,\n",
    "    'device': \"cuda\"\n",
    "}\n",
    "\n",
    "\n",
    "catboost_params = {\n",
    "    'learning_rate': 0.05,\n",
    "    'depth': 6,\n",
    "    'iterations': 200,\n",
    "    'random_seed': 42,\n",
    "    'verbose': 0,\n",
    "    'l2_leaf_reg': 10,\n",
    "    'task_type': 'GPU',\n",
    "}\n",
    "\n",
    "ftt_params = {\n",
    "    'categories': tuple(cat_ranges), \n",
    "    'num_continuous': num_continuous,    \n",
    "    'dim': 16,             \n",
    "    'dim_out': 1,          \n",
    "    'depth': 2,            \n",
    "    'heads': 3,            \n",
    "    'attn_dropout': 0.1,   \n",
    "    'ff_dropout': 0.2,\n",
    "    'batch_size': 32,\n",
    "    'num_epochs': 70,\n",
    "    'learning_rate': 0.001,\n",
    "    'cat_ranges': cat_ranges,\n",
    "    'cat_idx': cat_idx \n",
    "}"
   ]
  },
  {
   "cell_type": "code",
   "execution_count": 37,
   "id": "d8058190",
   "metadata": {
    "execution": {
     "iopub.execute_input": "2024-12-19T22:02:45.151020Z",
     "iopub.status.busy": "2024-12-19T22:02:45.150239Z",
     "iopub.status.idle": "2024-12-19T22:02:45.217239Z",
     "shell.execute_reply": "2024-12-19T22:02:45.216503Z"
    },
    "papermill": {
     "duration": 0.080831,
     "end_time": "2024-12-19T22:02:45.218987",
     "exception": false,
     "start_time": "2024-12-19T22:02:45.138156",
     "status": "completed"
    },
    "tags": []
   },
   "outputs": [],
   "source": [
    "FTT_Model = FTTransformerWrapper(**ftt_params)\n",
    "LGBM_Model = LGBMRegressor(**lgbm_params, random_state=42, n_estimators=300, verbose=-1)\n",
    "XGB_Model = XGBRegressor(**xgb_params)\n",
    "CatBoost_Model = CatBoostRegressor(**catboost_params)"
   ]
  },
  {
   "cell_type": "code",
   "execution_count": null,
   "id": "ea115222",
   "metadata": {
    "execution": {
     "iopub.execute_input": "2024-12-19T22:02:45.243501Z",
     "iopub.status.busy": "2024-12-19T22:02:45.242835Z",
     "iopub.status.idle": "2024-12-19T22:06:00.272890Z",
     "shell.execute_reply": "2024-12-19T22:06:00.271848Z"
    },
    "papermill": {
     "duration": 195.044488,
     "end_time": "2024-12-19T22:06:00.275136",
     "exception": false,
     "start_time": "2024-12-19T22:02:45.230648",
     "status": "completed"
    },
    "tags": []
   },
   "outputs": [],
   "source": [
    "n_splits = 5\n",
    "SEED = 42\n",
    "X = new_X\n",
    "y = new_y['sii']\n",
    "\n",
    "KF = KFold(n_splits=n_splits, shuffle=True, random_state=42)\n",
    "\n",
    "for fold, (train_idx, test_idx) in enumerate(tqdm(KF.split(X, y), desc=\"Training Folds\", total=n_splits)):\n",
    "    X_train, X_val = X.iloc[train_idx], X.iloc[test_idx]\n",
    "    y_train, y_val = y.iloc[train_idx], y.iloc[test_idx]\n",
    "    \n",
    "    # Train LightGBM\n",
    "    LGBM_Model.fit(\n",
    "        X_train, y_train,\n",
    "        eval_set=[(X_val, y_val)],\n",
    "        eval_metric='mse',\n",
    "    )\n",
    "    \n",
    "    # Train XGBoost\n",
    "    XGB_Model.fit(\n",
    "        X_train, y_train,\n",
    "        eval_set=[(X_val, y_val)],\n",
    "        eval_metric='rmse',\n",
    "        early_stopping_rounds=30,\n",
    "        verbose=True\n",
    "    )\n",
    "    \n",
    "    # Train CatBoost\n",
    "    CatBoost_Model.fit(\n",
    "        X_train, y_train,\n",
    "        eval_set=(X_val, y_val),\n",
    "        use_best_model=True,\n",
    "        verbose=10\n",
    "    )\n",
    "    \n",
    "    # Train FTT_Model\n",
    "    FTT_Model.fit(\n",
    "        X_train, y_train,\n",
    "    )"
   ]
  },
  {
   "cell_type": "code",
   "execution_count": 39,
   "id": "9d98bc34",
   "metadata": {
    "execution": {
     "iopub.execute_input": "2024-12-19T22:06:00.369552Z",
     "iopub.status.busy": "2024-12-19T22:06:00.369231Z",
     "iopub.status.idle": "2024-12-19T22:06:00.373803Z",
     "shell.execute_reply": "2024-12-19T22:06:00.372959Z"
    },
    "papermill": {
     "duration": 0.052422,
     "end_time": "2024-12-19T22:06:00.375489",
     "exception": false,
     "start_time": "2024-12-19T22:06:00.323067",
     "status": "completed"
    },
    "tags": []
   },
   "outputs": [],
   "source": [
    "voting_model = VotingRegressor(estimators=[\n",
    "    ('lightgbm', LGBM_Model),\n",
    "    ('xgboost', XGB_Model),\n",
    "    ('catboost', CatBoost_Model),\n",
    "    ('ftt', FTT_Model),\n",
    "],weights=[4.0,4.0,5.0, 3.0])"
   ]
  },
  {
   "cell_type": "code",
   "execution_count": 41,
   "id": "f0bd78ce",
   "metadata": {
    "execution": {
     "iopub.execute_input": "2024-12-19T22:06:00.561503Z",
     "iopub.status.busy": "2024-12-19T22:06:00.561188Z",
     "iopub.status.idle": "2024-12-19T22:06:00.565176Z",
     "shell.execute_reply": "2024-12-19T22:06:00.564395Z"
    },
    "papermill": {
     "duration": 0.050517,
     "end_time": "2024-12-19T22:06:00.566665",
     "exception": false,
     "start_time": "2024-12-19T22:06:00.516148",
     "status": "completed"
    },
    "tags": []
   },
   "outputs": [],
   "source": [
    "from sklearn.metrics import mean_absolute_error, mean_squared_error, r2_score\n"
   ]
  },
  {
   "cell_type": "code",
   "execution_count": null,
   "id": "c9d809f2",
   "metadata": {
    "execution": {
     "iopub.execute_input": "2024-12-19T22:06:00.657757Z",
     "iopub.status.busy": "2024-12-19T22:06:00.656918Z",
     "iopub.status.idle": "2024-12-19T22:09:00.759628Z",
     "shell.execute_reply": "2024-12-19T22:09:00.758702Z"
    },
    "papermill": {
     "duration": 180.149837,
     "end_time": "2024-12-19T22:09:00.761443",
     "exception": false,
     "start_time": "2024-12-19T22:06:00.611606",
     "status": "completed"
    },
    "tags": []
   },
   "outputs": [],
   "source": [
    "submission1 = prepare_submission(voting_model, new_test)"
   ]
  },
  {
   "cell_type": "code",
   "execution_count": 43,
   "id": "0e6ae63b",
   "metadata": {
    "execution": {
     "iopub.execute_input": "2024-12-19T22:09:00.881423Z",
     "iopub.status.busy": "2024-12-19T22:09:00.880721Z",
     "iopub.status.idle": "2024-12-19T22:09:00.889832Z",
     "shell.execute_reply": "2024-12-19T22:09:00.889013Z"
    },
    "papermill": {
     "duration": 0.070459,
     "end_time": "2024-12-19T22:09:00.891409",
     "exception": false,
     "start_time": "2024-12-19T22:09:00.820950",
     "status": "completed"
    },
    "tags": []
   },
   "outputs": [
    {
     "data": {
      "text/html": [
       "<div>\n",
       "<style scoped>\n",
       "    .dataframe tbody tr th:only-of-type {\n",
       "        vertical-align: middle;\n",
       "    }\n",
       "\n",
       "    .dataframe tbody tr th {\n",
       "        vertical-align: top;\n",
       "    }\n",
       "\n",
       "    .dataframe thead th {\n",
       "        text-align: right;\n",
       "    }\n",
       "</style>\n",
       "<table border=\"1\" class=\"dataframe\">\n",
       "  <thead>\n",
       "    <tr style=\"text-align: right;\">\n",
       "      <th></th>\n",
       "      <th>id</th>\n",
       "      <th>sii</th>\n",
       "    </tr>\n",
       "  </thead>\n",
       "  <tbody>\n",
       "    <tr>\n",
       "      <th>0</th>\n",
       "      <td>00008ff9</td>\n",
       "      <td>0</td>\n",
       "    </tr>\n",
       "    <tr>\n",
       "      <th>1</th>\n",
       "      <td>000fd460</td>\n",
       "      <td>0</td>\n",
       "    </tr>\n",
       "    <tr>\n",
       "      <th>2</th>\n",
       "      <td>00105258</td>\n",
       "      <td>1</td>\n",
       "    </tr>\n",
       "    <tr>\n",
       "      <th>3</th>\n",
       "      <td>00115b9f</td>\n",
       "      <td>1</td>\n",
       "    </tr>\n",
       "    <tr>\n",
       "      <th>4</th>\n",
       "      <td>0016bb22</td>\n",
       "      <td>1</td>\n",
       "    </tr>\n",
       "    <tr>\n",
       "      <th>5</th>\n",
       "      <td>001f3379</td>\n",
       "      <td>1</td>\n",
       "    </tr>\n",
       "    <tr>\n",
       "      <th>6</th>\n",
       "      <td>0038ba98</td>\n",
       "      <td>1</td>\n",
       "    </tr>\n",
       "    <tr>\n",
       "      <th>7</th>\n",
       "      <td>0068a485</td>\n",
       "      <td>0</td>\n",
       "    </tr>\n",
       "    <tr>\n",
       "      <th>8</th>\n",
       "      <td>0069fbed</td>\n",
       "      <td>1</td>\n",
       "    </tr>\n",
       "    <tr>\n",
       "      <th>9</th>\n",
       "      <td>0083e397</td>\n",
       "      <td>1</td>\n",
       "    </tr>\n",
       "    <tr>\n",
       "      <th>10</th>\n",
       "      <td>0087dd65</td>\n",
       "      <td>1</td>\n",
       "    </tr>\n",
       "    <tr>\n",
       "      <th>11</th>\n",
       "      <td>00abe655</td>\n",
       "      <td>1</td>\n",
       "    </tr>\n",
       "    <tr>\n",
       "      <th>12</th>\n",
       "      <td>00ae59c9</td>\n",
       "      <td>1</td>\n",
       "    </tr>\n",
       "    <tr>\n",
       "      <th>13</th>\n",
       "      <td>00af6387</td>\n",
       "      <td>1</td>\n",
       "    </tr>\n",
       "    <tr>\n",
       "      <th>14</th>\n",
       "      <td>00bd4359</td>\n",
       "      <td>1</td>\n",
       "    </tr>\n",
       "    <tr>\n",
       "      <th>15</th>\n",
       "      <td>00c0cd71</td>\n",
       "      <td>1</td>\n",
       "    </tr>\n",
       "    <tr>\n",
       "      <th>16</th>\n",
       "      <td>00d56d4b</td>\n",
       "      <td>0</td>\n",
       "    </tr>\n",
       "    <tr>\n",
       "      <th>17</th>\n",
       "      <td>00d9913d</td>\n",
       "      <td>0</td>\n",
       "    </tr>\n",
       "    <tr>\n",
       "      <th>18</th>\n",
       "      <td>00e6167c</td>\n",
       "      <td>0</td>\n",
       "    </tr>\n",
       "    <tr>\n",
       "      <th>19</th>\n",
       "      <td>00ebc35d</td>\n",
       "      <td>1</td>\n",
       "    </tr>\n",
       "  </tbody>\n",
       "</table>\n",
       "</div>"
      ],
      "text/plain": [
       "          id  sii\n",
       "0   00008ff9    0\n",
       "1   000fd460    0\n",
       "2   00105258    1\n",
       "3   00115b9f    1\n",
       "4   0016bb22    1\n",
       "5   001f3379    1\n",
       "6   0038ba98    1\n",
       "7   0068a485    0\n",
       "8   0069fbed    1\n",
       "9   0083e397    1\n",
       "10  0087dd65    1\n",
       "11  00abe655    1\n",
       "12  00ae59c9    1\n",
       "13  00af6387    1\n",
       "14  00bd4359    1\n",
       "15  00c0cd71    1\n",
       "16  00d56d4b    0\n",
       "17  00d9913d    0\n",
       "18  00e6167c    0\n",
       "19  00ebc35d    1"
      ]
     },
     "execution_count": 43,
     "metadata": {},
     "output_type": "execute_result"
    }
   ],
   "source": [
    "submission1"
   ]
  },
  {
   "cell_type": "markdown",
   "id": "f0dadc76",
   "metadata": {
    "papermill": {
     "duration": 0.059734,
     "end_time": "2024-12-19T22:09:01.010899",
     "exception": false,
     "start_time": "2024-12-19T22:09:00.951165",
     "status": "completed"
    },
    "tags": []
   },
   "source": [
    "#### Submission 2"
   ]
  },
  {
   "cell_type": "code",
   "execution_count": 44,
   "id": "db385c86",
   "metadata": {
    "execution": {
     "iopub.execute_input": "2024-12-19T22:09:01.134690Z",
     "iopub.status.busy": "2024-12-19T22:09:01.133857Z",
     "iopub.status.idle": "2024-12-19T22:09:41.545334Z",
     "shell.execute_reply": "2024-12-19T22:09:41.544323Z"
    },
    "papermill": {
     "duration": 40.474869,
     "end_time": "2024-12-19T22:09:41.547582",
     "exception": false,
     "start_time": "2024-12-19T22:09:01.072713",
     "status": "completed"
    },
    "tags": []
   },
   "outputs": [
    {
     "name": "stderr",
     "output_type": "stream",
     "text": [
      "/opt/conda/lib/python3.10/pty.py:89: RuntimeWarning: Using fork() can cause Polars to deadlock in the child process.\n",
      "In addition, using fork() with Python in general is a recipe for mysterious\n",
      "deadlocks and crashes.\n",
      "\n",
      "The most likely reason you are seeing this error is because you are using the\n",
      "multiprocessing module on Linux, which uses fork() by default. This will be\n",
      "fixed in Python 3.14. Until then, you want to use the \"spawn\" context instead.\n",
      "\n",
      "See https://docs.pola.rs/user-guide/misc/multiprocessing/ for details.\n",
      "\n",
      "  pid, fd = os.forkpty()\n"
     ]
    }
   ],
   "source": [
    "!pip -q install /kaggle/input/pytorchtabnet/pytorch_tabnet-4.1.0-py3-none-any.whl"
   ]
  },
  {
   "cell_type": "code",
   "execution_count": 45,
   "id": "38040aed",
   "metadata": {
    "execution": {
     "iopub.execute_input": "2024-12-19T22:09:41.678305Z",
     "iopub.status.busy": "2024-12-19T22:09:41.677921Z",
     "iopub.status.idle": "2024-12-19T22:09:41.696267Z",
     "shell.execute_reply": "2024-12-19T22:09:41.695399Z"
    },
    "papermill": {
     "duration": 0.086425,
     "end_time": "2024-12-19T22:09:41.698062",
     "exception": false,
     "start_time": "2024-12-19T22:09:41.611637",
     "status": "completed"
    },
    "tags": []
   },
   "outputs": [],
   "source": [
    "from pytorch_tabnet.tab_model import TabNetRegressor\n",
    "from pytorch_tabnet.callbacks import Callback\n",
    "import pytorch_tabnet\n",
    "from lightgbm import LGBMRegressor\n",
    "from xgboost import XGBRegressor\n",
    "from catboost import CatBoostRegressor\n",
    "from sklearn.linear_model import Ridge\n",
    "from sklearn.svm import SVR\n",
    "from sklearn.impute import KNNImputer"
   ]
  },
  {
   "cell_type": "code",
   "execution_count": 46,
   "id": "72a3e484",
   "metadata": {
    "execution": {
     "iopub.execute_input": "2024-12-19T22:09:41.820985Z",
     "iopub.status.busy": "2024-12-19T22:09:41.820394Z",
     "iopub.status.idle": "2024-12-19T22:09:41.834391Z",
     "shell.execute_reply": "2024-12-19T22:09:41.833570Z"
    },
    "papermill": {
     "duration": 0.076781,
     "end_time": "2024-12-19T22:09:41.835984",
     "exception": false,
     "start_time": "2024-12-19T22:09:41.759203",
     "status": "completed"
    },
    "tags": []
   },
   "outputs": [],
   "source": [
    "class TabNetWrapper(BaseEstimator, RegressorMixin):\n",
    "    def __init__(self, **kwargs):\n",
    "        self.model = TabNetRegressor(**kwargs)\n",
    "        self.kwargs = kwargs\n",
    "        self.imputer = KNNImputer(n_neighbors=5)\n",
    "        #self.imputer = SimpleImputer(strategy='median')\n",
    "        self.best_model_path = 'best_tabnet_model.pt'\n",
    "\n",
    "    def fit(self, X, y):\n",
    "        X_imputed = self.imputer.fit_transform(X)\n",
    "\n",
    "        if hasattr(y, 'values'):\n",
    "            y = y.values\n",
    "\n",
    "        X_train, X_valid, y_train, y_valid = train_test_split(\n",
    "            X_imputed,\n",
    "            y,\n",
    "            test_size=0.2,\n",
    "            random_state=42\n",
    "        )\n",
    "\n",
    "        # Train TabNet model\n",
    "        history = self.model.fit(\n",
    "            X_train=X_train,\n",
    "            y_train=y_train.reshape(-1, 1),\n",
    "            eval_set=[(X_valid, y_valid.reshape(-1, 1))],\n",
    "            eval_name=['valid'],\n",
    "            eval_metric=['mse', 'mae', 'rmse'],\n",
    "            max_epochs=500,\n",
    "            patience=50,\n",
    "            batch_size=1024,\n",
    "            virtual_batch_size=128,\n",
    "            num_workers=0,\n",
    "            drop_last=False,\n",
    "            callbacks=[\n",
    "                TabNetPretrainedModelCheckpoint(\n",
    "                    filepath=self.best_model_path,\n",
    "                    monitor='valid_mse',\n",
    "                    mode='min',\n",
    "                    save_best_only=True,\n",
    "                    verbose=True\n",
    "                )\n",
    "            ]\n",
    "        )\n",
    "\n",
    "        # Load the best model\n",
    "        if os.path.exists(self.best_model_path):\n",
    "            self.model.load_model(self.best_model_path)\n",
    "            os.remove(self.best_model_path)  # Remove temporary file\n",
    "\n",
    "        return self\n",
    "\n",
    "    def predict(self, X):\n",
    "        X_imputed = self.imputer.transform(X)\n",
    "        return self.model.predict(X_imputed).flatten()\n",
    "\n",
    "    def __deepcopy__(self, memo):\n",
    "        cls = self.__class__\n",
    "        result = cls.__new__(cls)\n",
    "        memo[id(self)] = result\n",
    "        for k, v in self.__dict__.items():\n",
    "            setattr(result, k, deepcopy(v, memo))\n",
    "        return result\n",
    "        \n",
    "TabNet_Params = {\n",
    "    'n_d': 64,\n",
    "    'n_a': 64,\n",
    "    'n_steps': 5,\n",
    "    'gamma': 1.5,\n",
    "    'n_independent': 2,\n",
    "    'n_shared': 2,\n",
    "    'lambda_sparse': 1e-4,\n",
    "    'optimizer_fn': torch.optim.Adam,\n",
    "    'optimizer_params': dict(lr=2e-2, weight_decay=1e-5),\n",
    "    'mask_type': 'entmax',\n",
    "    'scheduler_params': dict(mode=\"min\", patience=10, min_lr=1e-5, factor=0.5),\n",
    "    'scheduler_fn': torch.optim.lr_scheduler.ReduceLROnPlateau,\n",
    "    'verbose': 1,\n",
    "    'device_name': 'cuda' if torch.cuda.is_available() else 'cpu'\n",
    "}\n",
    "\n",
    "\n",
    "class TabNetPretrainedModelCheckpoint(Callback):\n",
    "    def __init__(self, filepath, monitor='val_loss', mode='min',\n",
    "                 save_best_only=True, verbose=1):\n",
    "        super().__init__()\n",
    "        self.filepath = filepath\n",
    "        self.monitor = monitor\n",
    "        self.mode = mode\n",
    "        self.save_best_only = save_best_only\n",
    "        self.verbose = verbose\n",
    "        self.best = float('inf') if mode == 'min' else -float('inf')\n",
    "\n",
    "    def on_train_begin(self, logs=None):\n",
    "        self.model = self.trainer\n",
    "\n",
    "    def on_epoch_end(self, epoch, logs=None):\n",
    "        logs = logs or {}\n",
    "        current = logs.get(self.monitor)\n",
    "        if current is None:\n",
    "            return\n",
    "\n",
    "        if (self.mode == 'min' and current < self.best) or \\\n",
    "           (self.mode == 'max' and current > self.best):\n",
    "            if self.verbose:\n",
    "                print(f'\\nEpoch {epoch}: {self.monitor} improved from {self.best:.4f} to {current:.4f}')\n",
    "            self.best = current\n",
    "            if self.save_best_only:\n",
    "                self.model.save_model(self.filepath)"
   ]
  },
  {
   "cell_type": "code",
   "execution_count": 47,
   "id": "672a6637",
   "metadata": {
    "execution": {
     "iopub.execute_input": "2024-12-19T22:09:41.957241Z",
     "iopub.status.busy": "2024-12-19T22:09:41.956894Z",
     "iopub.status.idle": "2024-12-19T22:09:41.963321Z",
     "shell.execute_reply": "2024-12-19T22:09:41.962500Z"
    },
    "papermill": {
     "duration": 0.069065,
     "end_time": "2024-12-19T22:09:41.965035",
     "exception": false,
     "start_time": "2024-12-19T22:09:41.895970",
     "status": "completed"
    },
    "tags": []
   },
   "outputs": [],
   "source": [
    "lgbm_params = {\n",
    "    'learning_rate': 0.046,\n",
    "    'max_depth': 12,\n",
    "    'num_leaves': 478,\n",
    "    'min_data_in_leaf': 13,\n",
    "    'feature_fraction': 0.893,\n",
    "    'bagging_fraction': 0.784,\n",
    "    'bagging_freq': 4,\n",
    "    'lambda_l1': 10,\n",
    "    'lambda_l2': 0.01,\n",
    "    'device': 'cpu'\n",
    "}\n",
    "CatBoost_Params = {\n",
    "        'learning_rate': 0.05,\n",
    "        'depth': 6,\n",
    "        'iterations': 200,\n",
    "        'random_seed': SEED,\n",
    "        'verbose': 0,\n",
    "        'l2_leaf_reg': 10,\n",
    "        'task_type': 'CPU',\n",
    "        'use_best_model': True\n",
    "}\n",
    "\n",
    "XGB_Params = {\n",
    "    'learning_rate': 0.05,\n",
    "    'max_depth': 6,\n",
    "    'n_estimators': 200,\n",
    "    'subsample': 0.8,\n",
    "    'colsample_bytree': 0.8,\n",
    "    'reg_alpha': 1,  \n",
    "    'reg_lambda': 5,  \n",
    "    'random_state': SEED,\n",
    "    'tree_method': 'gpu_hist',\n",
    "}\n",
    "\n",
    "ftt_params = {\n",
    "    'categories': tuple(cat_ranges), \n",
    "    'num_continuous': num_continuous,    \n",
    "    'dim': 16,             \n",
    "    'dim_out': 1,          \n",
    "    'depth': 2,            \n",
    "    'heads': 3,            \n",
    "    'attn_dropout': 0.1,   \n",
    "    'ff_dropout': 0.3,\n",
    "    'batch_size': 64 ,\n",
    "    'num_epochs': 70,\n",
    "    'learning_rate': 0.001,\n",
    "    'cat_ranges': cat_ranges,\n",
    "    'cat_idx': cat_idx \n",
    "}"
   ]
  },
  {
   "cell_type": "code",
   "execution_count": 48,
   "id": "b0e777eb",
   "metadata": {
    "execution": {
     "iopub.execute_input": "2024-12-19T22:09:42.086602Z",
     "iopub.status.busy": "2024-12-19T22:09:42.085904Z",
     "iopub.status.idle": "2024-12-19T22:09:42.098087Z",
     "shell.execute_reply": "2024-12-19T22:09:42.097142Z"
    },
    "papermill": {
     "duration": 0.074697,
     "end_time": "2024-12-19T22:09:42.099825",
     "exception": false,
     "start_time": "2024-12-19T22:09:42.025128",
     "status": "completed"
    },
    "tags": []
   },
   "outputs": [
    {
     "name": "stderr",
     "output_type": "stream",
     "text": [
      "/opt/conda/lib/python3.10/site-packages/pytorch_tabnet/abstract_model.py:82: UserWarning: Device used : cuda\n",
      "  warnings.warn(f\"Device used : {self.device}\")\n"
     ]
    }
   ],
   "source": [
    "TabNet_Model = TabNetWrapper(**TabNet_Params) \n",
    "FTT_Model = FTTransformerWrapper(**ftt_params)\n",
    "XGB_Model = XGBRegressor(**xgb_params)\n",
    "CatBoost_Model = CatBoostRegressor(**catboost_params)\n",
    "LGBM_Model = LGBMRegressor(**lgbm_params, random_state=42, n_estimators=300, verbose=-1)"
   ]
  },
  {
   "cell_type": "code",
   "execution_count": null,
   "id": "e5bceb5e",
   "metadata": {
    "execution": {
     "iopub.execute_input": "2024-12-19T22:09:42.227345Z",
     "iopub.status.busy": "2024-12-19T22:09:42.227011Z",
     "iopub.status.idle": "2024-12-19T22:12:42.459077Z",
     "shell.execute_reply": "2024-12-19T22:12:42.458201Z"
    },
    "papermill": {
     "duration": 180.297597,
     "end_time": "2024-12-19T22:12:42.462323",
     "exception": false,
     "start_time": "2024-12-19T22:09:42.164726",
     "status": "completed"
    },
    "tags": []
   },
   "outputs": [],
   "source": [
    "n_splits = 5\n",
    "SEED = 42\n",
    "X = new_X\n",
    "y = new_y['sii']\n",
    "\n",
    "KF = KFold(n_splits=n_splits, shuffle=True, random_state=42)\n",
    "\n",
    "for fold, (train_idx, test_idx) in enumerate(tqdm(KF.split(X, y), desc=\"Training Folds\", total=n_splits)):\n",
    "    X_train, X_val = X.iloc[train_idx], X.iloc[test_idx]\n",
    "    y_train, y_val = y.iloc[train_idx], y.iloc[test_idx]\n",
    "    \n",
    "    # Train LightGBM\n",
    "    LGBM_Model.fit(\n",
    "        X_train, y_train,\n",
    "        eval_set=[(X_val, y_val)],\n",
    "        eval_metric='mse',\n",
    "    )\n",
    "    \n",
    "    # Train XGBoost\n",
    "    XGB_Model.fit(\n",
    "        X_train, y_train,\n",
    "        eval_set=[(X_val, y_val)],\n",
    "        eval_metric='rmse',\n",
    "        early_stopping_rounds=30,\n",
    "        verbose=True\n",
    "    )\n",
    "    \n",
    "    # Train CatBoost\n",
    "    CatBoost_Model.fit(\n",
    "        X_train, y_train,\n",
    "        eval_set=(X_val, y_val),\n",
    "        use_best_model=True,\n",
    "        verbose=10\n",
    "    )\n",
    "    \n",
    "    # Train FTT_Model\n",
    "    FTT_Model.fit(\n",
    "        X_train, y_train,\n",
    "    )"
   ]
  },
  {
   "cell_type": "code",
   "execution_count": 50,
   "id": "b792ee43",
   "metadata": {
    "execution": {
     "iopub.execute_input": "2024-12-19T22:12:42.654644Z",
     "iopub.status.busy": "2024-12-19T22:12:42.653923Z",
     "iopub.status.idle": "2024-12-19T22:12:42.661059Z",
     "shell.execute_reply": "2024-12-19T22:12:42.660423Z"
    },
    "papermill": {
     "duration": 0.105276,
     "end_time": "2024-12-19T22:12:42.662708",
     "exception": false,
     "start_time": "2024-12-19T22:12:42.557432",
     "status": "completed"
    },
    "tags": []
   },
   "outputs": [],
   "source": [
    "voting_model = VotingRegressor(estimators=[\n",
    "    ('lightgbm', LGBM_Model),\n",
    "    ('xgboost', XGB_Model),\n",
    "    ('catboost', CatBoost_Model),\n",
    "    ('ftt', FTT_Model),\n",
    "    ('tabnet', TabNet_Model)\n",
    "],weights=[4.0,4.0,4.0, 3.0,5.0])"
   ]
  },
  {
   "cell_type": "code",
   "execution_count": null,
   "id": "849f30ea",
   "metadata": {
    "execution": {
     "iopub.execute_input": "2024-12-19T22:12:42.853636Z",
     "iopub.status.busy": "2024-12-19T22:12:42.852923Z",
     "iopub.status.idle": "2024-12-19T22:16:48.499373Z",
     "shell.execute_reply": "2024-12-19T22:16:48.498472Z"
    },
    "papermill": {
     "duration": 245.7433,
     "end_time": "2024-12-19T22:16:48.501276",
     "exception": false,
     "start_time": "2024-12-19T22:12:42.757976",
     "status": "completed"
    },
    "tags": []
   },
   "outputs": [],
   "source": [
    "submission2= prepare_submission(voting_model, new_test)"
   ]
  },
  {
   "cell_type": "code",
   "execution_count": 52,
   "id": "e3e75f19",
   "metadata": {
    "execution": {
     "iopub.execute_input": "2024-12-19T22:16:48.749163Z",
     "iopub.status.busy": "2024-12-19T22:16:48.748817Z",
     "iopub.status.idle": "2024-12-19T22:16:48.757744Z",
     "shell.execute_reply": "2024-12-19T22:16:48.756846Z"
    },
    "papermill": {
     "duration": 0.134442,
     "end_time": "2024-12-19T22:16:48.759319",
     "exception": false,
     "start_time": "2024-12-19T22:16:48.624877",
     "status": "completed"
    },
    "tags": []
   },
   "outputs": [
    {
     "data": {
      "text/html": [
       "<div>\n",
       "<style scoped>\n",
       "    .dataframe tbody tr th:only-of-type {\n",
       "        vertical-align: middle;\n",
       "    }\n",
       "\n",
       "    .dataframe tbody tr th {\n",
       "        vertical-align: top;\n",
       "    }\n",
       "\n",
       "    .dataframe thead th {\n",
       "        text-align: right;\n",
       "    }\n",
       "</style>\n",
       "<table border=\"1\" class=\"dataframe\">\n",
       "  <thead>\n",
       "    <tr style=\"text-align: right;\">\n",
       "      <th></th>\n",
       "      <th>id</th>\n",
       "      <th>sii</th>\n",
       "    </tr>\n",
       "  </thead>\n",
       "  <tbody>\n",
       "    <tr>\n",
       "      <th>0</th>\n",
       "      <td>00008ff9</td>\n",
       "      <td>0</td>\n",
       "    </tr>\n",
       "    <tr>\n",
       "      <th>1</th>\n",
       "      <td>000fd460</td>\n",
       "      <td>0</td>\n",
       "    </tr>\n",
       "    <tr>\n",
       "      <th>2</th>\n",
       "      <td>00105258</td>\n",
       "      <td>1</td>\n",
       "    </tr>\n",
       "    <tr>\n",
       "      <th>3</th>\n",
       "      <td>00115b9f</td>\n",
       "      <td>1</td>\n",
       "    </tr>\n",
       "    <tr>\n",
       "      <th>4</th>\n",
       "      <td>0016bb22</td>\n",
       "      <td>1</td>\n",
       "    </tr>\n",
       "    <tr>\n",
       "      <th>5</th>\n",
       "      <td>001f3379</td>\n",
       "      <td>1</td>\n",
       "    </tr>\n",
       "    <tr>\n",
       "      <th>6</th>\n",
       "      <td>0038ba98</td>\n",
       "      <td>1</td>\n",
       "    </tr>\n",
       "    <tr>\n",
       "      <th>7</th>\n",
       "      <td>0068a485</td>\n",
       "      <td>0</td>\n",
       "    </tr>\n",
       "    <tr>\n",
       "      <th>8</th>\n",
       "      <td>0069fbed</td>\n",
       "      <td>1</td>\n",
       "    </tr>\n",
       "    <tr>\n",
       "      <th>9</th>\n",
       "      <td>0083e397</td>\n",
       "      <td>1</td>\n",
       "    </tr>\n",
       "    <tr>\n",
       "      <th>10</th>\n",
       "      <td>0087dd65</td>\n",
       "      <td>1</td>\n",
       "    </tr>\n",
       "    <tr>\n",
       "      <th>11</th>\n",
       "      <td>00abe655</td>\n",
       "      <td>1</td>\n",
       "    </tr>\n",
       "    <tr>\n",
       "      <th>12</th>\n",
       "      <td>00ae59c9</td>\n",
       "      <td>1</td>\n",
       "    </tr>\n",
       "    <tr>\n",
       "      <th>13</th>\n",
       "      <td>00af6387</td>\n",
       "      <td>1</td>\n",
       "    </tr>\n",
       "    <tr>\n",
       "      <th>14</th>\n",
       "      <td>00bd4359</td>\n",
       "      <td>1</td>\n",
       "    </tr>\n",
       "    <tr>\n",
       "      <th>15</th>\n",
       "      <td>00c0cd71</td>\n",
       "      <td>1</td>\n",
       "    </tr>\n",
       "    <tr>\n",
       "      <th>16</th>\n",
       "      <td>00d56d4b</td>\n",
       "      <td>0</td>\n",
       "    </tr>\n",
       "    <tr>\n",
       "      <th>17</th>\n",
       "      <td>00d9913d</td>\n",
       "      <td>0</td>\n",
       "    </tr>\n",
       "    <tr>\n",
       "      <th>18</th>\n",
       "      <td>00e6167c</td>\n",
       "      <td>0</td>\n",
       "    </tr>\n",
       "    <tr>\n",
       "      <th>19</th>\n",
       "      <td>00ebc35d</td>\n",
       "      <td>1</td>\n",
       "    </tr>\n",
       "  </tbody>\n",
       "</table>\n",
       "</div>"
      ],
      "text/plain": [
       "          id  sii\n",
       "0   00008ff9    0\n",
       "1   000fd460    0\n",
       "2   00105258    1\n",
       "3   00115b9f    1\n",
       "4   0016bb22    1\n",
       "5   001f3379    1\n",
       "6   0038ba98    1\n",
       "7   0068a485    0\n",
       "8   0069fbed    1\n",
       "9   0083e397    1\n",
       "10  0087dd65    1\n",
       "11  00abe655    1\n",
       "12  00ae59c9    1\n",
       "13  00af6387    1\n",
       "14  00bd4359    1\n",
       "15  00c0cd71    1\n",
       "16  00d56d4b    0\n",
       "17  00d9913d    0\n",
       "18  00e6167c    0\n",
       "19  00ebc35d    1"
      ]
     },
     "execution_count": 52,
     "metadata": {},
     "output_type": "execute_result"
    }
   ],
   "source": [
    "submission2"
   ]
  },
  {
   "cell_type": "markdown",
   "id": "005c8744",
   "metadata": {
    "papermill": {
     "duration": 0.121616,
     "end_time": "2024-12-19T22:16:49.003379",
     "exception": false,
     "start_time": "2024-12-19T22:16:48.881763",
     "status": "completed"
    },
    "tags": []
   },
   "source": [
    "### Submission 3"
   ]
  },
  {
   "cell_type": "code",
   "execution_count": 53,
   "id": "d2edb55a",
   "metadata": {
    "execution": {
     "iopub.execute_input": "2024-12-19T22:16:49.249413Z",
     "iopub.status.busy": "2024-12-19T22:16:49.248607Z",
     "iopub.status.idle": "2024-12-19T22:16:49.254753Z",
     "shell.execute_reply": "2024-12-19T22:16:49.253946Z"
    },
    "papermill": {
     "duration": 0.13102,
     "end_time": "2024-12-19T22:16:49.256398",
     "exception": false,
     "start_time": "2024-12-19T22:16:49.125378",
     "status": "completed"
    },
    "tags": []
   },
   "outputs": [
    {
     "name": "stderr",
     "output_type": "stream",
     "text": [
      "/opt/conda/lib/python3.10/site-packages/pytorch_tabnet/abstract_model.py:82: UserWarning: Device used : cuda\n",
      "  warnings.warn(f\"Device used : {self.device}\")\n"
     ]
    }
   ],
   "source": [
    "TabNet_Model = TabNetWrapper(**TabNet_Params) \n",
    "XGB_Model = XGBRegressor(**xgb_params)\n",
    "CatBoost_Model = CatBoostRegressor(**catboost_params)\n",
    "LGBM_Model = LGBMRegressor(**lgbm_params, random_state=42, n_estimators=300, verbose=-1)"
   ]
  },
  {
   "cell_type": "code",
   "execution_count": null,
   "id": "a901146d",
   "metadata": {
    "execution": {
     "iopub.execute_input": "2024-12-19T22:16:49.505329Z",
     "iopub.status.busy": "2024-12-19T22:16:49.504971Z",
     "iopub.status.idle": "2024-12-19T22:19:52.899062Z",
     "shell.execute_reply": "2024-12-19T22:19:52.898083Z"
    },
    "papermill": {
     "duration": 183.52145,
     "end_time": "2024-12-19T22:19:52.901868",
     "exception": false,
     "start_time": "2024-12-19T22:16:49.380418",
     "status": "completed"
    },
    "tags": []
   },
   "outputs": [],
   "source": [
    "n_splits = 5\n",
    "SEED = 42\n",
    "X = new_X\n",
    "y = new_y['sii']\n",
    "\n",
    "KF = KFold(n_splits=n_splits, shuffle=True, random_state=42)\n",
    "\n",
    "for fold, (train_idx, test_idx) in enumerate(tqdm(KF.split(X, y), desc=\"Training Folds\", total=n_splits)):\n",
    "    X_train, X_val = X.iloc[train_idx], X.iloc[test_idx]\n",
    "    y_train, y_val = y.iloc[train_idx], y.iloc[test_idx]\n",
    "    \n",
    "    # Train LightGBM\n",
    "    LGBM_Model.fit(\n",
    "        X_train, y_train,\n",
    "        eval_set=[(X_val, y_val)],\n",
    "        eval_metric='mse',\n",
    "    )\n",
    "    \n",
    "    # Train XGBoost\n",
    "    XGB_Model.fit(\n",
    "        X_train, y_train,\n",
    "        eval_set=[(X_val, y_val)],\n",
    "        eval_metric='rmse',\n",
    "        early_stopping_rounds=30,\n",
    "        verbose=True\n",
    "    )\n",
    "    \n",
    "    # Train CatBoost\n",
    "    CatBoost_Model.fit(\n",
    "        X_train, y_train,\n",
    "        eval_set=(X_val, y_val),\n",
    "        use_best_model=True,\n",
    "        verbose=10\n",
    "    )\n",
    "    \n",
    "    # Train FTT_Model\n",
    "    FTT_Model.fit(\n",
    "        X_train, y_train,\n",
    "    )"
   ]
  },
  {
   "cell_type": "code",
   "execution_count": 55,
   "id": "6f7d526c",
   "metadata": {
    "execution": {
     "iopub.execute_input": "2024-12-19T22:19:53.243621Z",
     "iopub.status.busy": "2024-12-19T22:19:53.242722Z",
     "iopub.status.idle": "2024-12-19T22:19:53.248586Z",
     "shell.execute_reply": "2024-12-19T22:19:53.247712Z"
    },
    "papermill": {
     "duration": 0.177744,
     "end_time": "2024-12-19T22:19:53.250575",
     "exception": false,
     "start_time": "2024-12-19T22:19:53.072831",
     "status": "completed"
    },
    "tags": []
   },
   "outputs": [],
   "source": [
    "voting_model = VotingRegressor(estimators=[\n",
    "    ('lightgbm', LGBM_Model),\n",
    "    ('xgboost', XGB_Model),\n",
    "    ('catboost', CatBoost_Model),\n",
    "    ('tabnet', TabNet_Model)\n",
    "],weights=[4.0,3.0,5.0, 4.0])"
   ]
  },
  {
   "cell_type": "code",
   "execution_count": null,
   "id": "ba8b602a",
   "metadata": {
    "execution": {
     "iopub.execute_input": "2024-12-19T22:19:53.567533Z",
     "iopub.status.busy": "2024-12-19T22:19:53.566850Z",
     "iopub.status.idle": "2024-12-19T22:21:07.340087Z",
     "shell.execute_reply": "2024-12-19T22:21:07.339150Z"
    },
    "papermill": {
     "duration": 73.932592,
     "end_time": "2024-12-19T22:21:07.341693",
     "exception": false,
     "start_time": "2024-12-19T22:19:53.409101",
     "status": "completed"
    },
    "tags": []
   },
   "outputs": [],
   "source": [
    "submission3= prepare_submission(voting_model, new_test)"
   ]
  },
  {
   "cell_type": "code",
   "execution_count": 57,
   "id": "4122d6af",
   "metadata": {
    "execution": {
     "iopub.execute_input": "2024-12-19T22:21:07.684522Z",
     "iopub.status.busy": "2024-12-19T22:21:07.683636Z",
     "iopub.status.idle": "2024-12-19T22:21:07.692845Z",
     "shell.execute_reply": "2024-12-19T22:21:07.691916Z"
    },
    "papermill": {
     "duration": 0.179937,
     "end_time": "2024-12-19T22:21:07.694438",
     "exception": false,
     "start_time": "2024-12-19T22:21:07.514501",
     "status": "completed"
    },
    "tags": []
   },
   "outputs": [
    {
     "data": {
      "text/html": [
       "<div>\n",
       "<style scoped>\n",
       "    .dataframe tbody tr th:only-of-type {\n",
       "        vertical-align: middle;\n",
       "    }\n",
       "\n",
       "    .dataframe tbody tr th {\n",
       "        vertical-align: top;\n",
       "    }\n",
       "\n",
       "    .dataframe thead th {\n",
       "        text-align: right;\n",
       "    }\n",
       "</style>\n",
       "<table border=\"1\" class=\"dataframe\">\n",
       "  <thead>\n",
       "    <tr style=\"text-align: right;\">\n",
       "      <th></th>\n",
       "      <th>id</th>\n",
       "      <th>sii</th>\n",
       "    </tr>\n",
       "  </thead>\n",
       "  <tbody>\n",
       "    <tr>\n",
       "      <th>0</th>\n",
       "      <td>00008ff9</td>\n",
       "      <td>0</td>\n",
       "    </tr>\n",
       "    <tr>\n",
       "      <th>1</th>\n",
       "      <td>000fd460</td>\n",
       "      <td>0</td>\n",
       "    </tr>\n",
       "    <tr>\n",
       "      <th>2</th>\n",
       "      <td>00105258</td>\n",
       "      <td>1</td>\n",
       "    </tr>\n",
       "    <tr>\n",
       "      <th>3</th>\n",
       "      <td>00115b9f</td>\n",
       "      <td>1</td>\n",
       "    </tr>\n",
       "    <tr>\n",
       "      <th>4</th>\n",
       "      <td>0016bb22</td>\n",
       "      <td>1</td>\n",
       "    </tr>\n",
       "    <tr>\n",
       "      <th>5</th>\n",
       "      <td>001f3379</td>\n",
       "      <td>1</td>\n",
       "    </tr>\n",
       "    <tr>\n",
       "      <th>6</th>\n",
       "      <td>0038ba98</td>\n",
       "      <td>1</td>\n",
       "    </tr>\n",
       "    <tr>\n",
       "      <th>7</th>\n",
       "      <td>0068a485</td>\n",
       "      <td>0</td>\n",
       "    </tr>\n",
       "    <tr>\n",
       "      <th>8</th>\n",
       "      <td>0069fbed</td>\n",
       "      <td>1</td>\n",
       "    </tr>\n",
       "    <tr>\n",
       "      <th>9</th>\n",
       "      <td>0083e397</td>\n",
       "      <td>1</td>\n",
       "    </tr>\n",
       "    <tr>\n",
       "      <th>10</th>\n",
       "      <td>0087dd65</td>\n",
       "      <td>1</td>\n",
       "    </tr>\n",
       "    <tr>\n",
       "      <th>11</th>\n",
       "      <td>00abe655</td>\n",
       "      <td>1</td>\n",
       "    </tr>\n",
       "    <tr>\n",
       "      <th>12</th>\n",
       "      <td>00ae59c9</td>\n",
       "      <td>1</td>\n",
       "    </tr>\n",
       "    <tr>\n",
       "      <th>13</th>\n",
       "      <td>00af6387</td>\n",
       "      <td>1</td>\n",
       "    </tr>\n",
       "    <tr>\n",
       "      <th>14</th>\n",
       "      <td>00bd4359</td>\n",
       "      <td>1</td>\n",
       "    </tr>\n",
       "    <tr>\n",
       "      <th>15</th>\n",
       "      <td>00c0cd71</td>\n",
       "      <td>1</td>\n",
       "    </tr>\n",
       "    <tr>\n",
       "      <th>16</th>\n",
       "      <td>00d56d4b</td>\n",
       "      <td>0</td>\n",
       "    </tr>\n",
       "    <tr>\n",
       "      <th>17</th>\n",
       "      <td>00d9913d</td>\n",
       "      <td>0</td>\n",
       "    </tr>\n",
       "    <tr>\n",
       "      <th>18</th>\n",
       "      <td>00e6167c</td>\n",
       "      <td>0</td>\n",
       "    </tr>\n",
       "    <tr>\n",
       "      <th>19</th>\n",
       "      <td>00ebc35d</td>\n",
       "      <td>1</td>\n",
       "    </tr>\n",
       "  </tbody>\n",
       "</table>\n",
       "</div>"
      ],
      "text/plain": [
       "          id  sii\n",
       "0   00008ff9    0\n",
       "1   000fd460    0\n",
       "2   00105258    1\n",
       "3   00115b9f    1\n",
       "4   0016bb22    1\n",
       "5   001f3379    1\n",
       "6   0038ba98    1\n",
       "7   0068a485    0\n",
       "8   0069fbed    1\n",
       "9   0083e397    1\n",
       "10  0087dd65    1\n",
       "11  00abe655    1\n",
       "12  00ae59c9    1\n",
       "13  00af6387    1\n",
       "14  00bd4359    1\n",
       "15  00c0cd71    1\n",
       "16  00d56d4b    0\n",
       "17  00d9913d    0\n",
       "18  00e6167c    0\n",
       "19  00ebc35d    1"
      ]
     },
     "execution_count": 57,
     "metadata": {},
     "output_type": "execute_result"
    }
   ],
   "source": [
    "submission3"
   ]
  },
  {
   "cell_type": "markdown",
   "id": "c007adda",
   "metadata": {},
   "source": [
    "## Final submission"
   ]
  },
  {
   "cell_type": "code",
   "execution_count": 58,
   "id": "50b0ed4d",
   "metadata": {
    "execution": {
     "iopub.execute_input": "2024-12-19T22:21:08.037285Z",
     "iopub.status.busy": "2024-12-19T22:21:08.036554Z",
     "iopub.status.idle": "2024-12-19T22:21:08.057230Z",
     "shell.execute_reply": "2024-12-19T22:21:08.056549Z"
    },
    "papermill": {
     "duration": 0.19508,
     "end_time": "2024-12-19T22:21:08.058870",
     "exception": false,
     "start_time": "2024-12-19T22:21:07.863790",
     "status": "completed"
    },
    "tags": []
   },
   "outputs": [],
   "source": [
    "sub1 = submission1\n",
    "sub2 = submission2\n",
    "sub3 = submission3\n",
    "\n",
    "sub1 = sub1.sort_values(by='id').reset_index(drop=True)\n",
    "sub2 = sub2.sort_values(by='id').reset_index(drop=True)\n",
    "sub3 = sub3.sort_values(by='id').reset_index(drop=True)\n",
    "\n",
    "combined = pd.DataFrame({\n",
    "    'id': sub1['id'],\n",
    "    'sii_1': sub1['sii'],\n",
    "    'sii_2': sub2['sii'],\n",
    "    'sii_3': sub3['sii']\n",
    "})\n",
    "\n",
    "def majority_vote(row):\n",
    "    return row.mode()[0]\n",
    "\n",
    "combined['final_sii'] = combined[['sii_1', 'sii_2', 'sii_3']].apply(majority_vote, axis=1)\n",
    "\n",
    "sum_submission = combined[['id', 'final_sii']].rename(columns={'final_sii': 'sii'})\n",
    "sum_submission.to_csv('submission.csv', index=False)"
   ]
  },
  {
   "cell_type": "code",
   "execution_count": 59,
   "id": "199ce6cc",
   "metadata": {
    "execution": {
     "iopub.execute_input": "2024-12-19T22:21:08.444092Z",
     "iopub.status.busy": "2024-12-19T22:21:08.443416Z",
     "iopub.status.idle": "2024-12-19T22:21:08.452079Z",
     "shell.execute_reply": "2024-12-19T22:21:08.451242Z"
    },
    "papermill": {
     "duration": 0.224695,
     "end_time": "2024-12-19T22:21:08.454142",
     "exception": false,
     "start_time": "2024-12-19T22:21:08.229447",
     "status": "completed"
    },
    "tags": []
   },
   "outputs": [
    {
     "data": {
      "text/html": [
       "<div>\n",
       "<style scoped>\n",
       "    .dataframe tbody tr th:only-of-type {\n",
       "        vertical-align: middle;\n",
       "    }\n",
       "\n",
       "    .dataframe tbody tr th {\n",
       "        vertical-align: top;\n",
       "    }\n",
       "\n",
       "    .dataframe thead th {\n",
       "        text-align: right;\n",
       "    }\n",
       "</style>\n",
       "<table border=\"1\" class=\"dataframe\">\n",
       "  <thead>\n",
       "    <tr style=\"text-align: right;\">\n",
       "      <th></th>\n",
       "      <th>id</th>\n",
       "      <th>sii</th>\n",
       "    </tr>\n",
       "  </thead>\n",
       "  <tbody>\n",
       "    <tr>\n",
       "      <th>0</th>\n",
       "      <td>00008ff9</td>\n",
       "      <td>0</td>\n",
       "    </tr>\n",
       "    <tr>\n",
       "      <th>1</th>\n",
       "      <td>000fd460</td>\n",
       "      <td>0</td>\n",
       "    </tr>\n",
       "    <tr>\n",
       "      <th>2</th>\n",
       "      <td>00105258</td>\n",
       "      <td>1</td>\n",
       "    </tr>\n",
       "    <tr>\n",
       "      <th>3</th>\n",
       "      <td>00115b9f</td>\n",
       "      <td>1</td>\n",
       "    </tr>\n",
       "    <tr>\n",
       "      <th>4</th>\n",
       "      <td>0016bb22</td>\n",
       "      <td>1</td>\n",
       "    </tr>\n",
       "    <tr>\n",
       "      <th>5</th>\n",
       "      <td>001f3379</td>\n",
       "      <td>1</td>\n",
       "    </tr>\n",
       "    <tr>\n",
       "      <th>6</th>\n",
       "      <td>0038ba98</td>\n",
       "      <td>1</td>\n",
       "    </tr>\n",
       "    <tr>\n",
       "      <th>7</th>\n",
       "      <td>0068a485</td>\n",
       "      <td>0</td>\n",
       "    </tr>\n",
       "    <tr>\n",
       "      <th>8</th>\n",
       "      <td>0069fbed</td>\n",
       "      <td>1</td>\n",
       "    </tr>\n",
       "    <tr>\n",
       "      <th>9</th>\n",
       "      <td>0083e397</td>\n",
       "      <td>1</td>\n",
       "    </tr>\n",
       "    <tr>\n",
       "      <th>10</th>\n",
       "      <td>0087dd65</td>\n",
       "      <td>1</td>\n",
       "    </tr>\n",
       "    <tr>\n",
       "      <th>11</th>\n",
       "      <td>00abe655</td>\n",
       "      <td>1</td>\n",
       "    </tr>\n",
       "    <tr>\n",
       "      <th>12</th>\n",
       "      <td>00ae59c9</td>\n",
       "      <td>1</td>\n",
       "    </tr>\n",
       "    <tr>\n",
       "      <th>13</th>\n",
       "      <td>00af6387</td>\n",
       "      <td>1</td>\n",
       "    </tr>\n",
       "    <tr>\n",
       "      <th>14</th>\n",
       "      <td>00bd4359</td>\n",
       "      <td>1</td>\n",
       "    </tr>\n",
       "    <tr>\n",
       "      <th>15</th>\n",
       "      <td>00c0cd71</td>\n",
       "      <td>1</td>\n",
       "    </tr>\n",
       "    <tr>\n",
       "      <th>16</th>\n",
       "      <td>00d56d4b</td>\n",
       "      <td>0</td>\n",
       "    </tr>\n",
       "    <tr>\n",
       "      <th>17</th>\n",
       "      <td>00d9913d</td>\n",
       "      <td>0</td>\n",
       "    </tr>\n",
       "    <tr>\n",
       "      <th>18</th>\n",
       "      <td>00e6167c</td>\n",
       "      <td>0</td>\n",
       "    </tr>\n",
       "    <tr>\n",
       "      <th>19</th>\n",
       "      <td>00ebc35d</td>\n",
       "      <td>1</td>\n",
       "    </tr>\n",
       "  </tbody>\n",
       "</table>\n",
       "</div>"
      ],
      "text/plain": [
       "          id  sii\n",
       "0   00008ff9    0\n",
       "1   000fd460    0\n",
       "2   00105258    1\n",
       "3   00115b9f    1\n",
       "4   0016bb22    1\n",
       "5   001f3379    1\n",
       "6   0038ba98    1\n",
       "7   0068a485    0\n",
       "8   0069fbed    1\n",
       "9   0083e397    1\n",
       "10  0087dd65    1\n",
       "11  00abe655    1\n",
       "12  00ae59c9    1\n",
       "13  00af6387    1\n",
       "14  00bd4359    1\n",
       "15  00c0cd71    1\n",
       "16  00d56d4b    0\n",
       "17  00d9913d    0\n",
       "18  00e6167c    0\n",
       "19  00ebc35d    1"
      ]
     },
     "execution_count": 59,
     "metadata": {},
     "output_type": "execute_result"
    }
   ],
   "source": [
    "sum_submission"
   ]
  }
 ],
 "metadata": {
  "kaggle": {
   "accelerator": "gpu",
   "dataSources": [
    {
     "databundleVersionId": 9643020,
     "sourceId": 81933,
     "sourceType": "competition"
    },
    {
     "datasetId": 6261488,
     "sourceId": 10144188,
     "sourceType": "datasetVersion"
    },
    {
     "datasetId": 6274967,
     "sourceId": 10161833,
     "sourceType": "datasetVersion"
    },
    {
     "datasetId": 6303553,
     "sourceId": 10200802,
     "sourceType": "datasetVersion"
    },
    {
     "datasetId": 6305398,
     "sourceId": 10203245,
     "sourceType": "datasetVersion"
    },
    {
     "datasetId": 6308872,
     "sourceId": 10208164,
     "sourceType": "datasetVersion"
    },
    {
     "modelId": 191870,
     "modelInstanceId": 169524,
     "sourceId": 198747,
     "sourceType": "modelInstanceVersion"
    }
   ],
   "dockerImageVersionId": 30805,
   "isGpuEnabled": true,
   "isInternetEnabled": false,
   "language": "python",
   "sourceType": "notebook"
  },
  "kernelspec": {
   "display_name": "Python 3",
   "language": "python",
   "name": "python3"
  },
  "language_info": {
   "codemirror_mode": {
    "name": "ipython",
    "version": 3
   },
   "file_extension": ".py",
   "mimetype": "text/x-python",
   "name": "python",
   "nbconvert_exporter": "python",
   "pygments_lexer": "ipython3",
   "version": "3.10.14"
  },
  "papermill": {
   "default_parameters": {},
   "duration": 1196.413831,
   "end_time": "2024-12-19T22:21:11.457044",
   "environment_variables": {},
   "exception": null,
   "input_path": "__notebook__.ipynb",
   "output_path": "__notebook__.ipynb",
   "parameters": {},
   "start_time": "2024-12-19T22:01:15.043213",
   "version": "2.6.0"
  }
 },
 "nbformat": 4,
 "nbformat_minor": 5
}
