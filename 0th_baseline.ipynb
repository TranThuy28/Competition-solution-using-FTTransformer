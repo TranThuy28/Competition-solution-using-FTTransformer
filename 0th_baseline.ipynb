{
 "cells": [
  {
   "cell_type": "markdown",
   "id": "89ba3625",
   "metadata": {
    "papermill": {
     "duration": 0.005841,
     "end_time": "2024-12-15T04:51:28.882122",
     "exception": false,
     "start_time": "2024-12-15T04:51:28.876281",
     "status": "completed"
    },
    "tags": []
   },
   "source": [
    "### In this notebook, we will run a very simple baseline using only FTTransformer"
   ]
  },
  {
   "cell_type": "code",
   "execution_count": 1,
   "id": "ed1e2e0f",
   "metadata": {
    "execution": {
     "iopub.execute_input": "2024-12-15T04:51:28.894777Z",
     "iopub.status.busy": "2024-12-15T04:51:28.894416Z",
     "iopub.status.idle": "2024-12-15T04:51:29.563555Z",
     "shell.execute_reply": "2024-12-15T04:51:29.562891Z"
    },
    "papermill": {
     "duration": 0.678234,
     "end_time": "2024-12-15T04:51:29.565543",
     "exception": false,
     "start_time": "2024-12-15T04:51:28.887309",
     "status": "completed"
    },
    "tags": []
   },
   "outputs": [],
   "source": [
    "import numpy as np\n",
    "import pandas as pd"
   ]
  },
  {
   "cell_type": "markdown",
   "id": "8626e60a",
   "metadata": {
    "papermill": {
     "duration": 0.004753,
     "end_time": "2024-12-15T04:51:29.575571",
     "exception": false,
     "start_time": "2024-12-15T04:51:29.570818",
     "status": "completed"
    },
    "tags": []
   },
   "source": [
    "#### Drop any samplers which only missed any values in PCIAT test"
   ]
  },
  {
   "cell_type": "code",
   "execution_count": 2,
   "id": "ace73a8c",
   "metadata": {
    "execution": {
     "iopub.execute_input": "2024-12-15T04:51:29.586895Z",
     "iopub.status.busy": "2024-12-15T04:51:29.586050Z",
     "iopub.status.idle": "2024-12-15T04:51:29.649794Z",
     "shell.execute_reply": "2024-12-15T04:51:29.649162Z"
    },
    "papermill": {
     "duration": 0.071232,
     "end_time": "2024-12-15T04:51:29.651650",
     "exception": false,
     "start_time": "2024-12-15T04:51:29.580418",
     "status": "completed"
    },
    "tags": []
   },
   "outputs": [],
   "source": [
    "train_data = pd.read_csv(\"/kaggle/input/child-mind-institute-problematic-internet-use/train.csv\")\n",
    "test_data = pd.read_csv(\"/kaggle/input/child-mind-institute-problematic-internet-use/test.csv\")"
   ]
  },
  {
   "cell_type": "code",
   "execution_count": 3,
   "id": "01d04e8e",
   "metadata": {
    "execution": {
     "iopub.execute_input": "2024-12-15T04:51:29.663399Z",
     "iopub.status.busy": "2024-12-15T04:51:29.662704Z",
     "iopub.status.idle": "2024-12-15T04:51:29.676951Z",
     "shell.execute_reply": "2024-12-15T04:51:29.676150Z"
    },
    "papermill": {
     "duration": 0.021673,
     "end_time": "2024-12-15T04:51:29.678494",
     "exception": false,
     "start_time": "2024-12-15T04:51:29.656821",
     "status": "completed"
    },
    "tags": []
   },
   "outputs": [],
   "source": [
    "columns_not_in_test = ['PCIAT-PCIAT_01', 'PCIAT-PCIAT_02', 'PCIAT-PCIAT_03', 'PCIAT-PCIAT_04', 'PCIAT-PCIAT_05', 'PCIAT-PCIAT_06', 'PCIAT-PCIAT_07', 'PCIAT-PCIAT_08', 'PCIAT-PCIAT_09', 'PCIAT-PCIAT_10', 'PCIAT-PCIAT_11', 'PCIAT-PCIAT_12', 'PCIAT-PCIAT_13', 'PCIAT-PCIAT_14', 'PCIAT-PCIAT_15', 'PCIAT-PCIAT_16', 'PCIAT-PCIAT_17', 'PCIAT-PCIAT_18', 'PCIAT-PCIAT_19', 'PCIAT-PCIAT_20', 'PCIAT-PCIAT_Total', 'PCIAT-Season', 'sii']\n",
    "train_data = train_data.dropna(subset=columns_not_in_test)"
   ]
  },
  {
   "cell_type": "markdown",
   "id": "bec76539",
   "metadata": {
    "papermill": {
     "duration": 0.004819,
     "end_time": "2024-12-15T04:51:29.688229",
     "exception": false,
     "start_time": "2024-12-15T04:51:29.683410",
     "status": "completed"
    },
    "tags": []
   },
   "source": [
    "#### So, we got a quire reliable labels here, the next step would be create X and y"
   ]
  },
  {
   "cell_type": "code",
   "execution_count": 4,
   "id": "247c07ec",
   "metadata": {
    "execution": {
     "iopub.execute_input": "2024-12-15T04:51:29.699378Z",
     "iopub.status.busy": "2024-12-15T04:51:29.699135Z",
     "iopub.status.idle": "2024-12-15T04:51:29.704872Z",
     "shell.execute_reply": "2024-12-15T04:51:29.704090Z"
    },
    "papermill": {
     "duration": 0.013242,
     "end_time": "2024-12-15T04:51:29.706389",
     "exception": false,
     "start_time": "2024-12-15T04:51:29.693147",
     "status": "completed"
    },
    "tags": []
   },
   "outputs": [],
   "source": [
    "label_related_features = ['PCIAT-PCIAT_01', 'PCIAT-PCIAT_02', 'PCIAT-PCIAT_03', 'PCIAT-PCIAT_04', 'PCIAT-PCIAT_05', 'PCIAT-PCIAT_06', 'PCIAT-PCIAT_07', 'PCIAT-PCIAT_08', 'PCIAT-PCIAT_09', 'PCIAT-PCIAT_10', 'PCIAT-PCIAT_11', 'PCIAT-PCIAT_12', 'PCIAT-PCIAT_13', 'PCIAT-PCIAT_14', 'PCIAT-PCIAT_15', 'PCIAT-PCIAT_16', 'PCIAT-PCIAT_17', 'PCIAT-PCIAT_18', 'PCIAT-PCIAT_19', 'PCIAT-PCIAT_20', 'PCIAT-PCIAT_Total', 'PCIAT-Season', 'sii']\n",
    "label = ['PCIAT-PCIAT_Total']\n",
    "X = train_data.drop(label_related_features, axis = 1)\n",
    "y = train_data[label]"
   ]
  },
  {
   "cell_type": "markdown",
   "id": "ac97638e",
   "metadata": {
    "execution": {
     "iopub.execute_input": "2024-12-14T07:09:25.396721Z",
     "iopub.status.busy": "2024-12-14T07:09:25.396351Z",
     "iopub.status.idle": "2024-12-14T07:09:25.401621Z",
     "shell.execute_reply": "2024-12-14T07:09:25.400842Z",
     "shell.execute_reply.started": "2024-12-14T07:09:25.396683Z"
    },
    "papermill": {
     "duration": 0.004712,
     "end_time": "2024-12-15T04:51:29.715995",
     "exception": false,
     "start_time": "2024-12-15T04:51:29.711283",
     "status": "completed"
    },
    "tags": []
   },
   "source": [
    "#### Encode data"
   ]
  },
  {
   "cell_type": "code",
   "execution_count": 5,
   "id": "b8378308",
   "metadata": {
    "execution": {
     "iopub.execute_input": "2024-12-15T04:51:29.726692Z",
     "iopub.status.busy": "2024-12-15T04:51:29.726443Z",
     "iopub.status.idle": "2024-12-15T04:51:30.719614Z",
     "shell.execute_reply": "2024-12-15T04:51:30.718925Z"
    },
    "papermill": {
     "duration": 1.000663,
     "end_time": "2024-12-15T04:51:30.721517",
     "exception": false,
     "start_time": "2024-12-15T04:51:29.720854",
     "status": "completed"
    },
    "tags": []
   },
   "outputs": [],
   "source": [
    "from sklearn.preprocessing import OneHotEncoder\n",
    "\n",
    "\n",
    "def encode_seasonal_data(train_data, test_data, features_to_encode):\n",
    "    encoded_train = train_data.copy()\n",
    "    encoded_test = test_data.copy()\n",
    "    \n",
    "    for feature in features_to_encode:\n",
    "        encoder = OneHotEncoder(handle_unknown='ignore', sparse=False)\n",
    "        train_encoded = encoder.fit_transform(encoded_train[[feature]])\n",
    "        test_encoded = encoder.transform(encoded_test[[feature]])\n",
    "        column_names = [f\"{feature}_{cat}\" for cat in encoder.categories_[0]]\n",
    "        train_encoded_df = pd.DataFrame(train_encoded,\n",
    "                                      columns=column_names,\n",
    "                                      index=encoded_train.index)\n",
    "        test_encoded_df = pd.DataFrame(test_encoded,\n",
    "                                     columns=column_names,\n",
    "                                     index=encoded_test.index)\n",
    "        encoded_train = pd.concat([encoded_train.drop(columns=[feature]), \n",
    "                                 train_encoded_df], axis=1)\n",
    "        encoded_test = pd.concat([encoded_test.drop(columns=[feature]), \n",
    "                                test_encoded_df], axis=1)\n",
    "    \n",
    "    return encoded_train, encoded_test"
   ]
  },
  {
   "cell_type": "code",
   "execution_count": 6,
   "id": "4ce7d415",
   "metadata": {
    "execution": {
     "iopub.execute_input": "2024-12-15T04:51:30.732859Z",
     "iopub.status.busy": "2024-12-15T04:51:30.732460Z",
     "iopub.status.idle": "2024-12-15T04:51:30.738566Z",
     "shell.execute_reply": "2024-12-15T04:51:30.737665Z"
    },
    "papermill": {
     "duration": 0.013477,
     "end_time": "2024-12-15T04:51:30.740223",
     "exception": false,
     "start_time": "2024-12-15T04:51:30.726746",
     "status": "completed"
    },
    "tags": []
   },
   "outputs": [
    {
     "name": "stdout",
     "output_type": "stream",
     "text": [
      "['Basic_Demos-Enroll_Season', 'CGAS-Season', 'Physical-Season', 'Fitness_Endurance-Season', 'FGC-Season', 'BIA-Season', 'PAQ_A-Season', 'PAQ_C-Season', 'SDS-Season', 'PreInt_EduHx-Season']\n"
     ]
    }
   ],
   "source": [
    "features_to_encode = X.select_dtypes(include=['object']).columns.to_list()\n",
    "features_to_encode = features_to_encode[1:]\n",
    "print(features_to_encode)"
   ]
  },
  {
   "cell_type": "code",
   "execution_count": 7,
   "id": "14e652d4",
   "metadata": {
    "execution": {
     "iopub.execute_input": "2024-12-15T04:51:30.751316Z",
     "iopub.status.busy": "2024-12-15T04:51:30.751077Z",
     "iopub.status.idle": "2024-12-15T04:51:30.816793Z",
     "shell.execute_reply": "2024-12-15T04:51:30.815950Z"
    },
    "papermill": {
     "duration": 0.073395,
     "end_time": "2024-12-15T04:51:30.818624",
     "exception": false,
     "start_time": "2024-12-15T04:51:30.745229",
     "status": "completed"
    },
    "tags": []
   },
   "outputs": [
    {
     "name": "stderr",
     "output_type": "stream",
     "text": [
      "/opt/conda/lib/python3.10/site-packages/sklearn/preprocessing/_encoders.py:868: FutureWarning: `sparse` was renamed to `sparse_output` in version 1.2 and will be removed in 1.4. `sparse_output` is ignored unless you leave `sparse` to its default value.\n",
      "  warnings.warn(\n",
      "/opt/conda/lib/python3.10/site-packages/sklearn/preprocessing/_encoders.py:868: FutureWarning: `sparse` was renamed to `sparse_output` in version 1.2 and will be removed in 1.4. `sparse_output` is ignored unless you leave `sparse` to its default value.\n",
      "  warnings.warn(\n",
      "/opt/conda/lib/python3.10/site-packages/sklearn/preprocessing/_encoders.py:868: FutureWarning: `sparse` was renamed to `sparse_output` in version 1.2 and will be removed in 1.4. `sparse_output` is ignored unless you leave `sparse` to its default value.\n",
      "  warnings.warn(\n",
      "/opt/conda/lib/python3.10/site-packages/sklearn/preprocessing/_encoders.py:868: FutureWarning: `sparse` was renamed to `sparse_output` in version 1.2 and will be removed in 1.4. `sparse_output` is ignored unless you leave `sparse` to its default value.\n",
      "  warnings.warn(\n",
      "/opt/conda/lib/python3.10/site-packages/sklearn/preprocessing/_encoders.py:868: FutureWarning: `sparse` was renamed to `sparse_output` in version 1.2 and will be removed in 1.4. `sparse_output` is ignored unless you leave `sparse` to its default value.\n",
      "  warnings.warn(\n",
      "/opt/conda/lib/python3.10/site-packages/sklearn/preprocessing/_encoders.py:868: FutureWarning: `sparse` was renamed to `sparse_output` in version 1.2 and will be removed in 1.4. `sparse_output` is ignored unless you leave `sparse` to its default value.\n",
      "  warnings.warn(\n",
      "/opt/conda/lib/python3.10/site-packages/sklearn/preprocessing/_encoders.py:868: FutureWarning: `sparse` was renamed to `sparse_output` in version 1.2 and will be removed in 1.4. `sparse_output` is ignored unless you leave `sparse` to its default value.\n",
      "  warnings.warn(\n",
      "/opt/conda/lib/python3.10/site-packages/sklearn/preprocessing/_encoders.py:868: FutureWarning: `sparse` was renamed to `sparse_output` in version 1.2 and will be removed in 1.4. `sparse_output` is ignored unless you leave `sparse` to its default value.\n",
      "  warnings.warn(\n",
      "/opt/conda/lib/python3.10/site-packages/sklearn/preprocessing/_encoders.py:868: FutureWarning: `sparse` was renamed to `sparse_output` in version 1.2 and will be removed in 1.4. `sparse_output` is ignored unless you leave `sparse` to its default value.\n",
      "  warnings.warn(\n",
      "/opt/conda/lib/python3.10/site-packages/sklearn/preprocessing/_encoders.py:868: FutureWarning: `sparse` was renamed to `sparse_output` in version 1.2 and will be removed in 1.4. `sparse_output` is ignored unless you leave `sparse` to its default value.\n",
      "  warnings.warn(\n"
     ]
    }
   ],
   "source": [
    "X_encoded, test_encoded = encode_seasonal_data(X, test_data, features_to_encode)\n",
    "new_X = X_encoded.drop(['id'], axis = 1)\n",
    "new_test = test_encoded.drop(['id'], axis = 1)"
   ]
  },
  {
   "cell_type": "markdown",
   "id": "bf1aa2fd",
   "metadata": {
    "papermill": {
     "duration": 0.004913,
     "end_time": "2024-12-15T04:51:30.828675",
     "exception": false,
     "start_time": "2024-12-15T04:51:30.823762",
     "status": "completed"
    },
    "tags": []
   },
   "source": [
    "## In this first notebook, i just fill data with mean value"
   ]
  },
  {
   "cell_type": "code",
   "execution_count": 8,
   "id": "ce535239",
   "metadata": {
    "execution": {
     "iopub.execute_input": "2024-12-15T04:51:30.839704Z",
     "iopub.status.busy": "2024-12-15T04:51:30.839459Z",
     "iopub.status.idle": "2024-12-15T04:51:30.891323Z",
     "shell.execute_reply": "2024-12-15T04:51:30.890540Z"
    },
    "papermill": {
     "duration": 0.059166,
     "end_time": "2024-12-15T04:51:30.892971",
     "exception": false,
     "start_time": "2024-12-15T04:51:30.833805",
     "status": "completed"
    },
    "tags": []
   },
   "outputs": [
    {
     "data": {
      "text/plain": [
       "Basic_Demos-Age               0\n",
       "Basic_Demos-Sex               0\n",
       "CGAS-CGAS_Score               0\n",
       "Physical-BMI                  0\n",
       "Physical-Height               0\n",
       "                             ..\n",
       "PreInt_EduHx-Season_Fall      0\n",
       "PreInt_EduHx-Season_Spring    0\n",
       "PreInt_EduHx-Season_Summer    0\n",
       "PreInt_EduHx-Season_Winter    0\n",
       "PreInt_EduHx-Season_nan       0\n",
       "Length: 97, dtype: int64"
      ]
     },
     "execution_count": 8,
     "metadata": {},
     "output_type": "execute_result"
    }
   ],
   "source": [
    "new_X =  new_X.fillna(new_X.mean())\n",
    "new_test =  new_test.fillna(new_test.mean())\n",
    "new_X.isna().sum()"
   ]
  },
  {
   "cell_type": "markdown",
   "id": "4978d0c0",
   "metadata": {
    "papermill": {
     "duration": 0.005151,
     "end_time": "2024-12-15T04:51:30.903401",
     "exception": false,
     "start_time": "2024-12-15T04:51:30.898250",
     "status": "completed"
    },
    "tags": []
   },
   "source": [
    "### Training"
   ]
  },
  {
   "cell_type": "code",
   "execution_count": 9,
   "id": "17904058",
   "metadata": {
    "execution": {
     "iopub.execute_input": "2024-12-15T04:51:30.914581Z",
     "iopub.status.busy": "2024-12-15T04:51:30.914321Z",
     "iopub.status.idle": "2024-12-15T04:51:30.999429Z",
     "shell.execute_reply": "2024-12-15T04:51:30.998765Z"
    },
    "papermill": {
     "duration": 0.09275,
     "end_time": "2024-12-15T04:51:31.001175",
     "exception": false,
     "start_time": "2024-12-15T04:51:30.908425",
     "status": "completed"
    },
    "tags": []
   },
   "outputs": [],
   "source": [
    "from sklearn.model_selection import train_test_split\n",
    "from sklearn.preprocessing import StandardScaler\n",
    "\n",
    "X_train, X_val, y_train, y_val = train_test_split(new_X, y, test_size=0.2, random_state=42)\n",
    "# scaler = StandardScaler()\n",
    "# X_train_scaled = scaler.fit_transform(X_train)\n",
    "# X_val_scaled = scaler.transform(X_val)"
   ]
  },
  {
   "cell_type": "code",
   "execution_count": 10,
   "id": "b5036be8",
   "metadata": {
    "execution": {
     "iopub.execute_input": "2024-12-15T04:51:31.012602Z",
     "iopub.status.busy": "2024-12-15T04:51:31.012342Z",
     "iopub.status.idle": "2024-12-15T04:51:31.017020Z",
     "shell.execute_reply": "2024-12-15T04:51:31.016306Z"
    },
    "papermill": {
     "duration": 0.012177,
     "end_time": "2024-12-15T04:51:31.018580",
     "exception": false,
     "start_time": "2024-12-15T04:51:31.006403",
     "status": "completed"
    },
    "tags": []
   },
   "outputs": [],
   "source": [
    "def get_info_for_ftt(df):\n",
    "    # this function returns 2 things\n",
    "    # first, categories = (10, 5, 6, 5, 8),      \n",
    "    # tuple containing the number of unique values within each category\n",
    "    # second, num_continuous = 10, # number of continuous values \n",
    "    # both of them are parameters of FTTransformer\n",
    "    number_of_cat = 0\n",
    "    cat_ranges = []\n",
    "    all_features = df.columns.tolist()\n",
    "    cat_idx = []\n",
    "    for i, feature in enumerate(all_features):\n",
    "        if (df[feature].nunique() <= 2):\n",
    "            number_of_cat = number_of_cat + 1\n",
    "            cat_ranges.append(df[feature].nunique())\n",
    "            cat_idx.append(i)\n",
    "    \n",
    "    num_continuous = df.shape[-1] - number_of_cat\n",
    "    return cat_ranges, num_continuous, cat_idx\n"
   ]
  },
  {
   "cell_type": "code",
   "execution_count": 11,
   "id": "82d57d18",
   "metadata": {
    "execution": {
     "iopub.execute_input": "2024-12-15T04:51:31.029801Z",
     "iopub.status.busy": "2024-12-15T04:51:31.029518Z",
     "iopub.status.idle": "2024-12-15T04:51:31.102129Z",
     "shell.execute_reply": "2024-12-15T04:51:31.101440Z"
    },
    "papermill": {
     "duration": 0.080301,
     "end_time": "2024-12-15T04:51:31.103989",
     "exception": false,
     "start_time": "2024-12-15T04:51:31.023688",
     "status": "completed"
    },
    "tags": []
   },
   "outputs": [],
   "source": [
    "cat_ranges, num_continuous, cat_idx = get_info_for_ftt(new_X)"
   ]
  },
  {
   "cell_type": "code",
   "execution_count": 12,
   "id": "7da22d5a",
   "metadata": {
    "execution": {
     "iopub.execute_input": "2024-12-15T04:51:31.115636Z",
     "iopub.status.busy": "2024-12-15T04:51:31.115373Z",
     "iopub.status.idle": "2024-12-15T04:51:34.119738Z",
     "shell.execute_reply": "2024-12-15T04:51:34.119024Z"
    },
    "papermill": {
     "duration": 3.012295,
     "end_time": "2024-12-15T04:51:34.121708",
     "exception": false,
     "start_time": "2024-12-15T04:51:31.109413",
     "status": "completed"
    },
    "tags": []
   },
   "outputs": [],
   "source": [
    "import torch\n",
    "from torch.utils.data import Dataset\n",
    "\n",
    "class MyDataset(Dataset):\n",
    "    def __init__(self, features, labels, cat_idx):\n",
    "        self.features = features\n",
    "        self.labels = labels\n",
    "        self.cat_idx = cat_idx\n",
    "        \n",
    "    def __len__(self):\n",
    "        return len(self.labels)\n",
    "        \n",
    "    def divide_cat_num(self, row_data):\n",
    "        mask = np.zeros(len(row_data), dtype=bool)\n",
    "        mask[self.cat_idx] = True\n",
    "        cat_elements = row_data[mask]\n",
    "        remaining_elements = row_data[~mask]\n",
    "        return cat_elements, remaining_elements\n",
    "\n",
    "    def __getitem__(self, idx):\n",
    "        row_value = self.features[idx]\n",
    "        tensor_row_value = torch.tensor(row_value)\n",
    "        cat_values, num_values = self.divide_cat_num(row_value)\n",
    "        cat_values = torch.tensor(cat_values, dtype=torch.int32)\n",
    "        num_values = torch.tensor(num_values, dtype=torch.float64)\n",
    "        label = self.labels.iloc[idx].values\n",
    "        tensor_label = torch.tensor(label, dtype=torch.float64) \n",
    "        return cat_values, num_values, tensor_label"
   ]
  },
  {
   "cell_type": "code",
   "execution_count": 13,
   "id": "b1c05157",
   "metadata": {
    "execution": {
     "iopub.execute_input": "2024-12-15T04:51:34.134420Z",
     "iopub.status.busy": "2024-12-15T04:51:34.134028Z",
     "iopub.status.idle": "2024-12-15T04:51:34.137704Z",
     "shell.execute_reply": "2024-12-15T04:51:34.137035Z"
    },
    "papermill": {
     "duration": 0.011821,
     "end_time": "2024-12-15T04:51:34.139409",
     "exception": false,
     "start_time": "2024-12-15T04:51:34.127588",
     "status": "completed"
    },
    "tags": []
   },
   "outputs": [],
   "source": [
    "from torch.utils.data import DataLoader"
   ]
  },
  {
   "cell_type": "code",
   "execution_count": 14,
   "id": "e352ef8b",
   "metadata": {
    "execution": {
     "iopub.execute_input": "2024-12-15T04:51:34.150828Z",
     "iopub.status.busy": "2024-12-15T04:51:34.150550Z",
     "iopub.status.idle": "2024-12-15T04:51:34.156632Z",
     "shell.execute_reply": "2024-12-15T04:51:34.156077Z"
    },
    "papermill": {
     "duration": 0.013567,
     "end_time": "2024-12-15T04:51:34.158133",
     "exception": false,
     "start_time": "2024-12-15T04:51:34.144566",
     "status": "completed"
    },
    "tags": []
   },
   "outputs": [],
   "source": [
    "train_dataset = MyDataset(X_train.values, y_train, cat_idx)\n",
    "val_dataset = MyDataset(X_val.values, y_val, cat_idx)\n"
   ]
  },
  {
   "cell_type": "code",
   "execution_count": 15,
   "id": "9084dbf9",
   "metadata": {
    "execution": {
     "iopub.execute_input": "2024-12-15T04:51:34.169080Z",
     "iopub.status.busy": "2024-12-15T04:51:34.168857Z",
     "iopub.status.idle": "2024-12-15T04:51:34.172861Z",
     "shell.execute_reply": "2024-12-15T04:51:34.172173Z"
    },
    "papermill": {
     "duration": 0.011158,
     "end_time": "2024-12-15T04:51:34.174343",
     "exception": false,
     "start_time": "2024-12-15T04:51:34.163185",
     "status": "completed"
    },
    "tags": []
   },
   "outputs": [],
   "source": [
    "trainloader = DataLoader(train_dataset, batch_size = 64, shuffle = True)\n",
    "valloader = DataLoader(val_dataset, batch_size = 64, shuffle = True)"
   ]
  },
  {
   "cell_type": "code",
   "execution_count": 16,
   "id": "fcc73b4d",
   "metadata": {
    "execution": {
     "iopub.execute_input": "2024-12-15T04:51:34.185628Z",
     "iopub.status.busy": "2024-12-15T04:51:34.185399Z",
     "iopub.status.idle": "2024-12-15T04:51:34.193280Z",
     "shell.execute_reply": "2024-12-15T04:51:34.192667Z"
    },
    "papermill": {
     "duration": 0.01536,
     "end_time": "2024-12-15T04:51:34.194827",
     "exception": false,
     "start_time": "2024-12-15T04:51:34.179467",
     "status": "completed"
    },
    "tags": []
   },
   "outputs": [],
   "source": [
    "def train_model(train_loader, val_loader, model, criterion, optimizer, num_epochs, save_path='model_checkpoints'):\n",
    "    import os\n",
    "    import torch\n",
    "    \n",
    "    # Create save directory if it doesn't exist\n",
    "    os.makedirs(save_path, exist_ok=True)\n",
    "    \n",
    "    device = torch.device('cuda' if torch.cuda.is_available() else 'cpu')\n",
    "    model = model.to(device)\n",
    "    best_val_loss = float('inf')\n",
    "    \n",
    "    for epoch in range(num_epochs):\n",
    "        model.train()\n",
    "        train_loss = 0\n",
    "        for x_cat, x_num, y in train_loader:\n",
    "            # Move all inputs to device\n",
    "            x_cat = x_cat.to(device) if x_cat is not None else None\n",
    "            x_num = x_num.to(device)\n",
    "            y = y.to(device)\n",
    "            \n",
    "            optimizer.zero_grad()\n",
    "            output = model(x_cat, x_num)\n",
    "            loss = criterion(output, y)\n",
    "            loss.backward()\n",
    "            optimizer.step()\n",
    "            train_loss += loss.item()\n",
    "            \n",
    "        model.eval()\n",
    "        val_loss = 0\n",
    "        with torch.no_grad():\n",
    "            for x_cat, x_num, y in val_loader:\n",
    "                x_cat = x_cat.to(device) if x_cat is not None else None\n",
    "                x_num = x_num.to(device)\n",
    "                y = y.to(device)\n",
    "                \n",
    "                output = model(x_cat, x_num)\n",
    "                val_loss += criterion(output, y).item()\n",
    "        \n",
    "        avg_train_loss = train_loss/len(train_loader)\n",
    "        avg_val_loss = val_loss/len(val_loader)\n",
    "        print(f'Epoch {epoch+1}, Train Loss: {avg_train_loss:.4f}, Val Loss: {avg_val_loss:.4f}')\n",
    "        \n",
    "        # Save the best model\n",
    "        if avg_val_loss < best_val_loss:\n",
    "            best_val_loss = avg_val_loss\n",
    "            checkpoint = {\n",
    "                'epoch': epoch,\n",
    "                'model_state_dict': model.state_dict(),\n",
    "                'optimizer_state_dict': optimizer.state_dict(),\n",
    "                'train_loss': avg_train_loss,\n",
    "                'val_loss': avg_val_loss,\n",
    "                'best_val_loss': best_val_loss\n",
    "            }\n",
    "            torch.save(checkpoint, os.path.join(save_path, f'best_model.pth'))\n",
    "            print(f'Saved best model with validation loss: {best_val_loss:.4f}')"
   ]
  },
  {
   "cell_type": "code",
   "execution_count": 17,
   "id": "3835d8f0",
   "metadata": {
    "execution": {
     "iopub.execute_input": "2024-12-15T04:51:34.206342Z",
     "iopub.status.busy": "2024-12-15T04:51:34.206101Z",
     "iopub.status.idle": "2024-12-15T04:52:08.522366Z",
     "shell.execute_reply": "2024-12-15T04:52:08.521261Z"
    },
    "papermill": {
     "duration": 34.324751,
     "end_time": "2024-12-15T04:52:08.524854",
     "exception": false,
     "start_time": "2024-12-15T04:51:34.200103",
     "status": "completed"
    },
    "tags": []
   },
   "outputs": [
    {
     "name": "stdout",
     "output_type": "stream",
     "text": [
      "Processing /kaggle/input/tab-transformer-pytorch/tab_transformer_pytorch-0.3.0-py3-none-any.whl\r\n",
      "Installing collected packages: tab-transformer-pytorch\r\n",
      "Successfully installed tab-transformer-pytorch-0.3.0\r\n"
     ]
    }
   ],
   "source": [
    "!pip install --no-deps /kaggle/input/tab-transformer-pytorch/tab_transformer_pytorch-0.3.0-py3-none-any.whl"
   ]
  },
  {
   "cell_type": "code",
   "execution_count": 18,
   "id": "03dcb0a5",
   "metadata": {
    "execution": {
     "iopub.execute_input": "2024-12-15T04:52:08.537673Z",
     "iopub.status.busy": "2024-12-15T04:52:08.536919Z",
     "iopub.status.idle": "2024-12-15T04:52:49.058956Z",
     "shell.execute_reply": "2024-12-15T04:52:49.057959Z"
    },
    "papermill": {
     "duration": 40.530768,
     "end_time": "2024-12-15T04:52:49.061181",
     "exception": false,
     "start_time": "2024-12-15T04:52:08.530413",
     "status": "completed"
    },
    "tags": []
   },
   "outputs": [
    {
     "name": "stdout",
     "output_type": "stream",
     "text": [
      "Processing /kaggle/input/fttransformer/einops-0.8.0-py3-none-any.whl\r\n",
      "Installing collected packages: einops\r\n",
      "Successfully installed einops-0.8.0\r\n"
     ]
    }
   ],
   "source": [
    "!pip install /kaggle/input/fttransformer/einops-0.8.0-py3-none-any.whl"
   ]
  },
  {
   "cell_type": "code",
   "execution_count": 19,
   "id": "8707382e",
   "metadata": {
    "execution": {
     "iopub.execute_input": "2024-12-15T04:52:49.074591Z",
     "iopub.status.busy": "2024-12-15T04:52:49.073816Z",
     "iopub.status.idle": "2024-12-15T04:52:49.085480Z",
     "shell.execute_reply": "2024-12-15T04:52:49.084856Z"
    },
    "papermill": {
     "duration": 0.020214,
     "end_time": "2024-12-15T04:52:49.087211",
     "exception": false,
     "start_time": "2024-12-15T04:52:49.066997",
     "status": "completed"
    },
    "tags": []
   },
   "outputs": [],
   "source": [
    "from tab_transformer_pytorch import FTTransformer\n",
    "import torch.nn as nn\n",
    "import torch.optim as optim"
   ]
  },
  {
   "cell_type": "code",
   "execution_count": 20,
   "id": "ca1b8d51",
   "metadata": {
    "execution": {
     "iopub.execute_input": "2024-12-15T04:52:49.099723Z",
     "iopub.status.busy": "2024-12-15T04:52:49.099173Z",
     "iopub.status.idle": "2024-12-15T04:52:49.113581Z",
     "shell.execute_reply": "2024-12-15T04:52:49.112705Z"
    },
    "papermill": {
     "duration": 0.022531,
     "end_time": "2024-12-15T04:52:49.115163",
     "exception": false,
     "start_time": "2024-12-15T04:52:49.092632",
     "status": "completed"
    },
    "tags": []
   },
   "outputs": [],
   "source": [
    "cat_ranges, num_continuous, cat_idx = get_info_for_ftt(new_X)"
   ]
  },
  {
   "cell_type": "code",
   "execution_count": 21,
   "id": "c7498ca7",
   "metadata": {
    "execution": {
     "iopub.execute_input": "2024-12-15T04:52:49.126768Z",
     "iopub.status.busy": "2024-12-15T04:52:49.126489Z",
     "iopub.status.idle": "2024-12-15T04:55:58.144557Z",
     "shell.execute_reply": "2024-12-15T04:55:58.143559Z"
    },
    "papermill": {
     "duration": 189.035567,
     "end_time": "2024-12-15T04:55:58.155972",
     "exception": false,
     "start_time": "2024-12-15T04:52:49.120405",
     "status": "completed"
    },
    "tags": []
   },
   "outputs": [
    {
     "name": "stdout",
     "output_type": "stream",
     "text": [
      "Epoch 1, Train Loss: 997.3377, Val Loss: 904.4184\n",
      "Saved best model with validation loss: 904.4184\n",
      "Epoch 2, Train Loss: 911.2197, Val Loss: 799.8868\n",
      "Saved best model with validation loss: 799.8868\n",
      "Epoch 3, Train Loss: 833.5609, Val Loss: 789.8424\n",
      "Saved best model with validation loss: 789.8424\n",
      "Epoch 4, Train Loss: 756.4792, Val Loss: 668.5363\n",
      "Saved best model with validation loss: 668.5363\n",
      "Epoch 5, Train Loss: 688.8826, Val Loss: 599.5619\n",
      "Saved best model with validation loss: 599.5619\n",
      "Epoch 6, Train Loss: 609.5086, Val Loss: 552.5035\n",
      "Saved best model with validation loss: 552.5035\n",
      "Epoch 7, Train Loss: 552.1508, Val Loss: 519.3555\n",
      "Saved best model with validation loss: 519.3555\n",
      "Epoch 8, Train Loss: 511.7710, Val Loss: 483.9323\n",
      "Saved best model with validation loss: 483.9323\n",
      "Epoch 9, Train Loss: 474.1945, Val Loss: 427.2409\n",
      "Saved best model with validation loss: 427.2409\n",
      "Epoch 10, Train Loss: 452.5389, Val Loss: 420.6824\n",
      "Saved best model with validation loss: 420.6824\n",
      "Epoch 11, Train Loss: 432.8234, Val Loss: 420.2009\n",
      "Saved best model with validation loss: 420.2009\n",
      "Epoch 12, Train Loss: 421.3030, Val Loss: 404.9337\n",
      "Saved best model with validation loss: 404.9337\n",
      "Epoch 13, Train Loss: 417.8214, Val Loss: 401.6069\n",
      "Saved best model with validation loss: 401.6069\n",
      "Epoch 14, Train Loss: 419.5305, Val Loss: 402.9176\n",
      "Epoch 15, Train Loss: 411.7917, Val Loss: 412.9651\n",
      "Epoch 16, Train Loss: 407.6942, Val Loss: 375.5282\n",
      "Saved best model with validation loss: 375.5282\n",
      "Epoch 17, Train Loss: 385.0146, Val Loss: 365.6756\n",
      "Saved best model with validation loss: 365.6756\n",
      "Epoch 18, Train Loss: 383.1689, Val Loss: 344.0602\n",
      "Saved best model with validation loss: 344.0602\n",
      "Epoch 19, Train Loss: 365.8513, Val Loss: 335.9491\n",
      "Saved best model with validation loss: 335.9491\n",
      "Epoch 20, Train Loss: 351.6187, Val Loss: 357.8451\n",
      "Epoch 21, Train Loss: 344.7502, Val Loss: 365.7322\n",
      "Epoch 22, Train Loss: 338.2072, Val Loss: 331.6006\n",
      "Saved best model with validation loss: 331.6006\n",
      "Epoch 23, Train Loss: 335.7782, Val Loss: 323.6943\n",
      "Saved best model with validation loss: 323.6943\n",
      "Epoch 24, Train Loss: 325.2984, Val Loss: 309.4464\n",
      "Saved best model with validation loss: 309.4464\n",
      "Epoch 25, Train Loss: 323.8256, Val Loss: 319.2475\n",
      "Epoch 26, Train Loss: 318.6287, Val Loss: 313.6465\n",
      "Epoch 27, Train Loss: 323.1431, Val Loss: 330.8675\n",
      "Epoch 28, Train Loss: 316.2312, Val Loss: 323.1429\n",
      "Epoch 29, Train Loss: 321.0295, Val Loss: 312.3620\n",
      "Epoch 30, Train Loss: 314.5681, Val Loss: 321.8907\n",
      "Epoch 31, Train Loss: 311.6955, Val Loss: 318.3428\n",
      "Epoch 32, Train Loss: 312.7317, Val Loss: 312.8342\n",
      "Epoch 33, Train Loss: 313.9294, Val Loss: 314.1791\n",
      "Epoch 34, Train Loss: 305.6844, Val Loss: 303.9361\n",
      "Saved best model with validation loss: 303.9361\n",
      "Epoch 35, Train Loss: 304.0902, Val Loss: 312.0053\n",
      "Epoch 36, Train Loss: 304.9567, Val Loss: 304.8486\n",
      "Epoch 37, Train Loss: 296.2641, Val Loss: 310.0933\n",
      "Epoch 38, Train Loss: 313.3837, Val Loss: 305.0874\n",
      "Epoch 39, Train Loss: 290.6830, Val Loss: 310.8270\n",
      "Epoch 40, Train Loss: 299.1931, Val Loss: 321.5378\n",
      "Epoch 41, Train Loss: 302.2625, Val Loss: 298.4897\n",
      "Saved best model with validation loss: 298.4897\n",
      "Epoch 42, Train Loss: 290.3674, Val Loss: 319.6181\n",
      "Epoch 43, Train Loss: 292.0330, Val Loss: 296.6513\n",
      "Saved best model with validation loss: 296.6513\n",
      "Epoch 44, Train Loss: 292.1387, Val Loss: 323.4981\n",
      "Epoch 45, Train Loss: 293.7327, Val Loss: 321.7433\n",
      "Epoch 46, Train Loss: 284.0210, Val Loss: 298.0566\n",
      "Epoch 47, Train Loss: 287.8214, Val Loss: 292.0728\n",
      "Saved best model with validation loss: 292.0728\n",
      "Epoch 48, Train Loss: 280.8066, Val Loss: 320.8576\n",
      "Epoch 49, Train Loss: 286.6661, Val Loss: 321.0995\n",
      "Epoch 50, Train Loss: 285.5989, Val Loss: 305.3419\n",
      "Epoch 51, Train Loss: 284.6176, Val Loss: 316.7752\n",
      "Epoch 52, Train Loss: 283.0157, Val Loss: 307.1749\n",
      "Epoch 53, Train Loss: 283.2306, Val Loss: 315.1578\n",
      "Epoch 54, Train Loss: 284.0609, Val Loss: 322.0965\n",
      "Epoch 55, Train Loss: 279.4860, Val Loss: 312.8553\n",
      "Epoch 56, Train Loss: 276.4068, Val Loss: 314.5282\n",
      "Epoch 57, Train Loss: 273.0253, Val Loss: 309.9455\n",
      "Epoch 58, Train Loss: 275.3875, Val Loss: 307.7348\n",
      "Epoch 59, Train Loss: 273.1942, Val Loss: 319.8399\n",
      "Epoch 60, Train Loss: 290.0981, Val Loss: 340.2223\n",
      "Epoch 61, Train Loss: 328.0766, Val Loss: 308.8202\n",
      "Epoch 62, Train Loss: 304.1044, Val Loss: 296.8440\n",
      "Epoch 63, Train Loss: 295.1798, Val Loss: 322.3157\n",
      "Epoch 64, Train Loss: 292.8295, Val Loss: 296.5054\n",
      "Epoch 65, Train Loss: 287.5565, Val Loss: 290.1081\n",
      "Saved best model with validation loss: 290.1081\n",
      "Epoch 66, Train Loss: 298.7004, Val Loss: 336.9013\n",
      "Epoch 67, Train Loss: 292.8805, Val Loss: 303.9022\n",
      "Epoch 68, Train Loss: 288.6410, Val Loss: 307.1689\n",
      "Epoch 69, Train Loss: 287.0139, Val Loss: 309.0063\n",
      "Epoch 70, Train Loss: 289.7035, Val Loss: 316.0453\n",
      "Epoch 71, Train Loss: 285.5045, Val Loss: 306.6959\n",
      "Epoch 72, Train Loss: 286.4358, Val Loss: 298.8427\n",
      "Epoch 73, Train Loss: 287.5733, Val Loss: 325.7300\n",
      "Epoch 74, Train Loss: 288.0109, Val Loss: 303.6104\n",
      "Epoch 75, Train Loss: 276.7170, Val Loss: 303.0244\n",
      "Epoch 76, Train Loss: 281.5523, Val Loss: 309.6528\n",
      "Epoch 77, Train Loss: 280.3495, Val Loss: 315.7093\n",
      "Epoch 78, Train Loss: 274.6689, Val Loss: 309.3289\n",
      "Epoch 79, Train Loss: 285.9441, Val Loss: 298.0218\n",
      "Epoch 80, Train Loss: 279.6221, Val Loss: 301.8926\n",
      "Epoch 81, Train Loss: 280.3152, Val Loss: 304.5198\n",
      "Epoch 82, Train Loss: 288.7123, Val Loss: 320.3776\n",
      "Epoch 83, Train Loss: 274.6956, Val Loss: 316.8050\n",
      "Epoch 84, Train Loss: 272.2490, Val Loss: 308.7526\n",
      "Epoch 85, Train Loss: 273.2595, Val Loss: 309.1523\n",
      "Epoch 86, Train Loss: 275.0381, Val Loss: 303.5183\n",
      "Epoch 87, Train Loss: 277.8260, Val Loss: 308.2768\n",
      "Epoch 88, Train Loss: 269.7372, Val Loss: 314.4311\n",
      "Epoch 89, Train Loss: 266.2161, Val Loss: 321.3032\n",
      "Epoch 90, Train Loss: 271.0635, Val Loss: 320.6635\n",
      "Epoch 91, Train Loss: 268.8740, Val Loss: 334.3473\n",
      "Epoch 92, Train Loss: 271.4638, Val Loss: 328.9899\n",
      "Epoch 93, Train Loss: 273.1398, Val Loss: 319.0083\n",
      "Epoch 94, Train Loss: 269.6752, Val Loss: 315.4320\n",
      "Epoch 95, Train Loss: 266.5848, Val Loss: 334.3862\n",
      "Epoch 96, Train Loss: 271.4317, Val Loss: 323.1351\n",
      "Epoch 97, Train Loss: 266.4949, Val Loss: 310.4967\n",
      "Epoch 98, Train Loss: 259.2654, Val Loss: 319.6026\n",
      "Epoch 99, Train Loss: 262.5586, Val Loss: 317.2316\n",
      "Epoch 100, Train Loss: 268.7065, Val Loss: 312.7042\n"
     ]
    }
   ],
   "source": [
    "\n",
    "from tab_transformer_pytorch import FTTransformer\n",
    "model = FTTransformer(\n",
    "    categories = tuple(cat_ranges), \n",
    "    num_continuous = num_continuous,                \n",
    "    dim = 97,                           \n",
    "    dim_out = 1,                        \n",
    "    depth = 6,                          \n",
    "    heads = 8,                          \n",
    "    attn_dropout = 0.1,                 \n",
    "    ff_dropout = 0.1,                  \n",
    ")\n",
    "model = model.to(torch.float64)\n",
    "criterion = nn.MSELoss()\n",
    "optimizer = optim.Adam(model.parameters(), lr=0.001)\n",
    "\n",
    "train_model(\n",
    "    train_loader=trainloader,\n",
    "    val_loader=valloader,\n",
    "    model=model,\n",
    "    criterion=criterion,\n",
    "    optimizer=optimizer,\n",
    "    num_epochs=100\n",
    ")\n"
   ]
  },
  {
   "cell_type": "code",
   "execution_count": 23,
   "id": "bf241bbe",
   "metadata": {
    "execution": {
     "iopub.execute_input": "2024-12-15T04:55:58.240632Z",
     "iopub.status.busy": "2024-12-15T04:55:58.240034Z",
     "iopub.status.idle": "2024-12-15T04:55:58.243917Z",
     "shell.execute_reply": "2024-12-15T04:55:58.243150Z"
    },
    "papermill": {
     "duration": 0.016469,
     "end_time": "2024-12-15T04:55:58.245516",
     "exception": false,
     "start_time": "2024-12-15T04:55:58.229047",
     "status": "completed"
    },
    "tags": []
   },
   "outputs": [],
   "source": [
    "def load_model(model, checkpoint_path):\n",
    "    checkpoint = torch.load(checkpoint_path)\n",
    "    model.load_state_dict(checkpoint['model_state_dict'])\n",
    "    return model"
   ]
  },
  {
   "cell_type": "code",
   "execution_count": 24,
   "id": "3a7ec25c",
   "metadata": {
    "execution": {
     "iopub.execute_input": "2024-12-15T04:55:58.267632Z",
     "iopub.status.busy": "2024-12-15T04:55:58.266959Z",
     "iopub.status.idle": "2024-12-15T04:55:58.324275Z",
     "shell.execute_reply": "2024-12-15T04:55:58.323390Z"
    },
    "papermill": {
     "duration": 0.07053,
     "end_time": "2024-12-15T04:55:58.326331",
     "exception": false,
     "start_time": "2024-12-15T04:55:58.255801",
     "status": "completed"
    },
    "tags": []
   },
   "outputs": [
    {
     "name": "stderr",
     "output_type": "stream",
     "text": [
      "/tmp/ipykernel_23/1423795141.py:2: FutureWarning: You are using `torch.load` with `weights_only=False` (the current default value), which uses the default pickle module implicitly. It is possible to construct malicious pickle data which will execute arbitrary code during unpickling (See https://github.com/pytorch/pytorch/blob/main/SECURITY.md#untrusted-models for more details). In a future release, the default value for `weights_only` will be flipped to `True`. This limits the functions that could be executed during unpickling. Arbitrary objects will no longer be allowed to be loaded via this mode unless they are explicitly allowlisted by the user via `torch.serialization.add_safe_globals`. We recommend you start setting `weights_only=True` for any use case where you don't have full control of the loaded file. Please open an issue on GitHub for any issues related to this experimental feature.\n",
      "  checkpoint = torch.load(checkpoint_path)\n"
     ]
    }
   ],
   "source": [
    "checkpoint_path = \"/kaggle/working/model_checkpoints/best_model.pth\"\n",
    "# checkpoint_path = \"/kaggle/input/best_v1/pytorch/default/1/best_model_val_loss_291.7448.pth\"\n",
    "model = load_model(model, checkpoint_path)\n"
   ]
  },
  {
   "cell_type": "code",
   "execution_count": 25,
   "id": "ac5d66f4",
   "metadata": {
    "execution": {
     "iopub.execute_input": "2024-12-15T04:55:58.348982Z",
     "iopub.status.busy": "2024-12-15T04:55:58.348659Z",
     "iopub.status.idle": "2024-12-15T04:55:58.355789Z",
     "shell.execute_reply": "2024-12-15T04:55:58.355122Z"
    },
    "papermill": {
     "duration": 0.020067,
     "end_time": "2024-12-15T04:55:58.357379",
     "exception": false,
     "start_time": "2024-12-15T04:55:58.337312",
     "status": "completed"
    },
    "tags": []
   },
   "outputs": [],
   "source": [
    "def get_prediction(new_test, cat_idx, model, batch_size=32, track_memory=False):\n",
    "    def divide_cat_num(data, cat_idx):\n",
    "        mask = np.zeros(data.shape[1], dtype=bool)\n",
    "        mask[cat_idx] = True\n",
    "        cat_elements = data[:, mask]\n",
    "        remaining_elements = data[:, ~mask]\n",
    "        return cat_elements, remaining_elements\n",
    "    \n",
    "    device = 'cuda'\n",
    "    new_test_values = new_test.values\n",
    "    num_samples = len(new_test_values)\n",
    "    predictions = []\n",
    "    \n",
    "    # Process data in batches\n",
    "    for i in range(0, num_samples, batch_size):\n",
    "        if track_memory:\n",
    "            print(f'GPU Memory before batch {i}: {torch.cuda.memory_allocated()/1024**2:.2f} MB')\n",
    "            \n",
    "        batch_data = new_test_values[i:i + batch_size]\n",
    "        cat, num = divide_cat_num(batch_data, cat_idx)\n",
    "        \n",
    "        cat = torch.tensor(cat, dtype=torch.int32).to(device)\n",
    "        num = torch.tensor(num, dtype=torch.float64).to(device)\n",
    "        \n",
    "        with torch.no_grad():\n",
    "            output = model(cat, num)\n",
    "            output = output.squeeze(1)\n",
    "            predictions.extend(output.cpu().numpy())\n",
    "        \n",
    "        # Clear GPU memory\n",
    "        del cat\n",
    "        del num\n",
    "        del output\n",
    "        torch.cuda.empty_cache()\n",
    "        \n",
    "        if track_memory:\n",
    "            print(f'GPU Memory after batch {i}: {torch.cuda.memory_allocated()/1024**2:.2f} MB')\n",
    "    \n",
    "    return predictions"
   ]
  },
  {
   "cell_type": "code",
   "execution_count": 26,
   "id": "fb938193",
   "metadata": {
    "execution": {
     "iopub.execute_input": "2024-12-15T04:55:58.378987Z",
     "iopub.status.busy": "2024-12-15T04:55:58.378697Z",
     "iopub.status.idle": "2024-12-15T04:55:58.447992Z",
     "shell.execute_reply": "2024-12-15T04:55:58.447156Z"
    },
    "papermill": {
     "duration": 0.081889,
     "end_time": "2024-12-15T04:55:58.449536",
     "exception": false,
     "start_time": "2024-12-15T04:55:58.367647",
     "status": "completed"
    },
    "tags": []
   },
   "outputs": [
    {
     "data": {
      "text/plain": [
       "[20.711689665266185,\n",
       " 17.760663056539578,\n",
       " 31.324933788495876,\n",
       " 26.840195697473813,\n",
       " 32.45676096566512,\n",
       " 29.43825926032099,\n",
       " 25.54967719428012,\n",
       " 22.254143156819318,\n",
       " 32.353447844602535,\n",
       " 34.233625910491774,\n",
       " 26.733812861074103,\n",
       " 28.582423369171426,\n",
       " 32.87683360699251,\n",
       " 33.387248035395125,\n",
       " 30.47322572232639,\n",
       " 21.10235209443912,\n",
       " 13.507134381590427,\n",
       " 22.66908485968623,\n",
       " 22.83752607740625,\n",
       " 28.915843134810753]"
      ]
     },
     "execution_count": 26,
     "metadata": {},
     "output_type": "execute_result"
    }
   ],
   "source": [
    "prediction = get_prediction(new_test, cat_idx, model)\n",
    "prediction"
   ]
  },
  {
   "cell_type": "code",
   "execution_count": 27,
   "id": "7cc28dfb",
   "metadata": {
    "execution": {
     "iopub.execute_input": "2024-12-15T04:55:58.471903Z",
     "iopub.status.busy": "2024-12-15T04:55:58.471351Z",
     "iopub.status.idle": "2024-12-15T04:55:58.475032Z",
     "shell.execute_reply": "2024-12-15T04:55:58.474347Z"
    },
    "papermill": {
     "duration": 0.016458,
     "end_time": "2024-12-15T04:55:58.476590",
     "exception": false,
     "start_time": "2024-12-15T04:55:58.460132",
     "status": "completed"
    },
    "tags": []
   },
   "outputs": [],
   "source": [
    "test_id = test_data['id']"
   ]
  },
  {
   "cell_type": "code",
   "execution_count": 28,
   "id": "1739d9fe",
   "metadata": {
    "execution": {
     "iopub.execute_input": "2024-12-15T04:55:58.498537Z",
     "iopub.status.busy": "2024-12-15T04:55:58.498009Z",
     "iopub.status.idle": "2024-12-15T04:55:58.505664Z",
     "shell.execute_reply": "2024-12-15T04:55:58.505013Z"
    },
    "papermill": {
     "duration": 0.020314,
     "end_time": "2024-12-15T04:55:58.507274",
     "exception": false,
     "start_time": "2024-12-15T04:55:58.486960",
     "status": "completed"
    },
    "tags": []
   },
   "outputs": [],
   "source": [
    "def handle_prediction(predictions, test_id):\n",
    "    sii = []\n",
    "    for i in range(len(predictions)):\n",
    "        predict = predictions[i]\n",
    "        if (predict >=  0 and predict <= 30):\n",
    "            sii.append(0)\n",
    "        elif(predict < 50):\n",
    "            sii.append(1)\n",
    "        elif(predict < 80):\n",
    "            sii.append(2)\n",
    "        else:\n",
    "            sii.append(3)\n",
    "    sii = pd.DataFrame(sii)\n",
    "    submission = pd.concat([test_id, sii], axis = 1)\n",
    "    submission = submission.rename(columns={0: 'sii'})\n",
    "    return submission\n",
    "submission = handle_prediction(prediction, test_id)"
   ]
  },
  {
   "cell_type": "code",
   "execution_count": 29,
   "id": "872a1ffb",
   "metadata": {
    "execution": {
     "iopub.execute_input": "2024-12-15T04:55:58.529645Z",
     "iopub.status.busy": "2024-12-15T04:55:58.529000Z",
     "iopub.status.idle": "2024-12-15T04:55:58.535332Z",
     "shell.execute_reply": "2024-12-15T04:55:58.534544Z"
    },
    "papermill": {
     "duration": 0.019025,
     "end_time": "2024-12-15T04:55:58.536973",
     "exception": false,
     "start_time": "2024-12-15T04:55:58.517948",
     "status": "completed"
    },
    "tags": []
   },
   "outputs": [],
   "source": [
    "submission.to_csv(\"submission.csv\", index=False)"
   ]
  }
 ],
 "metadata": {
  "kaggle": {
   "accelerator": "gpu",
   "dataSources": [
    {
     "databundleVersionId": 9643020,
     "sourceId": 81933,
     "sourceType": "competition"
    },
    {
     "datasetId": 6261488,
     "sourceId": 10144188,
     "sourceType": "datasetVersion"
    },
    {
     "datasetId": 6303553,
     "sourceId": 10200802,
     "sourceType": "datasetVersion"
    },
    {
     "datasetId": 6305398,
     "sourceId": 10203245,
     "sourceType": "datasetVersion"
    },
    {
     "isSourceIdPinned": true,
     "modelId": 191870,
     "modelInstanceId": 169524,
     "sourceId": 198747,
     "sourceType": "modelInstanceVersion"
    }
   ],
   "dockerImageVersionId": 30805,
   "isGpuEnabled": true,
   "isInternetEnabled": false,
   "language": "python",
   "sourceType": "notebook"
  },
  "kernelspec": {
   "display_name": "Python 3",
   "language": "python",
   "name": "python3"
  },
  "language_info": {
   "codemirror_mode": {
    "name": "ipython",
    "version": 3
   },
   "file_extension": ".py",
   "mimetype": "text/x-python",
   "name": "python",
   "nbconvert_exporter": "python",
   "pygments_lexer": "ipython3",
   "version": "3.10.14"
  },
  "papermill": {
   "default_parameters": {},
   "duration": 273.544605,
   "end_time": "2024-12-15T04:55:59.969039",
   "environment_variables": {},
   "exception": null,
   "input_path": "__notebook__.ipynb",
   "output_path": "__notebook__.ipynb",
   "parameters": {},
   "start_time": "2024-12-15T04:51:26.424434",
   "version": "2.6.0"
  }
 },
 "nbformat": 4,
 "nbformat_minor": 5
}
