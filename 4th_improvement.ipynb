{
 "cells": [
  {
   "cell_type": "markdown",
   "id": "53f22164",
   "metadata": {
    "papermill": {
     "duration": 0.014653,
     "end_time": "2024-12-19T13:49:45.959178",
     "exception": false,
     "start_time": "2024-12-19T13:49:45.944525",
     "status": "completed"
    },
    "tags": []
   },
   "source": [
    "## PARQUET PROCESSING"
   ]
  },
  {
   "cell_type": "code",
   "execution_count": 1,
   "id": "9b4a7c8a",
   "metadata": {
    "execution": {
     "iopub.execute_input": "2024-12-19T13:49:45.985519Z",
     "iopub.status.busy": "2024-12-19T13:49:45.985203Z",
     "iopub.status.idle": "2024-12-19T13:49:50.669068Z",
     "shell.execute_reply": "2024-12-19T13:49:50.668365Z"
    },
    "papermill": {
     "duration": 4.69933,
     "end_time": "2024-12-19T13:49:50.671078",
     "exception": false,
     "start_time": "2024-12-19T13:49:45.971748",
     "status": "completed"
    },
    "tags": []
   },
   "outputs": [],
   "source": [
    "import polars as pl\n",
    "import numpy as np\n",
    "import pandas as pd\n",
    "import os\n",
    "from concurrent.futures import ThreadPoolExecutor\n",
    "from tqdm import tqdm\n",
    "import torch\n",
    "import torch.nn as nn\n",
    "from sklearn.preprocessing import StandardScaler\n",
    "import torch.optim as optim"
   ]
  },
  {
   "cell_type": "code",
   "execution_count": 2,
   "id": "33f17d99",
   "metadata": {
    "execution": {
     "iopub.execute_input": "2024-12-19T13:49:50.698368Z",
     "iopub.status.busy": "2024-12-19T13:49:50.697973Z",
     "iopub.status.idle": "2024-12-19T13:49:50.704473Z",
     "shell.execute_reply": "2024-12-19T13:49:50.703806Z"
    },
    "papermill": {
     "duration": 0.021218,
     "end_time": "2024-12-19T13:49:50.705885",
     "exception": false,
     "start_time": "2024-12-19T13:49:50.684667",
     "status": "completed"
    },
    "tags": []
   },
   "outputs": [],
   "source": [
    "def process_file(filename, dirname):\n",
    "    \"\"\"\n",
    "    return describe value and people's id.\n",
    "    \"\"\"\n",
    "    df = pd.read_parquet(os.path.join(dirname, filename, 'part-0.parquet'))\n",
    "    df.drop('step', axis=1, inplace=True)\n",
    "    return df.describe().values.reshape(-1), filename.split('=')[1]\n",
    "\n",
    "def load_time_series(dirname) -> pd.DataFrame:\n",
    "    \"\"\"\n",
    "    ids: chuỗi các file trong parquet\n",
    "    results: kết quả áp dụng process_file cho từng file trong paquet\n",
    "    \n",
    "    \"\"\"\n",
    "    ids = os.listdir(dirname)\n",
    "    with ThreadPoolExecutor() as executor:\n",
    "        results = list(tqdm(executor.map(lambda fname: process_file(fname, dirname), ids), total=len(ids)))\n",
    "    stats, indexes = zip(*results)\n",
    "    df = pd.DataFrame(stats, columns=[f\"stat_{i}\" for i in range(len(stats[0]))])\n",
    "    df['id'] = indexes\n",
    "    return df"
   ]
  },
  {
   "cell_type": "code",
   "execution_count": 3,
   "id": "4a8cd083",
   "metadata": {
    "execution": {
     "iopub.execute_input": "2024-12-19T13:49:50.731492Z",
     "iopub.status.busy": "2024-12-19T13:49:50.731230Z",
     "iopub.status.idle": "2024-12-19T13:51:00.372849Z",
     "shell.execute_reply": "2024-12-19T13:51:00.371960Z"
    },
    "papermill": {
     "duration": 69.656227,
     "end_time": "2024-12-19T13:51:00.374509",
     "exception": false,
     "start_time": "2024-12-19T13:49:50.718282",
     "status": "completed"
    },
    "tags": []
   },
   "outputs": [
    {
     "name": "stderr",
     "output_type": "stream",
     "text": [
      "100%|██████████| 996/996 [01:09<00:00, 14.35it/s]\n",
      "100%|██████████| 2/2 [00:00<00:00, 11.62it/s]\n"
     ]
    }
   ],
   "source": [
    "train_ts = load_time_series(\"/kaggle/input/child-mind-institute-problematic-internet-use/series_train.parquet\")\n",
    "test_ts = load_time_series(\"/kaggle/input/child-mind-institute-problematic-internet-use/series_test.parquet\")"
   ]
  },
  {
   "cell_type": "markdown",
   "id": "23c49ff9",
   "metadata": {
    "papermill": {
     "duration": 0.026602,
     "end_time": "2024-12-19T13:51:00.430446",
     "exception": false,
     "start_time": "2024-12-19T13:51:00.403844",
     "status": "completed"
    },
    "tags": []
   },
   "source": [
    "#### Fill parquet with autoencoder"
   ]
  },
  {
   "cell_type": "code",
   "execution_count": 4,
   "id": "7f1b083e",
   "metadata": {
    "execution": {
     "iopub.execute_input": "2024-12-19T13:51:00.482568Z",
     "iopub.status.busy": "2024-12-19T13:51:00.482245Z",
     "iopub.status.idle": "2024-12-19T13:51:00.488112Z",
     "shell.execute_reply": "2024-12-19T13:51:00.487420Z"
    },
    "papermill": {
     "duration": 0.033773,
     "end_time": "2024-12-19T13:51:00.489702",
     "exception": false,
     "start_time": "2024-12-19T13:51:00.455929",
     "status": "completed"
    },
    "tags": []
   },
   "outputs": [],
   "source": [
    "class AutoEncoder(nn.Module):\n",
    "    def __init__(self, input_dim, encoding_dim):\n",
    "        super(AutoEncoder, self).__init__()\n",
    "        self.encoder = nn.Sequential(\n",
    "            nn.Linear(input_dim, encoding_dim*3),\n",
    "            nn.GELU(),\n",
    "            nn.Linear(encoding_dim*3, encoding_dim*2),\n",
    "            nn.GELU(),\n",
    "            nn.Linear(encoding_dim*2, encoding_dim),\n",
    "            nn.GELU()\n",
    "        )\n",
    "        self.decoder = nn.Sequential(\n",
    "            nn.Linear(encoding_dim, input_dim*2),\n",
    "            nn.GELU(),\n",
    "            nn.Linear(input_dim*2, input_dim*3),\n",
    "            nn.GELU(),\n",
    "            nn.Linear(input_dim*3, input_dim),\n",
    "            nn.Sigmoid()\n",
    "        )\n",
    "    def forward(self, x):\n",
    "        encoded = self.encoder(x)\n",
    "        decoded = self.decoder(encoded)\n",
    "        return decoded"
   ]
  },
  {
   "cell_type": "code",
   "execution_count": 5,
   "id": "0c1a0cf8",
   "metadata": {
    "execution": {
     "iopub.execute_input": "2024-12-19T13:51:00.541609Z",
     "iopub.status.busy": "2024-12-19T13:51:00.541358Z",
     "iopub.status.idle": "2024-12-19T13:51:00.547582Z",
     "shell.execute_reply": "2024-12-19T13:51:00.546878Z"
    },
    "papermill": {
     "duration": 0.034119,
     "end_time": "2024-12-19T13:51:00.549081",
     "exception": false,
     "start_time": "2024-12-19T13:51:00.514962",
     "status": "completed"
    },
    "tags": []
   },
   "outputs": [],
   "source": [
    "def perform_autoencoder(df, encoding_dim=50, epochs=50, batch_size=32):\n",
    "    scaler = StandardScaler()\n",
    "    df_scaled = scaler.fit_transform(df)\n",
    "    \n",
    "    data_tensor = torch.FloatTensor(df_scaled)\n",
    "    \n",
    "    input_dim = data_tensor.shape[1]\n",
    "    autoencoder = AutoEncoder(input_dim, encoding_dim)\n",
    "    \n",
    "    criterion = nn.MSELoss()\n",
    "    optimizer = optim.Adam(autoencoder.parameters())\n",
    "    \n",
    "    for epoch in range(epochs):\n",
    "        for i in range(0, len(data_tensor), batch_size):\n",
    "            batch = data_tensor[i : i + batch_size]\n",
    "            optimizer.zero_grad()\n",
    "            reconstructed = autoencoder(batch)\n",
    "            loss = criterion(reconstructed, batch)\n",
    "            loss.backward()\n",
    "            optimizer.step()\n",
    "        if (epoch + 1) % 10 == 0:\n",
    "            print(f'Epoch [{epoch + 1}/{epochs}], Loss: {loss.item():.4f}]')\n",
    "                 \n",
    "    with torch.no_grad():\n",
    "        encoded_data = autoencoder.encoder(data_tensor).numpy()\n",
    "        \n",
    "    df_encoded = pd.DataFrame(encoded_data, columns=[f'Enc_{i + 1}' for i in range(encoded_data.shape[1])])\n",
    "    \n",
    "    return df_encoded"
   ]
  },
  {
   "cell_type": "code",
   "execution_count": 6,
   "id": "765c2654",
   "metadata": {
    "execution": {
     "iopub.execute_input": "2024-12-19T13:51:00.601098Z",
     "iopub.status.busy": "2024-12-19T13:51:00.600451Z",
     "iopub.status.idle": "2024-12-19T13:51:00.630957Z",
     "shell.execute_reply": "2024-12-19T13:51:00.630171Z"
    },
    "papermill": {
     "duration": 0.058203,
     "end_time": "2024-12-19T13:51:00.632573",
     "exception": false,
     "start_time": "2024-12-19T13:51:00.574370",
     "status": "completed"
    },
    "tags": []
   },
   "outputs": [
    {
     "data": {
      "text/html": [
       "<div>\n",
       "<style scoped>\n",
       "    .dataframe tbody tr th:only-of-type {\n",
       "        vertical-align: middle;\n",
       "    }\n",
       "\n",
       "    .dataframe tbody tr th {\n",
       "        vertical-align: top;\n",
       "    }\n",
       "\n",
       "    .dataframe thead th {\n",
       "        text-align: right;\n",
       "    }\n",
       "</style>\n",
       "<table border=\"1\" class=\"dataframe\">\n",
       "  <thead>\n",
       "    <tr style=\"text-align: right;\">\n",
       "      <th></th>\n",
       "      <th>stat_0</th>\n",
       "      <th>stat_1</th>\n",
       "      <th>stat_2</th>\n",
       "      <th>stat_3</th>\n",
       "      <th>stat_4</th>\n",
       "      <th>stat_5</th>\n",
       "      <th>stat_6</th>\n",
       "      <th>stat_7</th>\n",
       "      <th>stat_8</th>\n",
       "      <th>stat_9</th>\n",
       "      <th>...</th>\n",
       "      <th>stat_86</th>\n",
       "      <th>stat_87</th>\n",
       "      <th>stat_88</th>\n",
       "      <th>stat_89</th>\n",
       "      <th>stat_90</th>\n",
       "      <th>stat_91</th>\n",
       "      <th>stat_92</th>\n",
       "      <th>stat_93</th>\n",
       "      <th>stat_94</th>\n",
       "      <th>stat_95</th>\n",
       "    </tr>\n",
       "  </thead>\n",
       "  <tbody>\n",
       "    <tr>\n",
       "      <th>0</th>\n",
       "      <td>50458.0</td>\n",
       "      <td>50458.0</td>\n",
       "      <td>50458.0</td>\n",
       "      <td>50458.0</td>\n",
       "      <td>50458.0</td>\n",
       "      <td>50458.0</td>\n",
       "      <td>50458.0</td>\n",
       "      <td>50458.0</td>\n",
       "      <td>50458.0</td>\n",
       "      <td>50458.0</td>\n",
       "      <td>...</td>\n",
       "      <td>1.738203</td>\n",
       "      <td>5.314874</td>\n",
       "      <td>89.422226</td>\n",
       "      <td>0.0</td>\n",
       "      <td>2626.199951</td>\n",
       "      <td>4187.0</td>\n",
       "      <td>8.639500e+13</td>\n",
       "      <td>7.0</td>\n",
       "      <td>2.0</td>\n",
       "      <td>57.0</td>\n",
       "    </tr>\n",
       "    <tr>\n",
       "      <th>1</th>\n",
       "      <td>340584.0</td>\n",
       "      <td>340584.0</td>\n",
       "      <td>340584.0</td>\n",
       "      <td>340584.0</td>\n",
       "      <td>340584.0</td>\n",
       "      <td>340584.0</td>\n",
       "      <td>340584.0</td>\n",
       "      <td>340584.0</td>\n",
       "      <td>340584.0</td>\n",
       "      <td>340584.0</td>\n",
       "      <td>...</td>\n",
       "      <td>2.475326</td>\n",
       "      <td>3.966906</td>\n",
       "      <td>89.080330</td>\n",
       "      <td>1.0</td>\n",
       "      <td>2628.199951</td>\n",
       "      <td>4146.0</td>\n",
       "      <td>8.639500e+13</td>\n",
       "      <td>7.0</td>\n",
       "      <td>2.0</td>\n",
       "      <td>243.0</td>\n",
       "    </tr>\n",
       "    <tr>\n",
       "      <th>2</th>\n",
       "      <td>40003.0</td>\n",
       "      <td>40003.0</td>\n",
       "      <td>40003.0</td>\n",
       "      <td>40003.0</td>\n",
       "      <td>40003.0</td>\n",
       "      <td>40003.0</td>\n",
       "      <td>40003.0</td>\n",
       "      <td>40003.0</td>\n",
       "      <td>40003.0</td>\n",
       "      <td>40003.0</td>\n",
       "      <td>...</td>\n",
       "      <td>1.746797</td>\n",
       "      <td>5.066334</td>\n",
       "      <td>86.987267</td>\n",
       "      <td>0.0</td>\n",
       "      <td>2618.199951</td>\n",
       "      <td>4183.0</td>\n",
       "      <td>8.636500e+13</td>\n",
       "      <td>7.0</td>\n",
       "      <td>3.0</td>\n",
       "      <td>134.0</td>\n",
       "    </tr>\n",
       "    <tr>\n",
       "      <th>3</th>\n",
       "      <td>223915.0</td>\n",
       "      <td>223915.0</td>\n",
       "      <td>223915.0</td>\n",
       "      <td>223915.0</td>\n",
       "      <td>223915.0</td>\n",
       "      <td>223915.0</td>\n",
       "      <td>223915.0</td>\n",
       "      <td>223915.0</td>\n",
       "      <td>223915.0</td>\n",
       "      <td>223915.0</td>\n",
       "      <td>...</td>\n",
       "      <td>1.269051</td>\n",
       "      <td>6.134459</td>\n",
       "      <td>89.976074</td>\n",
       "      <td>0.0</td>\n",
       "      <td>2502.000000</td>\n",
       "      <td>6000.0</td>\n",
       "      <td>8.639500e+13</td>\n",
       "      <td>7.0</td>\n",
       "      <td>4.0</td>\n",
       "      <td>72.0</td>\n",
       "    </tr>\n",
       "    <tr>\n",
       "      <th>4</th>\n",
       "      <td>15420.0</td>\n",
       "      <td>15420.0</td>\n",
       "      <td>15420.0</td>\n",
       "      <td>15420.0</td>\n",
       "      <td>15420.0</td>\n",
       "      <td>15420.0</td>\n",
       "      <td>15420.0</td>\n",
       "      <td>15420.0</td>\n",
       "      <td>15420.0</td>\n",
       "      <td>15420.0</td>\n",
       "      <td>...</td>\n",
       "      <td>1.071875</td>\n",
       "      <td>2.774382</td>\n",
       "      <td>89.300034</td>\n",
       "      <td>0.0</td>\n",
       "      <td>1046.800049</td>\n",
       "      <td>4199.0</td>\n",
       "      <td>8.601500e+13</td>\n",
       "      <td>7.0</td>\n",
       "      <td>4.0</td>\n",
       "      <td>76.0</td>\n",
       "    </tr>\n",
       "    <tr>\n",
       "      <th>...</th>\n",
       "      <td>...</td>\n",
       "      <td>...</td>\n",
       "      <td>...</td>\n",
       "      <td>...</td>\n",
       "      <td>...</td>\n",
       "      <td>...</td>\n",
       "      <td>...</td>\n",
       "      <td>...</td>\n",
       "      <td>...</td>\n",
       "      <td>...</td>\n",
       "      <td>...</td>\n",
       "      <td>...</td>\n",
       "      <td>...</td>\n",
       "      <td>...</td>\n",
       "      <td>...</td>\n",
       "      <td>...</td>\n",
       "      <td>...</td>\n",
       "      <td>...</td>\n",
       "      <td>...</td>\n",
       "      <td>...</td>\n",
       "      <td>...</td>\n",
       "    </tr>\n",
       "    <tr>\n",
       "      <th>991</th>\n",
       "      <td>394128.0</td>\n",
       "      <td>394128.0</td>\n",
       "      <td>394128.0</td>\n",
       "      <td>394128.0</td>\n",
       "      <td>394128.0</td>\n",
       "      <td>394128.0</td>\n",
       "      <td>394128.0</td>\n",
       "      <td>394128.0</td>\n",
       "      <td>394128.0</td>\n",
       "      <td>394128.0</td>\n",
       "      <td>...</td>\n",
       "      <td>2.099614</td>\n",
       "      <td>3.669502</td>\n",
       "      <td>89.025551</td>\n",
       "      <td>1.0</td>\n",
       "      <td>2576.399902</td>\n",
       "      <td>4191.0</td>\n",
       "      <td>8.639500e+13</td>\n",
       "      <td>7.0</td>\n",
       "      <td>4.0</td>\n",
       "      <td>161.0</td>\n",
       "    </tr>\n",
       "    <tr>\n",
       "      <th>992</th>\n",
       "      <td>1195.0</td>\n",
       "      <td>1195.0</td>\n",
       "      <td>1195.0</td>\n",
       "      <td>1195.0</td>\n",
       "      <td>1195.0</td>\n",
       "      <td>1195.0</td>\n",
       "      <td>1195.0</td>\n",
       "      <td>1195.0</td>\n",
       "      <td>1195.0</td>\n",
       "      <td>1195.0</td>\n",
       "      <td>...</td>\n",
       "      <td>0.996484</td>\n",
       "      <td>1.786410</td>\n",
       "      <td>81.665283</td>\n",
       "      <td>0.0</td>\n",
       "      <td>1526.599976</td>\n",
       "      <td>4194.0</td>\n",
       "      <td>8.514000e+13</td>\n",
       "      <td>7.0</td>\n",
       "      <td>2.0</td>\n",
       "      <td>130.0</td>\n",
       "    </tr>\n",
       "    <tr>\n",
       "      <th>993</th>\n",
       "      <td>393240.0</td>\n",
       "      <td>393240.0</td>\n",
       "      <td>393240.0</td>\n",
       "      <td>393240.0</td>\n",
       "      <td>393240.0</td>\n",
       "      <td>393240.0</td>\n",
       "      <td>393240.0</td>\n",
       "      <td>393240.0</td>\n",
       "      <td>393240.0</td>\n",
       "      <td>393240.0</td>\n",
       "      <td>...</td>\n",
       "      <td>1.547813</td>\n",
       "      <td>3.692727</td>\n",
       "      <td>89.333710</td>\n",
       "      <td>1.0</td>\n",
       "      <td>2592.199951</td>\n",
       "      <td>4178.0</td>\n",
       "      <td>8.639500e+13</td>\n",
       "      <td>7.0</td>\n",
       "      <td>1.0</td>\n",
       "      <td>79.0</td>\n",
       "    </tr>\n",
       "    <tr>\n",
       "      <th>994</th>\n",
       "      <td>40085.0</td>\n",
       "      <td>40085.0</td>\n",
       "      <td>40085.0</td>\n",
       "      <td>40085.0</td>\n",
       "      <td>40085.0</td>\n",
       "      <td>40085.0</td>\n",
       "      <td>40085.0</td>\n",
       "      <td>40085.0</td>\n",
       "      <td>40085.0</td>\n",
       "      <td>40085.0</td>\n",
       "      <td>...</td>\n",
       "      <td>0.999219</td>\n",
       "      <td>1.673958</td>\n",
       "      <td>88.629547</td>\n",
       "      <td>0.0</td>\n",
       "      <td>1875.199951</td>\n",
       "      <td>4183.0</td>\n",
       "      <td>8.639500e+13</td>\n",
       "      <td>7.0</td>\n",
       "      <td>1.0</td>\n",
       "      <td>155.0</td>\n",
       "    </tr>\n",
       "    <tr>\n",
       "      <th>995</th>\n",
       "      <td>342324.0</td>\n",
       "      <td>342324.0</td>\n",
       "      <td>342324.0</td>\n",
       "      <td>342324.0</td>\n",
       "      <td>342324.0</td>\n",
       "      <td>342324.0</td>\n",
       "      <td>342324.0</td>\n",
       "      <td>342324.0</td>\n",
       "      <td>342324.0</td>\n",
       "      <td>342324.0</td>\n",
       "      <td>...</td>\n",
       "      <td>1.006835</td>\n",
       "      <td>1.009104</td>\n",
       "      <td>88.652969</td>\n",
       "      <td>1.0</td>\n",
       "      <td>1196.599976</td>\n",
       "      <td>4176.0</td>\n",
       "      <td>8.639500e+13</td>\n",
       "      <td>7.0</td>\n",
       "      <td>4.0</td>\n",
       "      <td>20.0</td>\n",
       "    </tr>\n",
       "  </tbody>\n",
       "</table>\n",
       "<p>996 rows × 96 columns</p>\n",
       "</div>"
      ],
      "text/plain": [
       "       stat_0    stat_1    stat_2    stat_3    stat_4    stat_5    stat_6  \\\n",
       "0     50458.0   50458.0   50458.0   50458.0   50458.0   50458.0   50458.0   \n",
       "1    340584.0  340584.0  340584.0  340584.0  340584.0  340584.0  340584.0   \n",
       "2     40003.0   40003.0   40003.0   40003.0   40003.0   40003.0   40003.0   \n",
       "3    223915.0  223915.0  223915.0  223915.0  223915.0  223915.0  223915.0   \n",
       "4     15420.0   15420.0   15420.0   15420.0   15420.0   15420.0   15420.0   \n",
       "..        ...       ...       ...       ...       ...       ...       ...   \n",
       "991  394128.0  394128.0  394128.0  394128.0  394128.0  394128.0  394128.0   \n",
       "992    1195.0    1195.0    1195.0    1195.0    1195.0    1195.0    1195.0   \n",
       "993  393240.0  393240.0  393240.0  393240.0  393240.0  393240.0  393240.0   \n",
       "994   40085.0   40085.0   40085.0   40085.0   40085.0   40085.0   40085.0   \n",
       "995  342324.0  342324.0  342324.0  342324.0  342324.0  342324.0  342324.0   \n",
       "\n",
       "       stat_7    stat_8    stat_9  ...   stat_86   stat_87    stat_88  \\\n",
       "0     50458.0   50458.0   50458.0  ...  1.738203  5.314874  89.422226   \n",
       "1    340584.0  340584.0  340584.0  ...  2.475326  3.966906  89.080330   \n",
       "2     40003.0   40003.0   40003.0  ...  1.746797  5.066334  86.987267   \n",
       "3    223915.0  223915.0  223915.0  ...  1.269051  6.134459  89.976074   \n",
       "4     15420.0   15420.0   15420.0  ...  1.071875  2.774382  89.300034   \n",
       "..        ...       ...       ...  ...       ...       ...        ...   \n",
       "991  394128.0  394128.0  394128.0  ...  2.099614  3.669502  89.025551   \n",
       "992    1195.0    1195.0    1195.0  ...  0.996484  1.786410  81.665283   \n",
       "993  393240.0  393240.0  393240.0  ...  1.547813  3.692727  89.333710   \n",
       "994   40085.0   40085.0   40085.0  ...  0.999219  1.673958  88.629547   \n",
       "995  342324.0  342324.0  342324.0  ...  1.006835  1.009104  88.652969   \n",
       "\n",
       "     stat_89      stat_90  stat_91       stat_92  stat_93  stat_94  stat_95  \n",
       "0        0.0  2626.199951   4187.0  8.639500e+13      7.0      2.0     57.0  \n",
       "1        1.0  2628.199951   4146.0  8.639500e+13      7.0      2.0    243.0  \n",
       "2        0.0  2618.199951   4183.0  8.636500e+13      7.0      3.0    134.0  \n",
       "3        0.0  2502.000000   6000.0  8.639500e+13      7.0      4.0     72.0  \n",
       "4        0.0  1046.800049   4199.0  8.601500e+13      7.0      4.0     76.0  \n",
       "..       ...          ...      ...           ...      ...      ...      ...  \n",
       "991      1.0  2576.399902   4191.0  8.639500e+13      7.0      4.0    161.0  \n",
       "992      0.0  1526.599976   4194.0  8.514000e+13      7.0      2.0    130.0  \n",
       "993      1.0  2592.199951   4178.0  8.639500e+13      7.0      1.0     79.0  \n",
       "994      0.0  1875.199951   4183.0  8.639500e+13      7.0      1.0    155.0  \n",
       "995      1.0  1196.599976   4176.0  8.639500e+13      7.0      4.0     20.0  \n",
       "\n",
       "[996 rows x 96 columns]"
      ]
     },
     "execution_count": 6,
     "metadata": {},
     "output_type": "execute_result"
    }
   ],
   "source": [
    "df_train = train_ts.drop('id', axis=1)\n",
    "df_test = test_ts.drop('id', axis=1)\n",
    "df_train"
   ]
  },
  {
   "cell_type": "code",
   "execution_count": 7,
   "id": "ee480b6c",
   "metadata": {
    "execution": {
     "iopub.execute_input": "2024-12-19T13:51:00.685670Z",
     "iopub.status.busy": "2024-12-19T13:51:00.685426Z",
     "iopub.status.idle": "2024-12-19T13:51:10.888114Z",
     "shell.execute_reply": "2024-12-19T13:51:10.887159Z"
    },
    "papermill": {
     "duration": 10.231379,
     "end_time": "2024-12-19T13:51:10.890156",
     "exception": false,
     "start_time": "2024-12-19T13:51:00.658777",
     "status": "completed"
    },
    "tags": []
   },
   "outputs": [
    {
     "name": "stdout",
     "output_type": "stream",
     "text": [
      "Epoch [10/100], Loss: 1.5313]\n",
      "Epoch [20/100], Loss: 1.4248]\n",
      "Epoch [30/100], Loss: 1.3880]\n",
      "Epoch [40/100], Loss: 1.3860]\n",
      "Epoch [50/100], Loss: 1.3811]\n",
      "Epoch [60/100], Loss: 1.3788]\n",
      "Epoch [70/100], Loss: 1.3776]\n",
      "Epoch [80/100], Loss: 1.3760]\n",
      "Epoch [90/100], Loss: 1.3751]\n",
      "Epoch [100/100], Loss: 1.3693]\n",
      "Epoch [10/100], Loss: 1.0188]\n",
      "Epoch [20/100], Loss: 0.4822]\n",
      "Epoch [30/100], Loss: 0.4271]\n",
      "Epoch [40/100], Loss: 0.4271]\n",
      "Epoch [50/100], Loss: 0.4271]\n",
      "Epoch [60/100], Loss: 0.4271]\n",
      "Epoch [70/100], Loss: 0.4271]\n",
      "Epoch [80/100], Loss: 0.4271]\n",
      "Epoch [90/100], Loss: 0.4271]\n",
      "Epoch [100/100], Loss: 0.4271]\n"
     ]
    }
   ],
   "source": [
    "train_ts_encoded = perform_autoencoder(df_train, encoding_dim=60, epochs=100, batch_size=32)\n",
    "test_ts_encoded = perform_autoencoder(df_test, encoding_dim=60, epochs=100, batch_size=32)"
   ]
  },
  {
   "cell_type": "code",
   "execution_count": 8,
   "id": "28cfdbc1",
   "metadata": {
    "execution": {
     "iopub.execute_input": "2024-12-19T13:51:10.951735Z",
     "iopub.status.busy": "2024-12-19T13:51:10.951298Z",
     "iopub.status.idle": "2024-12-19T13:51:10.956622Z",
     "shell.execute_reply": "2024-12-19T13:51:10.955836Z"
    },
    "papermill": {
     "duration": 0.034831,
     "end_time": "2024-12-19T13:51:10.958267",
     "exception": false,
     "start_time": "2024-12-19T13:51:10.923436",
     "status": "completed"
    },
    "tags": []
   },
   "outputs": [],
   "source": [
    "time_series_cols = train_ts_encoded.columns.tolist() # lưu trữ các cột\n",
    "train_ts_encoded[\"id\"]=train_ts[\"id\"]\n",
    "test_ts_encoded['id']=test_ts[\"id\"]"
   ]
  },
  {
   "cell_type": "markdown",
   "id": "14335fed",
   "metadata": {
    "papermill": {
     "duration": 0.025903,
     "end_time": "2024-12-19T13:51:11.010446",
     "exception": false,
     "start_time": "2024-12-19T13:51:10.984543",
     "status": "completed"
    },
    "tags": []
   },
   "source": [
    "## TABULAR NORMAL DATA PROCESSING"
   ]
  },
  {
   "cell_type": "markdown",
   "id": "8ae20b68",
   "metadata": {
    "papermill": {
     "duration": 0.025882,
     "end_time": "2024-12-19T13:51:11.062541",
     "exception": false,
     "start_time": "2024-12-19T13:51:11.036659",
     "status": "completed"
    },
    "tags": []
   },
   "source": [
    "#### Drop any samplers which only missed any values in PCIAT test"
   ]
  },
  {
   "cell_type": "code",
   "execution_count": 9,
   "id": "3495460c",
   "metadata": {
    "execution": {
     "iopub.execute_input": "2024-12-19T13:51:11.116035Z",
     "iopub.status.busy": "2024-12-19T13:51:11.115730Z",
     "iopub.status.idle": "2024-12-19T13:51:11.180544Z",
     "shell.execute_reply": "2024-12-19T13:51:11.179878Z"
    },
    "papermill": {
     "duration": 0.093626,
     "end_time": "2024-12-19T13:51:11.182467",
     "exception": false,
     "start_time": "2024-12-19T13:51:11.088841",
     "status": "completed"
    },
    "tags": []
   },
   "outputs": [],
   "source": [
    "train_data = pd.read_csv(\"/kaggle/input/child-mind-institute-problematic-internet-use/train.csv\")\n",
    "test_data = pd.read_csv(\"/kaggle/input/child-mind-institute-problematic-internet-use/test.csv\")"
   ]
  },
  {
   "cell_type": "code",
   "execution_count": 10,
   "id": "04e0d897",
   "metadata": {
    "execution": {
     "iopub.execute_input": "2024-12-19T13:51:11.237029Z",
     "iopub.status.busy": "2024-12-19T13:51:11.236722Z",
     "iopub.status.idle": "2024-12-19T13:51:11.244848Z",
     "shell.execute_reply": "2024-12-19T13:51:11.244222Z"
    },
    "papermill": {
     "duration": 0.036883,
     "end_time": "2024-12-19T13:51:11.246438",
     "exception": false,
     "start_time": "2024-12-19T13:51:11.209555",
     "status": "completed"
    },
    "tags": []
   },
   "outputs": [],
   "source": [
    "columns_not_in_test = ['PCIAT-PCIAT_01', 'PCIAT-PCIAT_02', 'PCIAT-PCIAT_03', 'PCIAT-PCIAT_04', 'PCIAT-PCIAT_05', 'PCIAT-PCIAT_06', 'PCIAT-PCIAT_07', 'PCIAT-PCIAT_08', 'PCIAT-PCIAT_09', 'PCIAT-PCIAT_10', 'PCIAT-PCIAT_11', 'PCIAT-PCIAT_12', 'PCIAT-PCIAT_13', 'PCIAT-PCIAT_14', 'PCIAT-PCIAT_15', 'PCIAT-PCIAT_16', 'PCIAT-PCIAT_17', 'PCIAT-PCIAT_18', 'PCIAT-PCIAT_19', 'PCIAT-PCIAT_20', 'PCIAT-PCIAT_Total', 'PCIAT-Season', 'sii']\n",
    "train_data = train_data.dropna(subset=columns_not_in_test)"
   ]
  },
  {
   "cell_type": "markdown",
   "id": "42718f0b",
   "metadata": {
    "execution": {
     "iopub.execute_input": "2024-12-16T07:14:27.674761Z",
     "iopub.status.busy": "2024-12-16T07:14:27.674415Z",
     "iopub.status.idle": "2024-12-16T07:14:27.678811Z",
     "shell.execute_reply": "2024-12-16T07:14:27.677871Z",
     "shell.execute_reply.started": "2024-12-16T07:14:27.674731Z"
    },
    "papermill": {
     "duration": 0.026754,
     "end_time": "2024-12-19T13:51:11.299174",
     "exception": false,
     "start_time": "2024-12-19T13:51:11.272420",
     "status": "completed"
    },
    "tags": []
   },
   "source": [
    "#### Drop season data"
   ]
  },
  {
   "cell_type": "code",
   "execution_count": 11,
   "id": "ed1466c7",
   "metadata": {
    "execution": {
     "iopub.execute_input": "2024-12-19T13:51:11.352708Z",
     "iopub.status.busy": "2024-12-19T13:51:11.352446Z",
     "iopub.status.idle": "2024-12-19T13:51:11.356505Z",
     "shell.execute_reply": "2024-12-19T13:51:11.355849Z"
    },
    "papermill": {
     "duration": 0.03247,
     "end_time": "2024-12-19T13:51:11.357925",
     "exception": false,
     "start_time": "2024-12-19T13:51:11.325455",
     "status": "completed"
    },
    "tags": []
   },
   "outputs": [],
   "source": [
    "train_seasonal_columns = [col for col in train_data.columns if 'Season' in col]\n",
    "test_seasonal_columns = [col for col in test_data.columns if 'Season' in col]"
   ]
  },
  {
   "cell_type": "code",
   "execution_count": 12,
   "id": "b27207b9",
   "metadata": {
    "execution": {
     "iopub.execute_input": "2024-12-19T13:51:11.411145Z",
     "iopub.status.busy": "2024-12-19T13:51:11.410881Z",
     "iopub.status.idle": "2024-12-19T13:51:11.416062Z",
     "shell.execute_reply": "2024-12-19T13:51:11.415386Z"
    },
    "papermill": {
     "duration": 0.033676,
     "end_time": "2024-12-19T13:51:11.417621",
     "exception": false,
     "start_time": "2024-12-19T13:51:11.383945",
     "status": "completed"
    },
    "tags": []
   },
   "outputs": [],
   "source": [
    "train_data_wo_season = train_data.drop(train_seasonal_columns, axis = 1)\n",
    "test_data_wo_season = test_data.drop(test_seasonal_columns, axis = 1)"
   ]
  },
  {
   "cell_type": "markdown",
   "id": "04b1cc43",
   "metadata": {
    "papermill": {
     "duration": 0.026527,
     "end_time": "2024-12-19T13:51:11.470154",
     "exception": false,
     "start_time": "2024-12-19T13:51:11.443627",
     "status": "completed"
    },
    "tags": []
   },
   "source": [
    "#### So, we got a quire reliable labels here, the next step would be create X and y"
   ]
  },
  {
   "cell_type": "code",
   "execution_count": 13,
   "id": "976f8369",
   "metadata": {
    "execution": {
     "iopub.execute_input": "2024-12-19T13:51:11.523453Z",
     "iopub.status.busy": "2024-12-19T13:51:11.523190Z",
     "iopub.status.idle": "2024-12-19T13:51:11.528786Z",
     "shell.execute_reply": "2024-12-19T13:51:11.528203Z"
    },
    "papermill": {
     "duration": 0.034027,
     "end_time": "2024-12-19T13:51:11.530297",
     "exception": false,
     "start_time": "2024-12-19T13:51:11.496270",
     "status": "completed"
    },
    "tags": []
   },
   "outputs": [],
   "source": [
    "label_related_features = ['PCIAT-PCIAT_01', 'PCIAT-PCIAT_02', 'PCIAT-PCIAT_03', 'PCIAT-PCIAT_04', 'PCIAT-PCIAT_05', 'PCIAT-PCIAT_06', 'PCIAT-PCIAT_07', 'PCIAT-PCIAT_08', 'PCIAT-PCIAT_09', 'PCIAT-PCIAT_10', 'PCIAT-PCIAT_11', 'PCIAT-PCIAT_12', 'PCIAT-PCIAT_13', 'PCIAT-PCIAT_14', 'PCIAT-PCIAT_15', 'PCIAT-PCIAT_16', 'PCIAT-PCIAT_17', 'PCIAT-PCIAT_18', 'PCIAT-PCIAT_19', 'PCIAT-PCIAT_20', 'PCIAT-PCIAT_Total', 'sii']\n",
    "label = ['PCIAT-PCIAT_Total']\n",
    "X = train_data_wo_season.drop(label_related_features, axis = 1)\n",
    "new_y = train_data_wo_season[label]"
   ]
  },
  {
   "cell_type": "code",
   "execution_count": 14,
   "id": "271e3c49",
   "metadata": {
    "execution": {
     "iopub.execute_input": "2024-12-19T13:51:11.583384Z",
     "iopub.status.busy": "2024-12-19T13:51:11.583120Z",
     "iopub.status.idle": "2024-12-19T13:51:11.587880Z",
     "shell.execute_reply": "2024-12-19T13:51:11.587185Z"
    },
    "papermill": {
     "duration": 0.033298,
     "end_time": "2024-12-19T13:51:11.589619",
     "exception": false,
     "start_time": "2024-12-19T13:51:11.556321",
     "status": "completed"
    },
    "tags": []
   },
   "outputs": [],
   "source": [
    "new_X = X.drop(['id'], axis = 1)\n",
    "new_test = test_data_wo_season.drop(['id'], axis = 1)"
   ]
  },
  {
   "cell_type": "code",
   "execution_count": 15,
   "id": "b121fc17",
   "metadata": {
    "execution": {
     "iopub.execute_input": "2024-12-19T13:51:11.648763Z",
     "iopub.status.busy": "2024-12-19T13:51:11.648505Z",
     "iopub.status.idle": "2024-12-19T13:51:11.655800Z",
     "shell.execute_reply": "2024-12-19T13:51:11.655139Z"
    },
    "papermill": {
     "duration": 0.038868,
     "end_time": "2024-12-19T13:51:11.657462",
     "exception": false,
     "start_time": "2024-12-19T13:51:11.618594",
     "status": "completed"
    },
    "tags": []
   },
   "outputs": [],
   "source": [
    "def feature_engineering(df):\n",
    "    #Age\n",
    "    df['Internet_Hours_Age'] = df['PreInt_EduHx-computerinternet_hoursday'] * df['Basic_Demos-Age']\n",
    "    df['Physical-Waist_Age'] = df['Basic_Demos-Age'] * df['Physical-Waist_Circumference']\n",
    "    df['BMI_Age'] = df['Physical-BMI'] * df['Basic_Demos-Age']\n",
    "    df['Physical-Height_Age'] = df['Basic_Demos-Age'] * df['Physical-Height']\n",
    "    df['SDS_InternetHours'] = df['SDS-SDS_Total_T'] * df['PreInt_EduHx-computerinternet_hoursday']\n",
    "\n",
    "    #SDS\n",
    "    df['SDS_BMI'] = df['BIA-BIA_BMI'] * df['SDS-SDS_Total_T']\n",
    "    df['CGAS_SDS'] = df['CGAS-CGAS_Score'] * df['SDS-SDS_Total_T']\n",
    "    df['CGAS_Endurance_Mins'] = df['CGAS-CGAS_Score'] * df['Fitness_Endurance-Time_Mins']\n",
    "    df['SDS_Activity'] = df['BIA-BIA_Activity_Level_num'] * df['SDS-SDS_Total_T']\n",
    "\n",
    "    df['BMI_Systolic_BP'] = df['BIA-BIA_BMI'] * df['Physical-Systolic_BP']\n",
    "    df['Age_Systolic_BP'] = df['Basic_Demos-Age'] * df['Physical-Systolic_BP']\n",
    "    df['PreInt_Systolic_BP'] = df['Physical-Systolic_BP'] * df['PreInt_EduHx-computerinternet_hoursday']\n",
    "    df['PAQ_A_Activity'] = df['BIA-BIA_Activity_Level_num'] * df['PAQ_A-PAQ_A_Total']\n",
    "    df['Activity_CU_PU'] = df['BIA-BIA_Activity_Level_num'] * df['FGC-FGC_CU'] * df['FGC-FGC_PU']\n",
    "\n",
    "    #FGC\n",
    "    df['FGC_CU_PU'] = df['FGC-FGC_CU'] * df['FGC-FGC_PU']\n",
    "    df['FGC_CU_PU_Age'] = df['FGC-FGC_CU'] * df['FGC-FGC_PU'] * df['Basic_Demos-Age']\n",
    "    df['FGC_GSND_GSD'] = df['FGC-FGC_GSND'] * df['FGC-FGC_GSD']\n",
    "    df['FGC_GSND_GSD_Age'] = df['FGC-FGC_GSND'] * df['FGC-FGC_GSD'] * df['Basic_Demos-Age']\n",
    "    df['CGAS_CU_PU'] = df['CGAS-CGAS_Score'] * df['FGC-FGC_CU'] * df['FGC-FGC_PU']\n",
    "    df['PreInt_FGC_CU_PU'] = df['PreInt_EduHx-computerinternet_hoursday'] * df['FGC-FGC_CU'] * df['FGC-FGC_PU']\n",
    "    df['Endurance_CU_PU'] = df['Fitness_Endurance-Time_Mins'] * df['FGC-FGC_CU'] * df['FGC-FGC_PU']\n",
    "\n",
    "    return df"
   ]
  },
  {
   "cell_type": "code",
   "execution_count": 16,
   "id": "d09d0626",
   "metadata": {
    "execution": {
     "iopub.execute_input": "2024-12-19T13:51:11.710957Z",
     "iopub.status.busy": "2024-12-19T13:51:11.710697Z",
     "iopub.status.idle": "2024-12-19T13:51:11.738105Z",
     "shell.execute_reply": "2024-12-19T13:51:11.737065Z"
    },
    "papermill": {
     "duration": 0.056446,
     "end_time": "2024-12-19T13:51:11.740040",
     "exception": false,
     "start_time": "2024-12-19T13:51:11.683594",
     "status": "completed"
    },
    "tags": []
   },
   "outputs": [],
   "source": [
    "new_X = feature_engineering(new_X)\n",
    "new_test = feature_engineering(new_test)"
   ]
  },
  {
   "cell_type": "code",
   "execution_count": 19,
   "id": "56ba6376",
   "metadata": {
    "execution": {
     "iopub.execute_input": "2024-12-19T13:51:11.969299Z",
     "iopub.status.busy": "2024-12-19T13:51:11.969039Z",
     "iopub.status.idle": "2024-12-19T13:51:11.991718Z",
     "shell.execute_reply": "2024-12-19T13:51:11.990877Z"
    },
    "papermill": {
     "duration": 0.051384,
     "end_time": "2024-12-19T13:51:11.993363",
     "exception": false,
     "start_time": "2024-12-19T13:51:11.941979",
     "status": "completed"
    },
    "tags": []
   },
   "outputs": [
    {
     "name": "stderr",
     "output_type": "stream",
     "text": [
      "/opt/conda/lib/python3.10/site-packages/sklearn/utils/extmath.py:1047: RuntimeWarning: invalid value encountered in divide\n",
      "  updated_mean = (last_sum + new_sum) / updated_sample_count\n",
      "/opt/conda/lib/python3.10/site-packages/sklearn/utils/extmath.py:1052: RuntimeWarning: invalid value encountered in divide\n",
      "  T = new_sum / new_sample_count\n",
      "/opt/conda/lib/python3.10/site-packages/sklearn/utils/extmath.py:1072: RuntimeWarning: invalid value encountered in divide\n",
      "  new_unnormalized_variance -= correction**2 / new_sample_count\n"
     ]
    }
   ],
   "source": [
    "from sklearn.preprocessing import StandardScaler\n",
    "standard_scaler = StandardScaler()\n",
    "\n",
    "new_X = pd.DataFrame(standard_scaler.fit_transform(new_X), columns=new_X.columns)\n",
    "new_test = pd.DataFrame(standard_scaler.fit_transform(new_test), columns=new_test.columns)"
   ]
  },
  {
   "cell_type": "code",
   "execution_count": 20,
   "id": "998580b5",
   "metadata": {
    "execution": {
     "iopub.execute_input": "2024-12-19T13:51:12.047082Z",
     "iopub.status.busy": "2024-12-19T13:51:12.046801Z",
     "iopub.status.idle": "2024-12-19T13:51:12.051714Z",
     "shell.execute_reply": "2024-12-19T13:51:12.050938Z"
    },
    "papermill": {
     "duration": 0.033518,
     "end_time": "2024-12-19T13:51:12.053403",
     "exception": false,
     "start_time": "2024-12-19T13:51:12.019885",
     "status": "completed"
    },
    "tags": []
   },
   "outputs": [],
   "source": [
    "new_X = new_X.drop('PAQ_A_Activity', axis=1)\n",
    "new_test = new_test.drop('PAQ_A_Activity', axis=1)"
   ]
  },
  {
   "cell_type": "markdown",
   "id": "37cada57",
   "metadata": {
    "papermill": {
     "duration": 0.026284,
     "end_time": "2024-12-19T13:51:12.106086",
     "exception": false,
     "start_time": "2024-12-19T13:51:12.079802",
     "status": "completed"
    },
    "tags": []
   },
   "source": [
    "## IMPUTATION IN NORMAL TABULAR DATA"
   ]
  },
  {
   "cell_type": "code",
   "execution_count": 21,
   "id": "5fdae5eb",
   "metadata": {
    "execution": {
     "iopub.execute_input": "2024-12-19T13:51:12.160364Z",
     "iopub.status.busy": "2024-12-19T13:51:12.160074Z",
     "iopub.status.idle": "2024-12-19T13:51:12.353019Z",
     "shell.execute_reply": "2024-12-19T13:51:12.352130Z"
    },
    "papermill": {
     "duration": 0.221998,
     "end_time": "2024-12-19T13:51:12.354883",
     "exception": false,
     "start_time": "2024-12-19T13:51:12.132885",
     "status": "completed"
    },
    "tags": []
   },
   "outputs": [],
   "source": [
    "from sklearn.experimental import enable_iterative_imputer\n",
    "from sklearn.impute import IterativeImputer\n",
    "import numpy as np"
   ]
  },
  {
   "cell_type": "code",
   "execution_count": 22,
   "id": "ae8f99ae",
   "metadata": {
    "execution": {
     "iopub.execute_input": "2024-12-19T13:51:12.409402Z",
     "iopub.status.busy": "2024-12-19T13:51:12.409120Z",
     "iopub.status.idle": "2024-12-19T13:51:12.413632Z",
     "shell.execute_reply": "2024-12-19T13:51:12.412881Z"
    },
    "papermill": {
     "duration": 0.033372,
     "end_time": "2024-12-19T13:51:12.415151",
     "exception": false,
     "start_time": "2024-12-19T13:51:12.381779",
     "status": "completed"
    },
    "tags": []
   },
   "outputs": [],
   "source": [
    "def fill_na_with_MICE(df):\n",
    "    df_copy = df.copy()\n",
    "    missing_mask = df_copy.isna()\n",
    "    original_columns = df_copy.columns.tolist()\n",
    "    imputer = IterativeImputer(max_iter=50, random_state=0)\n",
    "    imputed_values = imputer.fit_transform(df_copy)\n",
    "    imputed_df = pd.DataFrame(\n",
    "        imputed_values,\n",
    "        columns=original_columns,\n",
    "        index=df_copy.index\n",
    "    )\n",
    "    df_copy[missing_mask] = imputed_df[missing_mask]\n",
    "    return df_copy\n",
    "    "
   ]
  },
  {
   "cell_type": "code",
   "execution_count": 23,
   "id": "116401a0",
   "metadata": {
    "execution": {
     "iopub.execute_input": "2024-12-19T13:51:12.468983Z",
     "iopub.status.busy": "2024-12-19T13:51:12.468375Z",
     "iopub.status.idle": "2024-12-19T13:51:46.108789Z",
     "shell.execute_reply": "2024-12-19T13:51:46.107781Z"
    },
    "papermill": {
     "duration": 33.696155,
     "end_time": "2024-12-19T13:51:46.137617",
     "exception": false,
     "start_time": "2024-12-19T13:51:12.441462",
     "status": "completed"
    },
    "tags": []
   },
   "outputs": [
    {
     "name": "stderr",
     "output_type": "stream",
     "text": [
      "/opt/conda/lib/python3.10/site-packages/sklearn/impute/_iterative.py:785: ConvergenceWarning: [IterativeImputer] Early stopping criterion not reached.\n",
      "  warnings.warn(\n"
     ]
    }
   ],
   "source": [
    "new_X = fill_na_with_MICE(new_X)\n",
    "new_test = fill_na_with_MICE(new_test)"
   ]
  },
  {
   "cell_type": "markdown",
   "id": "32fb62b0",
   "metadata": {
    "papermill": {
     "duration": 0.026319,
     "end_time": "2024-12-19T13:51:46.190673",
     "exception": false,
     "start_time": "2024-12-19T13:51:46.164354",
     "status": "completed"
    },
    "tags": []
   },
   "source": [
    "## MERGE PARQUET INTO TABULAR DATA"
   ]
  },
  {
   "cell_type": "code",
   "execution_count": 24,
   "id": "a32e464f",
   "metadata": {
    "execution": {
     "iopub.execute_input": "2024-12-19T13:51:46.244870Z",
     "iopub.status.busy": "2024-12-19T13:51:46.244547Z",
     "iopub.status.idle": "2024-12-19T13:51:46.252442Z",
     "shell.execute_reply": "2024-12-19T13:51:46.251621Z"
    },
    "papermill": {
     "duration": 0.037133,
     "end_time": "2024-12-19T13:51:46.254057",
     "exception": false,
     "start_time": "2024-12-19T13:51:46.216924",
     "status": "completed"
    },
    "tags": []
   },
   "outputs": [],
   "source": [
    "train_ts_encoded[\"id\"] = train_ts[\"id\"]\n",
    "new_X['id'] =  train_data['id']"
   ]
  },
  {
   "cell_type": "code",
   "execution_count": 25,
   "id": "57f50b20",
   "metadata": {
    "execution": {
     "iopub.execute_input": "2024-12-19T13:51:46.308074Z",
     "iopub.status.busy": "2024-12-19T13:51:46.307749Z",
     "iopub.status.idle": "2024-12-19T13:51:46.312105Z",
     "shell.execute_reply": "2024-12-19T13:51:46.311436Z"
    },
    "papermill": {
     "duration": 0.033098,
     "end_time": "2024-12-19T13:51:46.313525",
     "exception": false,
     "start_time": "2024-12-19T13:51:46.280427",
     "status": "completed"
    },
    "tags": []
   },
   "outputs": [],
   "source": [
    "test_ts_encoded['id'] = test_ts['id']\n",
    "new_test['id'] = test_data['id']"
   ]
  },
  {
   "cell_type": "code",
   "execution_count": 26,
   "id": "6136d7f0",
   "metadata": {
    "execution": {
     "iopub.execute_input": "2024-12-19T13:51:46.368192Z",
     "iopub.status.busy": "2024-12-19T13:51:46.367913Z",
     "iopub.status.idle": "2024-12-19T13:51:46.386600Z",
     "shell.execute_reply": "2024-12-19T13:51:46.386009Z"
    },
    "papermill": {
     "duration": 0.047606,
     "end_time": "2024-12-19T13:51:46.388080",
     "exception": false,
     "start_time": "2024-12-19T13:51:46.340474",
     "status": "completed"
    },
    "tags": []
   },
   "outputs": [],
   "source": [
    "merged_train = pd.merge(new_X, train_ts_encoded, how='left', on = 'id')\n",
    "merged_test = pd.merge(new_test, test_ts_encoded, how='left', on = 'id')"
   ]
  },
  {
   "cell_type": "code",
   "execution_count": 27,
   "id": "232e0e93",
   "metadata": {
    "execution": {
     "iopub.execute_input": "2024-12-19T13:51:46.441802Z",
     "iopub.status.busy": "2024-12-19T13:51:46.441572Z",
     "iopub.status.idle": "2024-12-19T13:51:46.446016Z",
     "shell.execute_reply": "2024-12-19T13:51:46.445227Z"
    },
    "papermill": {
     "duration": 0.03315,
     "end_time": "2024-12-19T13:51:46.447583",
     "exception": false,
     "start_time": "2024-12-19T13:51:46.414433",
     "status": "completed"
    },
    "tags": []
   },
   "outputs": [],
   "source": [
    "merged_train_not_fill = merged_train.drop(['id'], axis = 1)"
   ]
  },
  {
   "cell_type": "markdown",
   "id": "a9e242f0",
   "metadata": {
    "papermill": {
     "duration": 0.02623,
     "end_time": "2024-12-19T13:51:46.500234",
     "exception": false,
     "start_time": "2024-12-19T13:51:46.474004",
     "status": "completed"
    },
    "tags": []
   },
   "source": [
    "## AFTER MERGED, FILL NULL WITH MERGED DATA"
   ]
  },
  {
   "cell_type": "code",
   "execution_count": 28,
   "id": "d6043419",
   "metadata": {
    "execution": {
     "iopub.execute_input": "2024-12-19T13:51:46.554159Z",
     "iopub.status.busy": "2024-12-19T13:51:46.553878Z",
     "iopub.status.idle": "2024-12-19T13:51:46.559116Z",
     "shell.execute_reply": "2024-12-19T13:51:46.558286Z"
    },
    "papermill": {
     "duration": 0.033949,
     "end_time": "2024-12-19T13:51:46.560677",
     "exception": false,
     "start_time": "2024-12-19T13:51:46.526728",
     "status": "completed"
    },
    "tags": []
   },
   "outputs": [],
   "source": [
    "merged_train_wo_id = merged_train.drop('id', axis = 1)\n",
    "merged_test_wo_id = merged_test.drop('id', axis = 1)"
   ]
  },
  {
   "cell_type": "code",
   "execution_count": 29,
   "id": "1273e84e",
   "metadata": {
    "execution": {
     "iopub.execute_input": "2024-12-19T13:51:46.614738Z",
     "iopub.status.busy": "2024-12-19T13:51:46.614475Z",
     "iopub.status.idle": "2024-12-19T13:51:46.634863Z",
     "shell.execute_reply": "2024-12-19T13:51:46.634154Z"
    },
    "papermill": {
     "duration": 0.049264,
     "end_time": "2024-12-19T13:51:46.636368",
     "exception": false,
     "start_time": "2024-12-19T13:51:46.587104",
     "status": "completed"
    },
    "tags": []
   },
   "outputs": [],
   "source": [
    "float64_cols = merged_train_wo_id.select_dtypes(include=['float64']).columns\n",
    "merged_train_wo_id[float64_cols] = merged_train_wo_id[float64_cols].astype('float32')\n",
    "merged_test_wo_id[float64_cols] = merged_test_wo_id[float64_cols].astype('float32')"
   ]
  },
  {
   "cell_type": "code",
   "execution_count": 31,
   "id": "8a1688d8",
   "metadata": {
    "execution": {
     "iopub.execute_input": "2024-12-19T13:51:46.750333Z",
     "iopub.status.busy": "2024-12-19T13:51:46.750057Z",
     "iopub.status.idle": "2024-12-19T13:51:46.753639Z",
     "shell.execute_reply": "2024-12-19T13:51:46.752865Z"
    },
    "papermill": {
     "duration": 0.032643,
     "end_time": "2024-12-19T13:51:46.755250",
     "exception": false,
     "start_time": "2024-12-19T13:51:46.722607",
     "status": "completed"
    },
    "tags": []
   },
   "outputs": [],
   "source": [
    "from sklearn.impute import KNNImputer"
   ]
  },
  {
   "cell_type": "code",
   "execution_count": 32,
   "id": "8394dd13",
   "metadata": {
    "execution": {
     "iopub.execute_input": "2024-12-19T13:51:46.810571Z",
     "iopub.status.busy": "2024-12-19T13:51:46.810338Z",
     "iopub.status.idle": "2024-12-19T13:51:49.955998Z",
     "shell.execute_reply": "2024-12-19T13:51:49.955258Z"
    },
    "papermill": {
     "duration": 3.175974,
     "end_time": "2024-12-19T13:51:49.958110",
     "exception": false,
     "start_time": "2024-12-19T13:51:46.782136",
     "status": "completed"
    },
    "tags": []
   },
   "outputs": [
    {
     "name": "stdout",
     "output_type": "stream",
     "text": [
      "Index(['Basic_Demos-Age', 'Basic_Demos-Sex', 'CGAS-CGAS_Score', 'Physical-BMI',\n",
      "       'Physical-Height', 'Physical-Weight', 'Physical-Waist_Circumference',\n",
      "       'Physical-Diastolic_BP', 'Physical-HeartRate', 'Physical-Systolic_BP',\n",
      "       ...\n",
      "       'Enc_51', 'Enc_52', 'Enc_53', 'Enc_54', 'Enc_55', 'Enc_56', 'Enc_57',\n",
      "       'Enc_58', 'Enc_59', 'Enc_60'],\n",
      "      dtype='object', length=128)\n"
     ]
    }
   ],
   "source": [
    "imputer = KNNImputer(n_neighbors=10)\n",
    "\n",
    "numeric_cols = merged_train_wo_id.select_dtypes(include=['float64', 'int64', 'float32']).columns\n",
    "print(numeric_cols)\n",
    "imputed_data = imputer.fit_transform(merged_train_wo_id[numeric_cols])\n",
    "\n",
    "train_imputed = pd.DataFrame(imputed_data, columns=numeric_cols)\n",
    "for col in merged_train_wo_id.columns:\n",
    "    if col not in numeric_cols:\n",
    "        train_imputed[col] = merged_train_wo_id[col]\n",
    "\n",
    "merged_train_wo_id = train_imputed\n",
    "\n",
    "imputed_data = imputer.fit_transform(merged_test_wo_id[numeric_cols])\n",
    "\n",
    "test_imputed = pd.DataFrame(imputed_data, columns=numeric_cols)\n",
    "for col in merged_test_wo_id.columns:\n",
    "    if col not in numeric_cols:\n",
    "        test_imputed[col] = merged_test_wo_id[col]\n",
    "\n",
    "merged_test_wo_id = test_imputed"
   ]
  },
  {
   "cell_type": "code",
   "execution_count": 33,
   "id": "bd91653e",
   "metadata": {
    "execution": {
     "iopub.execute_input": "2024-12-19T13:51:50.013477Z",
     "iopub.status.busy": "2024-12-19T13:51:50.013202Z",
     "iopub.status.idle": "2024-12-19T13:51:50.017177Z",
     "shell.execute_reply": "2024-12-19T13:51:50.016335Z"
    },
    "papermill": {
     "duration": 0.033336,
     "end_time": "2024-12-19T13:51:50.018984",
     "exception": false,
     "start_time": "2024-12-19T13:51:49.985648",
     "status": "completed"
    },
    "tags": []
   },
   "outputs": [],
   "source": [
    "new_X = merged_train_wo_id\n",
    "new_test = merged_test_wo_id"
   ]
  },
  {
   "cell_type": "markdown",
   "id": "7c69a6be",
   "metadata": {
    "papermill": {
     "duration": 0.026299,
     "end_time": "2024-12-19T13:51:50.072921",
     "exception": false,
     "start_time": "2024-12-19T13:51:50.046622",
     "status": "completed"
    },
    "tags": []
   },
   "source": [
    "### Preparing for FTT"
   ]
  },
  {
   "cell_type": "code",
   "execution_count": 34,
   "id": "c4c5526d",
   "metadata": {
    "execution": {
     "iopub.execute_input": "2024-12-19T13:51:50.126847Z",
     "iopub.status.busy": "2024-12-19T13:51:50.126541Z",
     "iopub.status.idle": "2024-12-19T13:51:50.131496Z",
     "shell.execute_reply": "2024-12-19T13:51:50.130794Z"
    },
    "papermill": {
     "duration": 0.03378,
     "end_time": "2024-12-19T13:51:50.132945",
     "exception": false,
     "start_time": "2024-12-19T13:51:50.099165",
     "status": "completed"
    },
    "tags": []
   },
   "outputs": [],
   "source": [
    "def get_info_for_ftt(df):\n",
    "    number_of_cat = 0\n",
    "    cat_ranges = []\n",
    "    all_features = df.columns.tolist()\n",
    "    cat_idx = []\n",
    "    for i, feature in enumerate(all_features):\n",
    "        if (df[feature].nunique() <= 2):\n",
    "            number_of_cat = number_of_cat + 1\n",
    "            cat_ranges.append(df[feature].nunique())\n",
    "            cat_idx.append(i)\n",
    "    \n",
    "    num_continuous = df.shape[-1] - number_of_cat\n",
    "    return cat_ranges, num_continuous, cat_idx\n"
   ]
  },
  {
   "cell_type": "code",
   "execution_count": 35,
   "id": "e572f3cf",
   "metadata": {
    "execution": {
     "iopub.execute_input": "2024-12-19T13:51:50.186743Z",
     "iopub.status.busy": "2024-12-19T13:51:50.186486Z",
     "iopub.status.idle": "2024-12-19T13:51:50.193228Z",
     "shell.execute_reply": "2024-12-19T13:51:50.192429Z"
    },
    "papermill": {
     "duration": 0.035679,
     "end_time": "2024-12-19T13:51:50.194961",
     "exception": false,
     "start_time": "2024-12-19T13:51:50.159282",
     "status": "completed"
    },
    "tags": []
   },
   "outputs": [],
   "source": [
    "import torch\n",
    "from torch.utils.data import Dataset\n",
    "\n",
    "class MyDataset(Dataset):\n",
    "    def __init__(self, samples, labels, cat_idx):\n",
    "        if isinstance(labels, pd.DataFrame) or isinstance(labels, pd.Series):\n",
    "            labels = labels.to_numpy()\n",
    "        self.samples = samples\n",
    "        self.labels = labels\n",
    "        self.cat_idx = cat_idx\n",
    "        \n",
    "    def __len__(self):\n",
    "        return len(self.labels)\n",
    "        \n",
    "    def divide_cat_num(self, row_data):\n",
    "        mask = np.zeros(len(row_data), dtype=bool)\n",
    "        mask[self.cat_idx] = True\n",
    "        cat_elements = row_data[mask]\n",
    "        remaining_elements = row_data[~mask]\n",
    "        return cat_elements, remaining_elements\n",
    "\n",
    "    def __getitem__(self, idx):\n",
    "        row_value = self.samples[idx]\n",
    "        tensor_row_value = torch.tensor(row_value)\n",
    "        cat_values, num_values = self.divide_cat_num(row_value)\n",
    "        cat_values = torch.tensor(cat_values, dtype=torch.int32)\n",
    "        num_values = torch.tensor(num_values, dtype=torch.float32)\n",
    "        label = self.labels[idx]\n",
    "        tensor_label = torch.tensor(label, dtype=torch.float32) \n",
    "        return cat_values, num_values, tensor_label"
   ]
  },
  {
   "cell_type": "code",
   "execution_count": 36,
   "id": "e203be45",
   "metadata": {
    "execution": {
     "iopub.execute_input": "2024-12-19T13:51:50.249069Z",
     "iopub.status.busy": "2024-12-19T13:51:50.248413Z",
     "iopub.status.idle": "2024-12-19T13:51:50.252019Z",
     "shell.execute_reply": "2024-12-19T13:51:50.251259Z"
    },
    "papermill": {
     "duration": 0.032364,
     "end_time": "2024-12-19T13:51:50.253624",
     "exception": false,
     "start_time": "2024-12-19T13:51:50.221260",
     "status": "completed"
    },
    "tags": []
   },
   "outputs": [],
   "source": [
    "from torch.utils.data import DataLoader"
   ]
  },
  {
   "cell_type": "code",
   "execution_count": 37,
   "id": "2f0b2b39",
   "metadata": {
    "execution": {
     "iopub.execute_input": "2024-12-19T13:51:50.308518Z",
     "iopub.status.busy": "2024-12-19T13:51:50.307896Z",
     "iopub.status.idle": "2024-12-19T13:52:31.302712Z",
     "shell.execute_reply": "2024-12-19T13:52:31.301784Z"
    },
    "papermill": {
     "duration": 41.024361,
     "end_time": "2024-12-19T13:52:31.304726",
     "exception": false,
     "start_time": "2024-12-19T13:51:50.280365",
     "status": "completed"
    },
    "tags": []
   },
   "outputs": [
    {
     "name": "stderr",
     "output_type": "stream",
     "text": [
      "/opt/conda/lib/python3.10/pty.py:89: RuntimeWarning: Using fork() can cause Polars to deadlock in the child process.\n",
      "In addition, using fork() with Python in general is a recipe for mysterious\n",
      "deadlocks and crashes.\n",
      "\n",
      "The most likely reason you are seeing this error is because you are using the\n",
      "multiprocessing module on Linux, which uses fork() by default. This will be\n",
      "fixed in Python 3.14. Until then, you want to use the \"spawn\" context instead.\n",
      "\n",
      "See https://docs.pola.rs/user-guide/misc/multiprocessing/ for details.\n",
      "\n",
      "  pid, fd = os.forkpty()\n"
     ]
    },
    {
     "name": "stdout",
     "output_type": "stream",
     "text": [
      "Processing /kaggle/input/fttransformer/einops-0.8.0-py3-none-any.whl\r\n",
      "Installing collected packages: einops\r\n",
      "Successfully installed einops-0.8.0\r\n"
     ]
    }
   ],
   "source": [
    "!pip install /kaggle/input/fttransformer/einops-0.8.0-py3-none-any.whl"
   ]
  },
  {
   "cell_type": "code",
   "execution_count": 38,
   "id": "54afc385",
   "metadata": {
    "execution": {
     "iopub.execute_input": "2024-12-19T13:52:31.360616Z",
     "iopub.status.busy": "2024-12-19T13:52:31.360288Z",
     "iopub.status.idle": "2024-12-19T13:52:31.364505Z",
     "shell.execute_reply": "2024-12-19T13:52:31.363675Z"
    },
    "papermill": {
     "duration": 0.034122,
     "end_time": "2024-12-19T13:52:31.366083",
     "exception": false,
     "start_time": "2024-12-19T13:52:31.331961",
     "status": "completed"
    },
    "tags": []
   },
   "outputs": [],
   "source": [
    "import torch.nn as nn\n",
    "import torch.optim as optim"
   ]
  },
  {
   "cell_type": "code",
   "execution_count": 39,
   "id": "01bb9924",
   "metadata": {
    "execution": {
     "iopub.execute_input": "2024-12-19T13:52:31.420705Z",
     "iopub.status.busy": "2024-12-19T13:52:31.420454Z",
     "iopub.status.idle": "2024-12-19T13:52:31.444611Z",
     "shell.execute_reply": "2024-12-19T13:52:31.443759Z"
    },
    "papermill": {
     "duration": 0.053665,
     "end_time": "2024-12-19T13:52:31.446317",
     "exception": false,
     "start_time": "2024-12-19T13:52:31.392652",
     "status": "completed"
    },
    "tags": []
   },
   "outputs": [],
   "source": [
    "cat_ranges, num_continuous, cat_idx = get_info_for_ftt(new_X)"
   ]
  },
  {
   "cell_type": "markdown",
   "id": "5c46d1c9",
   "metadata": {
    "papermill": {
     "duration": 0.026891,
     "end_time": "2024-12-19T13:52:31.499930",
     "exception": false,
     "start_time": "2024-12-19T13:52:31.473039",
     "status": "completed"
    },
    "tags": []
   },
   "source": [
    "## Making wrapper for FTTransformer"
   ]
  },
  {
   "cell_type": "code",
   "execution_count": 40,
   "id": "c267b9e9",
   "metadata": {
    "execution": {
     "iopub.execute_input": "2024-12-19T13:52:31.554799Z",
     "iopub.status.busy": "2024-12-19T13:52:31.554525Z",
     "iopub.status.idle": "2024-12-19T13:52:31.582378Z",
     "shell.execute_reply": "2024-12-19T13:52:31.581536Z"
    },
    "papermill": {
     "duration": 0.057641,
     "end_time": "2024-12-19T13:52:31.584039",
     "exception": false,
     "start_time": "2024-12-19T13:52:31.526398",
     "status": "completed"
    },
    "tags": []
   },
   "outputs": [],
   "source": [
    "import torch\n",
    "import torch.nn.functional as F\n",
    "from torch import nn, einsum\n",
    "\n",
    "from einops import rearrange, repeat\n",
    "\n",
    "\n",
    "class GEGLU(nn.Module):\n",
    "    def forward(self, x):\n",
    "        x, gates = x.chunk(2, dim = -1)\n",
    "        return x * F.gelu(gates)\n",
    "\n",
    "def FeedForward(dim, mult = 4, dropout = 0.):\n",
    "    return nn.Sequential(\n",
    "        nn.LayerNorm(dim),\n",
    "        nn.Linear(dim, dim * mult * 2),\n",
    "        GEGLU(),\n",
    "        nn.Dropout(dropout),\n",
    "        nn.Linear(dim * mult, dim)\n",
    "    )\n",
    "\n",
    "class Attention(nn.Module):\n",
    "    def __init__(\n",
    "        self,\n",
    "        dim,\n",
    "        heads = 8,\n",
    "        dim_head = 64,\n",
    "        dropout = 0.\n",
    "    ):\n",
    "        super().__init__()\n",
    "        inner_dim = dim_head * heads\n",
    "        self.heads = heads\n",
    "        self.scale = dim_head ** -0.5\n",
    "\n",
    "        self.norm = nn.LayerNorm(dim)\n",
    "        \n",
    "        self.to_qkv = nn.Linear(dim, inner_dim * 3, bias = False)\n",
    "        self.to_out = nn.Linear(inner_dim, dim, bias = False)\n",
    "\n",
    "        self.dropout = nn.Dropout(dropout)\n",
    "\n",
    "    def forward(self, x):\n",
    "        h = self.heads\n",
    "\n",
    "        x = self.norm(x)\n",
    "\n",
    "        q, k, v = self.to_qkv(x).chunk(3, dim = -1)\n",
    "        q, k, v = map(lambda t: rearrange(t, 'b n (h d) -> b h n d', h = h), (q, k, v))\n",
    "        q = q * self.scale\n",
    "\n",
    "        sim = einsum('b h i d, b h j d -> b h i j', q, k)\n",
    "\n",
    "        attn = sim.softmax(dim = -1)\n",
    "        dropped_attn = self.dropout(attn)\n",
    "\n",
    "        out = einsum('b h i j, b h j d -> b h i d', dropped_attn, v)\n",
    "        out = rearrange(out, 'b h n d -> b n (h d)', h = h)\n",
    "        out = self.to_out(out)\n",
    "\n",
    "        return out, attn\n",
    "\n",
    "# transformer\n",
    "\n",
    "class Transformer(nn.Module):\n",
    "    def __init__(\n",
    "        self,\n",
    "        dim,\n",
    "        depth,\n",
    "        heads,\n",
    "        dim_head,\n",
    "        attn_dropout,\n",
    "        ff_dropout\n",
    "    ):\n",
    "        super().__init__()\n",
    "        self.layers = nn.ModuleList([])\n",
    "\n",
    "        for _ in range(depth):\n",
    "            self.layers.append(nn.ModuleList([\n",
    "                Attention(dim, heads = heads, dim_head = dim_head, dropout = attn_dropout),\n",
    "                FeedForward(dim, dropout = ff_dropout),\n",
    "            ]))\n",
    "\n",
    "    def forward(self, x, return_attn = False):\n",
    "        post_softmax_attns = []\n",
    "\n",
    "        for attn, ff in self.layers:\n",
    "            attn_out, post_softmax_attn = attn(x)\n",
    "            post_softmax_attns.append(post_softmax_attn)\n",
    "\n",
    "            x = attn_out + x\n",
    "            x = ff(x) + x\n",
    "\n",
    "        if not return_attn:\n",
    "            return x\n",
    "\n",
    "        return x, torch.stack(post_softmax_attns)\n",
    "        \n",
    "# batch norm\n",
    "class BatchNormSequence(nn.Module):\n",
    "    def __init__(self, dim):\n",
    "        super().__init__()\n",
    "        self.bn = nn.BatchNorm1d(dim)\n",
    "        \n",
    "    def forward(self, x):\n",
    "        # x: (batch, sequence, features)\n",
    "        x = x.transpose(1, 2)\n",
    "        x = self.bn(x)\n",
    "        x = x.transpose(1, 2) \n",
    "        return x\n",
    "        \n",
    "# numerical embedder\n",
    "class NumericalEmbedder(nn.Module):\n",
    "    def __init__(self, dim, num_numerical_types):\n",
    "        super().__init__()\n",
    "        self.weights = nn.Parameter(torch.randn(num_numerical_types, dim))\n",
    "        self.biases = nn.Parameter(torch.randn(num_numerical_types, dim))\n",
    "\n",
    "    def forward(self, x):\n",
    "        x = rearrange(x, 'b n -> b n 1')\n",
    "        return x * self.weights + self.biases\n",
    "\n",
    "# main class\n",
    "\n",
    "class FTTransformer(nn.Module):\n",
    "    def __init__(\n",
    "        self,\n",
    "        *,\n",
    "        categories,\n",
    "        num_continuous,\n",
    "        dim,\n",
    "        depth,\n",
    "        heads,\n",
    "        dim_head = 16,\n",
    "        dim_out = 1,\n",
    "        num_special_tokens = 2,\n",
    "        attn_dropout = 0.,\n",
    "        ff_dropout = 0.\n",
    "    ):\n",
    "        super().__init__()\n",
    "        assert all(map(lambda n: n > 0, categories)), 'number of each category must be positive'\n",
    "        assert len(categories) + num_continuous > 0, 'input shape must not be null'\n",
    "\n",
    "        # categories related calculations\n",
    "\n",
    "        self.num_categories = len(categories)\n",
    "        self.num_unique_categories = sum(categories)\n",
    "\n",
    "        # create category embeddings table\n",
    "\n",
    "        self.num_special_tokens = num_special_tokens\n",
    "        total_tokens = self.num_unique_categories + num_special_tokens\n",
    "\n",
    "        # for automatically offsetting unique category ids to the correct position in the categories embedding table\n",
    "\n",
    "        if self.num_unique_categories > 0:\n",
    "            categories_offset = F.pad(torch.tensor(list(categories)), (1, 0), value = num_special_tokens)\n",
    "            categories_offset = categories_offset.cumsum(dim = -1)[:-1]\n",
    "            self.register_buffer('categories_offset', categories_offset)\n",
    "\n",
    "            # categorical embedding\n",
    "\n",
    "            self.categorical_embeds = nn.Embedding(total_tokens, dim)\n",
    "            self.categ_bn = BatchNormSequence(dim)\n",
    "\n",
    "\n",
    "        # continuous\n",
    "\n",
    "        self.num_continuous = num_continuous\n",
    "\n",
    "        if self.num_continuous > 0:\n",
    "            self.numerical_embedder = NumericalEmbedder(dim, self.num_continuous)\n",
    "            self.numer_bn = BatchNormSequence(dim)\n",
    "\n",
    "\n",
    "        # cls token\n",
    "\n",
    "        self.cls_token = nn.Parameter(torch.randn(1, 1, dim))\n",
    "        self.pre_transformer_bn = BatchNormSequence(dim)\n",
    "\n",
    "        # transformer\n",
    "\n",
    "        self.transformer = Transformer(\n",
    "            dim = dim,\n",
    "            depth = depth,\n",
    "            heads = heads,\n",
    "            dim_head = dim_head,\n",
    "            attn_dropout = attn_dropout,\n",
    "            ff_dropout = ff_dropout\n",
    "        )\n",
    "\n",
    "        # to logits\n",
    "\n",
    "        self.to_logits = nn.Sequential(\n",
    "            nn.LayerNorm(dim),\n",
    "            nn.ReLU(),\n",
    "            nn.Linear(dim, dim_out)\n",
    "        )\n",
    "\n",
    "    def forward(self, x_categ, x_numer, return_attn = False):\n",
    "        assert x_categ.shape[-1] == self.num_categories, f'you must pass in {self.num_categories} values for your categories input'\n",
    "\n",
    "        xs = []\n",
    "        if self.num_unique_categories > 0:\n",
    "            x_categ = x_categ + self.categories_offset\n",
    "\n",
    "            x_categ = self.categorical_embeds(x_categ)\n",
    "            x_categ = self.categ_bn(x_categ)\n",
    "            xs.append(x_categ)\n",
    "\n",
    "        # add numerically embedded tokens\n",
    "        if self.num_continuous > 0:\n",
    "            x_numer = self.numerical_embedder(x_numer)\n",
    "            x_numer = self.numer_bn(x_numer)\n",
    "            xs.append(x_numer)\n",
    "\n",
    "        # concat categorical and numerical\n",
    "\n",
    "        x = torch.cat(xs, dim = 1)\n",
    "        x = self.pre_transformer_bn(x)\n",
    "\n",
    "\n",
    "        # append cls tokens\n",
    "        b = x.shape[0]\n",
    "        cls_tokens = repeat(self.cls_token, '1 1 d -> b 1 d', b = b)\n",
    "        x = torch.cat((cls_tokens, x), dim = 1)\n",
    "        \n",
    "        # attend\n",
    "\n",
    "        x, attns = self.transformer(x, return_attn = True)\n",
    "\n",
    "        # get cls token\n",
    "\n",
    "        x = x[:, 0]\n",
    "\n",
    "        # out in the paper is linear(relu(ln(cls)))\n",
    "\n",
    "        logits = self.to_logits(x)\n",
    "\n",
    "        if not return_attn:\n",
    "            return logits\n",
    "\n",
    "        return logits, attns\n"
   ]
  },
  {
   "cell_type": "code",
   "execution_count": 41,
   "id": "3f141ae4",
   "metadata": {
    "execution": {
     "iopub.execute_input": "2024-12-19T13:52:31.643942Z",
     "iopub.status.busy": "2024-12-19T13:52:31.643633Z",
     "iopub.status.idle": "2024-12-19T13:52:31.647727Z",
     "shell.execute_reply": "2024-12-19T13:52:31.647084Z"
    },
    "papermill": {
     "duration": 0.038141,
     "end_time": "2024-12-19T13:52:31.649265",
     "exception": false,
     "start_time": "2024-12-19T13:52:31.611124",
     "status": "completed"
    },
    "tags": []
   },
   "outputs": [],
   "source": [
    "from sklearn.base import BaseEstimator, RegressorMixin\n",
    "from torch.utils.data import DataLoader, TensorDataset\n",
    "from sklearn.model_selection import train_test_split\n",
    "from sklearn.preprocessing import StandardScaler\n",
    "import os\n",
    "import torch"
   ]
  },
  {
   "cell_type": "code",
   "execution_count": 42,
   "id": "80f1325b",
   "metadata": {
    "execution": {
     "iopub.execute_input": "2024-12-19T13:52:31.703411Z",
     "iopub.status.busy": "2024-12-19T13:52:31.703151Z",
     "iopub.status.idle": "2024-12-19T13:52:31.706977Z",
     "shell.execute_reply": "2024-12-19T13:52:31.706299Z"
    },
    "papermill": {
     "duration": 0.032763,
     "end_time": "2024-12-19T13:52:31.708545",
     "exception": false,
     "start_time": "2024-12-19T13:52:31.675782",
     "status": "completed"
    },
    "tags": []
   },
   "outputs": [],
   "source": [
    "from sklearn.metrics import cohen_kappa_score\n",
    "\n",
    "def qwk(y_true, y_pred):\n",
    "    return cohen_kappa_score(y_true, y_pred, weights='quadratic')"
   ]
  },
  {
   "cell_type": "code",
   "execution_count": 43,
   "id": "11f20012",
   "metadata": {
    "execution": {
     "iopub.execute_input": "2024-12-19T13:52:31.781600Z",
     "iopub.status.busy": "2024-12-19T13:52:31.780740Z",
     "iopub.status.idle": "2024-12-19T13:52:31.809004Z",
     "shell.execute_reply": "2024-12-19T13:52:31.808170Z"
    },
    "papermill": {
     "duration": 0.069534,
     "end_time": "2024-12-19T13:52:31.810691",
     "exception": false,
     "start_time": "2024-12-19T13:52:31.741157",
     "status": "completed"
    },
    "tags": []
   },
   "outputs": [],
   "source": [
    "class FTTransformerWrapper(BaseEstimator, RegressorMixin):\n",
    "    def __init__(self, categories, num_continuous, dim, dim_out, depth, heads, attn_dropout, \n",
    "                 ff_dropout, batch_size, num_epochs, learning_rate, cat_ranges, cat_idx):\n",
    "        self.categories = categories\n",
    "        self.num_continuous = num_continuous\n",
    "        self.dim = dim\n",
    "        self.dim_out = dim_out\n",
    "        self.depth = depth\n",
    "        self.heads = heads\n",
    "        self.attn_dropout = attn_dropout\n",
    "        self.ff_dropout = ff_dropout\n",
    "        self.batch_size = batch_size\n",
    "        self.num_epochs = num_epochs\n",
    "        self.learning_rate = learning_rate\n",
    "        self.device = torch.device('cuda' if torch.cuda.is_available() else 'cpu')\n",
    "        self.cat_ranges = cat_ranges\n",
    "        self.cat_idx = cat_idx\n",
    "        self.num_epochs = num_epochs\n",
    "        \n",
    "    def _init_model(self):\n",
    "        self.model = FTTransformer(\n",
    "            categories=self.categories,\n",
    "            num_continuous=self.num_continuous,\n",
    "            dim=self.dim,\n",
    "            dim_out=self.dim_out,\n",
    "            depth=self.depth,\n",
    "            heads=self.heads,\n",
    "            attn_dropout=self.attn_dropout,\n",
    "            ff_dropout=self.ff_dropout\n",
    "        ).to(self.device)\n",
    "        self.criterion = torch.nn.MSELoss()\n",
    "        self.optimizer = torch.optim.Adam(self.model.parameters(), lr=self.learning_rate)\n",
    "\n",
    "    def fit(self, X, y):\n",
    "        X_train, X_val, y_train, y_val = train_test_split(X, y, test_size=0.2, random_state=42)\n",
    "        from sklearn.preprocessing import StandardScaler\n",
    "        self.scaler = StandardScaler()\n",
    "        scaled_X_train = self.scaler.fit_transform(X_train)\n",
    "        scaled_X_val = self.scaler.transform(X_val)\n",
    "        \n",
    "        train_dataset = MyDataset(scaled_X_train, y_train, self.cat_idx)\n",
    "        val_dataset = MyDataset(scaled_X_val, y_val, self.cat_idx)\n",
    "        train_loader = DataLoader(train_dataset, batch_size=32, shuffle=True)\n",
    "        val_loader = DataLoader(val_dataset, batch_size=32, shuffle=True)\n",
    "\n",
    "        self._init_model()\n",
    "        best_val_loss = float('inf')\n",
    "\n",
    "        save_path='model_checkpoints'\n",
    "        os.makedirs(save_path, exist_ok=True)\n",
    "\n",
    "        for epoch in range(self.num_epochs):\n",
    "            self.model.train()\n",
    "            train_loss = 0\n",
    "            for x_cat, x_num, y in train_loader:\n",
    "                x_cat = x_cat.to(self.device) if x_cat is not None else None\n",
    "                x_num = x_num.to(self.device)\n",
    "                y = y.to(self.device)\n",
    "\n",
    "                self.optimizer.zero_grad()\n",
    "                output = self.model(x_cat, x_num).squeeze(1)\n",
    "                \n",
    "                loss = self.criterion(output, y)\n",
    "                loss.backward()\n",
    "                self.optimizer.step()\n",
    "                train_loss += loss.item()\n",
    "            \n",
    "            self.model.eval()\n",
    "            val_loss = 0\n",
    "            with torch.no_grad():\n",
    "                for x_cat, x_num, y in val_loader:\n",
    "                    x_cat = x_cat.to(self.device) if x_cat is not None else None\n",
    "                    x_num = x_num.to(self.device)\n",
    "                    y = y.to(self.device)\n",
    "                    \n",
    "                    output = self.model(x_cat, x_num).squeeze(1)\n",
    "\n",
    "                    val_loss += self.criterion(output, y).item()\n",
    "\n",
    "            avg_train_loss = train_loss / len(train_loader)\n",
    "            avg_val_loss = val_loss / len(val_loader)\n",
    "            print(f'Epoch {epoch+1}, Train Loss: {avg_train_loss:.4f}, Val Loss: {avg_val_loss:.4f}')\n",
    "\n",
    "            if avg_val_loss < best_val_loss:\n",
    "                best_val_loss = avg_val_loss\n",
    "                checkpoint = {\n",
    "                    'epoch': epoch,\n",
    "                    'model_state_dict': self.model.state_dict(),\n",
    "                    'optimizer_state_dict': self.optimizer.state_dict(),\n",
    "                    'train_loss': avg_train_loss,\n",
    "                    'val_loss': avg_val_loss,\n",
    "                    'best_val_loss': best_val_loss\n",
    "                }\n",
    "                torch.save(checkpoint, os.path.join(save_path, f'best_model.pth'))\n",
    "                print(f'Saved best model with validation loss: {best_val_loss:.4f}')\n",
    "\n",
    "    def load_model(self, model, checkpoint_path):\n",
    "        checkpoint = torch.load(checkpoint_path)\n",
    "        model.load_state_dict(checkpoint['model_state_dict'])\n",
    "        return model\n",
    "\n",
    "    def load_model_checkpoint(self, checkpoint_path):\n",
    "        try:\n",
    "            checkpoint = torch.load(checkpoint_path, map_location=self.device)\n",
    "            self.model.load_state_dict(checkpoint['model_state_dict'])\n",
    "            self.model.to(self.device)\n",
    "            self.model.eval()\n",
    "            print(f\"Model loaded from {checkpoint_path}\")\n",
    "        except Exception as e:\n",
    "            print(f\"Error loading the model: {e}\")\n",
    "    \n",
    "    def predict(self, X):\n",
    "        self.model = self.load_model(self.model, \"/kaggle/working/model_checkpoints/best_model.pth\")\n",
    "\n",
    "        def divide_cat_num(data, cat_idx):\n",
    "            mask = np.zeros(data.shape[1], dtype=bool)\n",
    "            mask[cat_idx] = True\n",
    "            cat_elements = data[:, mask]\n",
    "            remaining_elements = data[:, ~mask]\n",
    "            return cat_elements, remaining_elements\n",
    "\n",
    "        self.model.eval()\n",
    "        new_test_values = X.values\n",
    "        new_test_values = self.scaler.transform(new_test_values)\n",
    "        num_samples = len(new_test_values)\n",
    "        predictions = []\n",
    "\n",
    "        for i in range(0, num_samples, self.batch_size):\n",
    "            batch_data = new_test_values[i:i + self.batch_size]\n",
    "            cat, num = divide_cat_num(batch_data, self.cat_idx)\n",
    "            cat = torch.tensor(cat, dtype=torch.int32).to(self.device)\n",
    "            num = torch.tensor(num, dtype=torch.float32).to(self.device)\n",
    "\n",
    "            with torch.no_grad():\n",
    "                output = self.model(cat, num)\n",
    "                output = output.squeeze(1)\n",
    "                predictions.extend(output.cpu().numpy())\n",
    "\n",
    "            del cat\n",
    "            del num\n",
    "            del output\n",
    "            torch.cuda.empty_cache()\n",
    "\n",
    "        return np.array(predictions)"
   ]
  },
  {
   "cell_type": "markdown",
   "id": "d32d591b",
   "metadata": {
    "papermill": {
     "duration": 0.026506,
     "end_time": "2024-12-19T13:52:31.917570",
     "exception": false,
     "start_time": "2024-12-19T13:52:31.891064",
     "status": "completed"
    },
    "tags": []
   },
   "source": [
    "## Submission preparation"
   ]
  },
  {
   "cell_type": "code",
   "execution_count": 45,
   "id": "9cdcc474",
   "metadata": {
    "execution": {
     "iopub.execute_input": "2024-12-19T13:52:32.032363Z",
     "iopub.status.busy": "2024-12-19T13:52:32.032084Z",
     "iopub.status.idle": "2024-12-19T13:52:32.036102Z",
     "shell.execute_reply": "2024-12-19T13:52:32.035346Z"
    },
    "papermill": {
     "duration": 0.033628,
     "end_time": "2024-12-19T13:52:32.037681",
     "exception": false,
     "start_time": "2024-12-19T13:52:32.004053",
     "status": "completed"
    },
    "tags": []
   },
   "outputs": [],
   "source": [
    "from sklearn.model_selection import KFold\n",
    "from sklearn.model_selection import StratifiedKFold\n",
    "from scipy.optimize import minimize\n",
    "from sklearn.base import clone"
   ]
  },
  {
   "cell_type": "code",
   "execution_count": 46,
   "id": "b3676905",
   "metadata": {
    "execution": {
     "iopub.execute_input": "2024-12-19T13:52:32.092149Z",
     "iopub.status.busy": "2024-12-19T13:52:32.091891Z",
     "iopub.status.idle": "2024-12-19T13:52:32.101113Z",
     "shell.execute_reply": "2024-12-19T13:52:32.100337Z"
    },
    "papermill": {
     "duration": 0.038369,
     "end_time": "2024-12-19T13:52:32.102647",
     "exception": false,
     "start_time": "2024-12-19T13:52:32.064278",
     "status": "completed"
    },
    "tags": []
   },
   "outputs": [],
   "source": [
    "sample = pd.read_csv('/kaggle/input/child-mind-institute-problematic-internet-use/sample_submission.csv')"
   ]
  },
  {
   "cell_type": "code",
   "execution_count": 47,
   "id": "4e798b1d",
   "metadata": {
    "execution": {
     "iopub.execute_input": "2024-12-19T13:52:32.158107Z",
     "iopub.status.busy": "2024-12-19T13:52:32.157867Z",
     "iopub.status.idle": "2024-12-19T13:52:32.161507Z",
     "shell.execute_reply": "2024-12-19T13:52:32.160691Z"
    },
    "papermill": {
     "duration": 0.033904,
     "end_time": "2024-12-19T13:52:32.163133",
     "exception": false,
     "start_time": "2024-12-19T13:52:32.129229",
     "status": "completed"
    },
    "tags": []
   },
   "outputs": [],
   "source": [
    "n_splits = 5\n",
    "SEED = 42"
   ]
  },
  {
   "cell_type": "code",
   "execution_count": 48,
   "id": "d88331b7",
   "metadata": {
    "execution": {
     "iopub.execute_input": "2024-12-19T13:52:32.217647Z",
     "iopub.status.busy": "2024-12-19T13:52:32.217386Z",
     "iopub.status.idle": "2024-12-19T13:52:32.221404Z",
     "shell.execute_reply": "2024-12-19T13:52:32.220736Z"
    },
    "papermill": {
     "duration": 0.033167,
     "end_time": "2024-12-19T13:52:32.222803",
     "exception": false,
     "start_time": "2024-12-19T13:52:32.189636",
     "status": "completed"
    },
    "tags": []
   },
   "outputs": [],
   "source": [
    "def thresh_rounder(oof_non_rounded):\n",
    "    return np.where(oof_non_rounded <= 30, 0,\n",
    "                    np.where(oof_non_rounded <= 49, 1,\n",
    "                             np.where(oof_non_rounded <= 79, 2, 3)))"
   ]
  },
  {
   "cell_type": "code",
   "execution_count": 49,
   "id": "b56e37e9",
   "metadata": {
    "execution": {
     "iopub.execute_input": "2024-12-19T13:52:32.277402Z",
     "iopub.status.busy": "2024-12-19T13:52:32.277134Z",
     "iopub.status.idle": "2024-12-19T13:52:32.283192Z",
     "shell.execute_reply": "2024-12-19T13:52:32.282524Z"
    },
    "papermill": {
     "duration": 0.034919,
     "end_time": "2024-12-19T13:52:32.284649",
     "exception": false,
     "start_time": "2024-12-19T13:52:32.249730",
     "status": "completed"
    },
    "tags": []
   },
   "outputs": [],
   "source": [
    "def prepare_submission(model_class, test_data):\n",
    "    X = new_X\n",
    "    y = new_y['PCIAT-PCIAT_Total']\n",
    "    \n",
    "    KF = KFold(n_splits=n_splits, shuffle=True, random_state=42)\n",
    "    \n",
    "    train_S = []\n",
    "    test_S = []\n",
    "    \n",
    "    oof_non_rounded = np.zeros(len(y), dtype=float) \n",
    "    oof_rounded = np.zeros(len(y), dtype=int) \n",
    "    test_preds = np.zeros((len(test_data), n_splits))\n",
    "\n",
    "    for fold, (train_idx, test_idx) in enumerate(tqdm(KF.split(X, y), desc=\"Training Folds\", total=n_splits)):\n",
    "        X_train, X_val = X.iloc[train_idx], X.iloc[test_idx]\n",
    "        y_train, y_val = y.iloc[train_idx], y.iloc[test_idx]\n",
    "\n",
    "        model = clone(model_class)\n",
    "        model.fit(X_train, y_train)\n",
    "        \n",
    "        test_preds[:, fold] = model.predict(test_data)\n",
    "\n",
    "    tpm = test_preds.mean(axis=1)\n",
    "\n",
    "    sii_tpm = thresh_rounder(tpm)\n",
    "\n",
    "    submission = pd.DataFrame({\n",
    "        'id': sample['id'],\n",
    "        'sii': sii_tpm\n",
    "    })\n",
    "\n",
    "    return submission"
   ]
  },
  {
   "cell_type": "markdown",
   "id": "34db1cee",
   "metadata": {
    "papermill": {
     "duration": 0.026738,
     "end_time": "2024-12-19T13:52:32.338178",
     "exception": false,
     "start_time": "2024-12-19T13:52:32.311440",
     "status": "completed"
    },
    "tags": []
   },
   "source": [
    "## Ensemble using bagging techiniques"
   ]
  },
  {
   "cell_type": "code",
   "execution_count": 50,
   "id": "f3d73b6d",
   "metadata": {
    "execution": {
     "iopub.execute_input": "2024-12-19T13:52:32.393078Z",
     "iopub.status.busy": "2024-12-19T13:52:32.392735Z",
     "iopub.status.idle": "2024-12-19T13:52:34.959053Z",
     "shell.execute_reply": "2024-12-19T13:52:34.958354Z"
    },
    "papermill": {
     "duration": 2.595924,
     "end_time": "2024-12-19T13:52:34.961051",
     "exception": false,
     "start_time": "2024-12-19T13:52:32.365127",
     "status": "completed"
    },
    "tags": []
   },
   "outputs": [],
   "source": [
    "from lightgbm import LGBMRegressor\n",
    "from xgboost import XGBRegressor\n",
    "from catboost import CatBoostRegressor\n",
    "from sklearn.ensemble import VotingRegressor"
   ]
  },
  {
   "cell_type": "markdown",
   "id": "cfa5adb0",
   "metadata": {
    "papermill": {
     "duration": 0.026628,
     "end_time": "2024-12-19T13:52:35.015489",
     "exception": false,
     "start_time": "2024-12-19T13:52:34.988861",
     "status": "completed"
    },
    "tags": []
   },
   "source": [
    "### Submission 1"
   ]
  },
  {
   "cell_type": "code",
   "execution_count": 51,
   "id": "de1dd431",
   "metadata": {
    "execution": {
     "iopub.execute_input": "2024-12-19T13:52:35.070754Z",
     "iopub.status.busy": "2024-12-19T13:52:35.070166Z",
     "iopub.status.idle": "2024-12-19T13:52:35.076219Z",
     "shell.execute_reply": "2024-12-19T13:52:35.075474Z"
    },
    "papermill": {
     "duration": 0.035488,
     "end_time": "2024-12-19T13:52:35.077751",
     "exception": false,
     "start_time": "2024-12-19T13:52:35.042263",
     "status": "completed"
    },
    "tags": []
   },
   "outputs": [],
   "source": [
    "lgbm_params = {\n",
    "    'learning_rate': 0.046,\n",
    "    'max_depth': 12,\n",
    "    'num_leaves': 478,\n",
    "    'feature_fraction': 0.893,\n",
    "    'bagging_fraction': 0.784,\n",
    "    'bagging_freq': 4,\n",
    "    'lambda_l1': 10,\n",
    "    'lambda_l2': 0.01,\n",
    "    'device': 'cpu'\n",
    "}\n",
    "\n",
    "xgb_params = {\n",
    "    'learning_rate': 0.05,\n",
    "    'max_depth': 6,\n",
    "    'n_estimators': 200,\n",
    "    'subsample': 0.8,\n",
    "    'colsample_bytree': 0.8,\n",
    "    'reg_alpha': 1,\n",
    "    'reg_lambda': 5,\n",
    "    'random_state': 42,\n",
    "    'device': \"cuda\"\n",
    "}\n",
    "\n",
    "\n",
    "catboost_params = {\n",
    "    'learning_rate': 0.05,\n",
    "    'depth': 6,\n",
    "    'iterations': 200,\n",
    "    'random_seed': 42,\n",
    "    'verbose': 0,\n",
    "    'l2_leaf_reg': 10,\n",
    "    'task_type': 'GPU',\n",
    "}\n",
    "\n",
    "ftt_params = {\n",
    "    'categories': tuple(cat_ranges), \n",
    "    'num_continuous': num_continuous,    \n",
    "    'dim': 16,             \n",
    "    'dim_out': 1,          \n",
    "    'depth': 2,            \n",
    "    'heads': 3,            \n",
    "    'attn_dropout': 0.1,   \n",
    "    'ff_dropout': 0.2,\n",
    "    'batch_size': 32,\n",
    "    'num_epochs': 70,\n",
    "    'learning_rate': 0.001,\n",
    "    'cat_ranges': cat_ranges,\n",
    "    'cat_idx': cat_idx \n",
    "}"
   ]
  },
  {
   "cell_type": "code",
   "execution_count": 52,
   "id": "ccc94897",
   "metadata": {
    "execution": {
     "iopub.execute_input": "2024-12-19T13:52:35.131990Z",
     "iopub.status.busy": "2024-12-19T13:52:35.131708Z",
     "iopub.status.idle": "2024-12-19T13:52:35.137623Z",
     "shell.execute_reply": "2024-12-19T13:52:35.136885Z"
    },
    "papermill": {
     "duration": 0.034804,
     "end_time": "2024-12-19T13:52:35.139054",
     "exception": false,
     "start_time": "2024-12-19T13:52:35.104250",
     "status": "completed"
    },
    "tags": []
   },
   "outputs": [],
   "source": [
    "FTT_Model = FTTransformerWrapper(**ftt_params)\n",
    "LGBM_Model = LGBMRegressor(**lgbm_params, random_state=42, n_estimators=300, verbose=1)\n",
    "XGB_Model = XGBRegressor(**xgb_params)\n",
    "CatBoost_Model = CatBoostRegressor(**catboost_params)"
   ]
  },
  {
   "cell_type": "code",
   "execution_count": null,
   "id": "c731e142",
   "metadata": {
    "execution": {
     "iopub.execute_input": "2024-12-19T13:52:35.195875Z",
     "iopub.status.busy": "2024-12-19T13:52:35.195560Z",
     "iopub.status.idle": "2024-12-19T13:55:57.027498Z",
     "shell.execute_reply": "2024-12-19T13:55:57.026520Z"
    },
    "papermill": {
     "duration": 201.862931,
     "end_time": "2024-12-19T13:55:57.030296",
     "exception": false,
     "start_time": "2024-12-19T13:52:35.167365",
     "status": "completed"
    },
    "tags": []
   },
   "outputs": [],
   "source": [
    "n_splits = 5\n",
    "SEED = 42\n",
    "X = new_X\n",
    "y = new_y['PCIAT-PCIAT_Total']\n",
    "\n",
    "KF = KFold(n_splits=n_splits, shuffle=True, random_state=42)\n",
    "\n",
    "for fold, (train_idx, test_idx) in enumerate(tqdm(KF.split(X, y), desc=\"Training Folds\", total=n_splits)):\n",
    "    X_train, X_val = X.iloc[train_idx], X.iloc[test_idx]\n",
    "    y_train, y_val = y.iloc[train_idx], y.iloc[test_idx]\n",
    "    \n",
    "    # Train LightGBM\n",
    "    LGBM_Model.fit(\n",
    "        X_train, y_train,\n",
    "        eval_set=[(X_val, y_val)],\n",
    "        eval_metric='mse',\n",
    "    )\n",
    "    \n",
    "    # Train XGBoost\n",
    "    XGB_Model.fit(\n",
    "        X_train, y_train,\n",
    "        eval_set=[(X_val, y_val)],\n",
    "        eval_metric='rmse',\n",
    "        early_stopping_rounds=30,\n",
    "        verbose=True\n",
    "    )\n",
    "    \n",
    "    # Train CatBoost\n",
    "    CatBoost_Model.fit(\n",
    "        X_train, y_train,\n",
    "        eval_set=(X_val, y_val),\n",
    "        use_best_model=True,\n",
    "        verbose=10\n",
    "    )\n",
    "    \n",
    "    # Train FTT_Model\n",
    "    FTT_Model.fit(\n",
    "        X_train, y_train,\n",
    "    )"
   ]
  },
  {
   "cell_type": "code",
   "execution_count": 54,
   "id": "e445061a",
   "metadata": {
    "execution": {
     "iopub.execute_input": "2024-12-19T13:55:57.163697Z",
     "iopub.status.busy": "2024-12-19T13:55:57.163247Z",
     "iopub.status.idle": "2024-12-19T13:55:57.167733Z",
     "shell.execute_reply": "2024-12-19T13:55:57.167063Z"
    },
    "papermill": {
     "duration": 0.071768,
     "end_time": "2024-12-19T13:55:57.169239",
     "exception": false,
     "start_time": "2024-12-19T13:55:57.097471",
     "status": "completed"
    },
    "tags": []
   },
   "outputs": [],
   "source": [
    "voting_model = VotingRegressor(estimators=[\n",
    "    ('lightgbm', LGBM_Model),\n",
    "    ('xgboost', XGB_Model),\n",
    "    ('catboost', CatBoost_Model),\n",
    "    ('ftt', FTT_Model),\n",
    "],weights=[4.0,4.0,5.0, 3.0])"
   ]
  },
  {
   "cell_type": "code",
   "execution_count": 56,
   "id": "6954b9fb",
   "metadata": {
    "execution": {
     "iopub.execute_input": "2024-12-19T13:55:57.437221Z",
     "iopub.status.busy": "2024-12-19T13:55:57.436915Z",
     "iopub.status.idle": "2024-12-19T13:55:57.440976Z",
     "shell.execute_reply": "2024-12-19T13:55:57.440173Z"
    },
    "papermill": {
     "duration": 0.071615,
     "end_time": "2024-12-19T13:55:57.442523",
     "exception": false,
     "start_time": "2024-12-19T13:55:57.370908",
     "status": "completed"
    },
    "tags": []
   },
   "outputs": [],
   "source": [
    "from sklearn.metrics import mean_absolute_error, mean_squared_error, r2_score"
   ]
  },
  {
   "cell_type": "code",
   "execution_count": null,
   "id": "7dabe673",
   "metadata": {
    "execution": {
     "iopub.execute_input": "2024-12-19T13:55:57.574229Z",
     "iopub.status.busy": "2024-12-19T13:55:57.573705Z",
     "iopub.status.idle": "2024-12-19T13:59:05.695472Z",
     "shell.execute_reply": "2024-12-19T13:59:05.694423Z"
    },
    "papermill": {
     "duration": 188.189449,
     "end_time": "2024-12-19T13:59:05.697520",
     "exception": false,
     "start_time": "2024-12-19T13:55:57.508071",
     "status": "completed"
    },
    "tags": []
   },
   "outputs": [],
   "source": [
    "submission1 = prepare_submission(voting_model, new_test)"
   ]
  },
  {
   "cell_type": "code",
   "execution_count": 58,
   "id": "a51595b6",
   "metadata": {
    "execution": {
     "iopub.execute_input": "2024-12-19T13:59:05.874693Z",
     "iopub.status.busy": "2024-12-19T13:59:05.874363Z",
     "iopub.status.idle": "2024-12-19T13:59:05.883325Z",
     "shell.execute_reply": "2024-12-19T13:59:05.882451Z"
    },
    "papermill": {
     "duration": 0.097856,
     "end_time": "2024-12-19T13:59:05.884961",
     "exception": false,
     "start_time": "2024-12-19T13:59:05.787105",
     "status": "completed"
    },
    "tags": []
   },
   "outputs": [
    {
     "data": {
      "text/html": [
       "<div>\n",
       "<style scoped>\n",
       "    .dataframe tbody tr th:only-of-type {\n",
       "        vertical-align: middle;\n",
       "    }\n",
       "\n",
       "    .dataframe tbody tr th {\n",
       "        vertical-align: top;\n",
       "    }\n",
       "\n",
       "    .dataframe thead th {\n",
       "        text-align: right;\n",
       "    }\n",
       "</style>\n",
       "<table border=\"1\" class=\"dataframe\">\n",
       "  <thead>\n",
       "    <tr style=\"text-align: right;\">\n",
       "      <th></th>\n",
       "      <th>id</th>\n",
       "      <th>sii</th>\n",
       "    </tr>\n",
       "  </thead>\n",
       "  <tbody>\n",
       "    <tr>\n",
       "      <th>0</th>\n",
       "      <td>00008ff9</td>\n",
       "      <td>0</td>\n",
       "    </tr>\n",
       "    <tr>\n",
       "      <th>1</th>\n",
       "      <td>000fd460</td>\n",
       "      <td>0</td>\n",
       "    </tr>\n",
       "    <tr>\n",
       "      <th>2</th>\n",
       "      <td>00105258</td>\n",
       "      <td>1</td>\n",
       "    </tr>\n",
       "    <tr>\n",
       "      <th>3</th>\n",
       "      <td>00115b9f</td>\n",
       "      <td>0</td>\n",
       "    </tr>\n",
       "    <tr>\n",
       "      <th>4</th>\n",
       "      <td>0016bb22</td>\n",
       "      <td>1</td>\n",
       "    </tr>\n",
       "    <tr>\n",
       "      <th>5</th>\n",
       "      <td>001f3379</td>\n",
       "      <td>1</td>\n",
       "    </tr>\n",
       "    <tr>\n",
       "      <th>6</th>\n",
       "      <td>0038ba98</td>\n",
       "      <td>1</td>\n",
       "    </tr>\n",
       "    <tr>\n",
       "      <th>7</th>\n",
       "      <td>0068a485</td>\n",
       "      <td>0</td>\n",
       "    </tr>\n",
       "    <tr>\n",
       "      <th>8</th>\n",
       "      <td>0069fbed</td>\n",
       "      <td>1</td>\n",
       "    </tr>\n",
       "    <tr>\n",
       "      <th>9</th>\n",
       "      <td>0083e397</td>\n",
       "      <td>1</td>\n",
       "    </tr>\n",
       "    <tr>\n",
       "      <th>10</th>\n",
       "      <td>0087dd65</td>\n",
       "      <td>0</td>\n",
       "    </tr>\n",
       "    <tr>\n",
       "      <th>11</th>\n",
       "      <td>00abe655</td>\n",
       "      <td>1</td>\n",
       "    </tr>\n",
       "    <tr>\n",
       "      <th>12</th>\n",
       "      <td>00ae59c9</td>\n",
       "      <td>1</td>\n",
       "    </tr>\n",
       "    <tr>\n",
       "      <th>13</th>\n",
       "      <td>00af6387</td>\n",
       "      <td>0</td>\n",
       "    </tr>\n",
       "    <tr>\n",
       "      <th>14</th>\n",
       "      <td>00bd4359</td>\n",
       "      <td>1</td>\n",
       "    </tr>\n",
       "    <tr>\n",
       "      <th>15</th>\n",
       "      <td>00c0cd71</td>\n",
       "      <td>0</td>\n",
       "    </tr>\n",
       "    <tr>\n",
       "      <th>16</th>\n",
       "      <td>00d56d4b</td>\n",
       "      <td>0</td>\n",
       "    </tr>\n",
       "    <tr>\n",
       "      <th>17</th>\n",
       "      <td>00d9913d</td>\n",
       "      <td>0</td>\n",
       "    </tr>\n",
       "    <tr>\n",
       "      <th>18</th>\n",
       "      <td>00e6167c</td>\n",
       "      <td>0</td>\n",
       "    </tr>\n",
       "    <tr>\n",
       "      <th>19</th>\n",
       "      <td>00ebc35d</td>\n",
       "      <td>1</td>\n",
       "    </tr>\n",
       "  </tbody>\n",
       "</table>\n",
       "</div>"
      ],
      "text/plain": [
       "          id  sii\n",
       "0   00008ff9    0\n",
       "1   000fd460    0\n",
       "2   00105258    1\n",
       "3   00115b9f    0\n",
       "4   0016bb22    1\n",
       "5   001f3379    1\n",
       "6   0038ba98    1\n",
       "7   0068a485    0\n",
       "8   0069fbed    1\n",
       "9   0083e397    1\n",
       "10  0087dd65    0\n",
       "11  00abe655    1\n",
       "12  00ae59c9    1\n",
       "13  00af6387    0\n",
       "14  00bd4359    1\n",
       "15  00c0cd71    0\n",
       "16  00d56d4b    0\n",
       "17  00d9913d    0\n",
       "18  00e6167c    0\n",
       "19  00ebc35d    1"
      ]
     },
     "execution_count": 58,
     "metadata": {},
     "output_type": "execute_result"
    }
   ],
   "source": [
    "submission1"
   ]
  },
  {
   "cell_type": "markdown",
   "id": "224c1689",
   "metadata": {
    "papermill": {
     "duration": 0.08529,
     "end_time": "2024-12-19T13:59:06.055855",
     "exception": false,
     "start_time": "2024-12-19T13:59:05.970565",
     "status": "completed"
    },
    "tags": []
   },
   "source": [
    "#### Submission 2"
   ]
  },
  {
   "cell_type": "code",
   "execution_count": 59,
   "id": "07d62408",
   "metadata": {
    "execution": {
     "iopub.execute_input": "2024-12-19T13:59:06.232928Z",
     "iopub.status.busy": "2024-12-19T13:59:06.232578Z",
     "iopub.status.idle": "2024-12-19T13:59:46.528281Z",
     "shell.execute_reply": "2024-12-19T13:59:46.527052Z"
    },
    "papermill": {
     "duration": 40.389094,
     "end_time": "2024-12-19T13:59:46.530467",
     "exception": false,
     "start_time": "2024-12-19T13:59:06.141373",
     "status": "completed"
    },
    "tags": []
   },
   "outputs": [
    {
     "name": "stderr",
     "output_type": "stream",
     "text": [
      "/opt/conda/lib/python3.10/pty.py:89: RuntimeWarning: Using fork() can cause Polars to deadlock in the child process.\n",
      "In addition, using fork() with Python in general is a recipe for mysterious\n",
      "deadlocks and crashes.\n",
      "\n",
      "The most likely reason you are seeing this error is because you are using the\n",
      "multiprocessing module on Linux, which uses fork() by default. This will be\n",
      "fixed in Python 3.14. Until then, you want to use the \"spawn\" context instead.\n",
      "\n",
      "See https://docs.pola.rs/user-guide/misc/multiprocessing/ for details.\n",
      "\n",
      "  pid, fd = os.forkpty()\n"
     ]
    }
   ],
   "source": [
    "!pip -q install /kaggle/input/pytorchtabnet/pytorch_tabnet-4.1.0-py3-none-any.whl"
   ]
  },
  {
   "cell_type": "code",
   "execution_count": 60,
   "id": "c0a95f3d",
   "metadata": {
    "execution": {
     "iopub.execute_input": "2024-12-19T13:59:46.706014Z",
     "iopub.status.busy": "2024-12-19T13:59:46.705620Z",
     "iopub.status.idle": "2024-12-19T13:59:46.722907Z",
     "shell.execute_reply": "2024-12-19T13:59:46.722241Z"
    },
    "papermill": {
     "duration": 0.107259,
     "end_time": "2024-12-19T13:59:46.724525",
     "exception": false,
     "start_time": "2024-12-19T13:59:46.617266",
     "status": "completed"
    },
    "tags": []
   },
   "outputs": [],
   "source": [
    "from pytorch_tabnet.tab_model import TabNetRegressor\n",
    "from pytorch_tabnet.callbacks import Callback\n",
    "import pytorch_tabnet\n",
    "from lightgbm import LGBMRegressor\n",
    "from xgboost import XGBRegressor\n",
    "from catboost import CatBoostRegressor\n",
    "from sklearn.linear_model import Ridge\n",
    "from sklearn.svm import SVR"
   ]
  },
  {
   "cell_type": "code",
   "execution_count": 61,
   "id": "aade75af",
   "metadata": {
    "execution": {
     "iopub.execute_input": "2024-12-19T13:59:46.898165Z",
     "iopub.status.busy": "2024-12-19T13:59:46.897795Z",
     "iopub.status.idle": "2024-12-19T13:59:46.911408Z",
     "shell.execute_reply": "2024-12-19T13:59:46.910618Z"
    },
    "papermill": {
     "duration": 0.10194,
     "end_time": "2024-12-19T13:59:46.912929",
     "exception": false,
     "start_time": "2024-12-19T13:59:46.810989",
     "status": "completed"
    },
    "tags": []
   },
   "outputs": [],
   "source": [
    "class TabNetWrapper(BaseEstimator, RegressorMixin):\n",
    "    def __init__(self, **kwargs):\n",
    "        self.model = TabNetRegressor(**kwargs)\n",
    "        self.kwargs = kwargs\n",
    "        self.imputer = KNNImputer(n_neighbors=5)\n",
    "        #self.imputer = SimpleImputer(strategy='median')\n",
    "        self.best_model_path = 'best_tabnet_model.pt'\n",
    "\n",
    "    def fit(self, X, y):\n",
    "        X_imputed = self.imputer.fit_transform(X)\n",
    "\n",
    "        if hasattr(y, 'values'):\n",
    "            y = y.values\n",
    "\n",
    "        X_train, X_valid, y_train, y_valid = train_test_split(\n",
    "            X_imputed,\n",
    "            y,\n",
    "            test_size=0.2,\n",
    "            random_state=42\n",
    "        )\n",
    "\n",
    "        # Train TabNet model\n",
    "        history = self.model.fit(\n",
    "            X_train=X_train,\n",
    "            y_train=y_train.reshape(-1, 1),\n",
    "            eval_set=[(X_valid, y_valid.reshape(-1, 1))],\n",
    "            eval_name=['valid'],\n",
    "            eval_metric=['mse', 'mae', 'rmse'],\n",
    "            max_epochs=500,\n",
    "            patience=50,\n",
    "            batch_size=1024,\n",
    "            virtual_batch_size=128,\n",
    "            num_workers=0,\n",
    "            drop_last=False,\n",
    "            callbacks=[\n",
    "                TabNetPretrainedModelCheckpoint(\n",
    "                    filepath=self.best_model_path,\n",
    "                    monitor='valid_mse',\n",
    "                    mode='min',\n",
    "                    save_best_only=True,\n",
    "                    verbose=True\n",
    "                )\n",
    "            ]\n",
    "        )\n",
    "\n",
    "        # Load the best model\n",
    "        if os.path.exists(self.best_model_path):\n",
    "            self.model.load_model(self.best_model_path)\n",
    "            os.remove(self.best_model_path)  # Remove temporary file\n",
    "\n",
    "        return self\n",
    "\n",
    "    def predict(self, X):\n",
    "        X_imputed = self.imputer.transform(X)\n",
    "        return self.model.predict(X_imputed).flatten()\n",
    "\n",
    "    def __deepcopy__(self, memo):\n",
    "        cls = self.__class__\n",
    "        result = cls.__new__(cls)\n",
    "        memo[id(self)] = result\n",
    "        for k, v in self.__dict__.items():\n",
    "            setattr(result, k, deepcopy(v, memo))\n",
    "        return result\n",
    "        \n",
    "TabNet_Params = {\n",
    "    'n_d': 64,\n",
    "    'n_a': 64,\n",
    "    'n_steps': 5,\n",
    "    'gamma': 1.5,\n",
    "    'n_independent': 2,\n",
    "    'n_shared': 2,\n",
    "    'lambda_sparse': 1e-4,\n",
    "    'optimizer_fn': torch.optim.Adam,\n",
    "    'optimizer_params': dict(lr=2e-2, weight_decay=1e-5),\n",
    "    'mask_type': 'entmax',\n",
    "    'scheduler_params': dict(mode=\"min\", patience=10, min_lr=1e-5, factor=0.5),\n",
    "    'scheduler_fn': torch.optim.lr_scheduler.ReduceLROnPlateau,\n",
    "    'verbose': 1,\n",
    "    'device_name': 'cuda' if torch.cuda.is_available() else 'cpu'\n",
    "}\n",
    "\n",
    "\n",
    "class TabNetPretrainedModelCheckpoint(Callback):\n",
    "    def __init__(self, filepath, monitor='val_loss', mode='min',\n",
    "                 save_best_only=True, verbose=1):\n",
    "        super().__init__()\n",
    "        self.filepath = filepath\n",
    "        self.monitor = monitor\n",
    "        self.mode = mode\n",
    "        self.save_best_only = save_best_only\n",
    "        self.verbose = verbose\n",
    "        self.best = float('inf') if mode == 'min' else -float('inf')\n",
    "\n",
    "    def on_train_begin(self, logs=None):\n",
    "        self.model = self.trainer\n",
    "\n",
    "    def on_epoch_end(self, epoch, logs=None):\n",
    "        logs = logs or {}\n",
    "        current = logs.get(self.monitor)\n",
    "        if current is None:\n",
    "            return\n",
    "\n",
    "        if (self.mode == 'min' and current < self.best) or \\\n",
    "           (self.mode == 'max' and current > self.best):\n",
    "            if self.verbose:\n",
    "                print(f'\\nEpoch {epoch}: {self.monitor} improved from {self.best:.4f} to {current:.4f}')\n",
    "            self.best = current\n",
    "            if self.save_best_only:\n",
    "                self.model.save_model(self.filepath)"
   ]
  },
  {
   "cell_type": "code",
   "execution_count": 62,
   "id": "a535c441",
   "metadata": {
    "execution": {
     "iopub.execute_input": "2024-12-19T13:59:47.084485Z",
     "iopub.status.busy": "2024-12-19T13:59:47.083709Z",
     "iopub.status.idle": "2024-12-19T13:59:47.089911Z",
     "shell.execute_reply": "2024-12-19T13:59:47.089191Z"
    },
    "papermill": {
     "duration": 0.093399,
     "end_time": "2024-12-19T13:59:47.091382",
     "exception": false,
     "start_time": "2024-12-19T13:59:46.997983",
     "status": "completed"
    },
    "tags": []
   },
   "outputs": [],
   "source": [
    "lgbm_params = {\n",
    "    'learning_rate': 0.046,\n",
    "    'max_depth': 12,\n",
    "    'num_leaves': 478,\n",
    "    'min_data_in_leaf': 13,\n",
    "    'feature_fraction': 0.893,\n",
    "    'bagging_fraction': 0.784,\n",
    "    'bagging_freq': 4,\n",
    "    'lambda_l1': 10,\n",
    "    'lambda_l2': 0.01,\n",
    "    'device': 'cpu'\n",
    "}\n",
    "CatBoost_Params = {\n",
    "        'learning_rate': 0.05,\n",
    "        'depth': 6,\n",
    "        'iterations': 200,\n",
    "        'random_seed': SEED,\n",
    "        'verbose': 0,\n",
    "        'l2_leaf_reg': 10,\n",
    "        'task_type': 'CPU',\n",
    "        'use_best_model': True\n",
    "}\n",
    "\n",
    "XGB_Params = {\n",
    "    'learning_rate': 0.05,\n",
    "    'max_depth': 6,\n",
    "    'n_estimators': 200,\n",
    "    'subsample': 0.8,\n",
    "    'colsample_bytree': 0.8,\n",
    "    'reg_alpha': 1,  \n",
    "    'reg_lambda': 5,  \n",
    "    'random_state': SEED,\n",
    "    'tree_method': 'gpu_hist',\n",
    "}\n",
    "\n",
    "ftt_params = {\n",
    "    'categories': tuple(cat_ranges), \n",
    "    'num_continuous': num_continuous,    \n",
    "    'dim': 16,             \n",
    "    'dim_out': 1,          \n",
    "    'depth': 2,            \n",
    "    'heads': 3,            \n",
    "    'attn_dropout': 0.1,   \n",
    "    'ff_dropout': 0.3,\n",
    "    'batch_size': 64 ,\n",
    "    'num_epochs': 70,\n",
    "    'learning_rate': 0.001,\n",
    "    'cat_ranges': cat_ranges,\n",
    "    'cat_idx': cat_idx \n",
    "}"
   ]
  },
  {
   "cell_type": "code",
   "execution_count": 63,
   "id": "0da89ac3",
   "metadata": {
    "execution": {
     "iopub.execute_input": "2024-12-19T13:59:47.263034Z",
     "iopub.status.busy": "2024-12-19T13:59:47.262690Z",
     "iopub.status.idle": "2024-12-19T13:59:47.273690Z",
     "shell.execute_reply": "2024-12-19T13:59:47.272907Z"
    },
    "papermill": {
     "duration": 0.099552,
     "end_time": "2024-12-19T13:59:47.275568",
     "exception": false,
     "start_time": "2024-12-19T13:59:47.176016",
     "status": "completed"
    },
    "tags": []
   },
   "outputs": [
    {
     "name": "stderr",
     "output_type": "stream",
     "text": [
      "/opt/conda/lib/python3.10/site-packages/pytorch_tabnet/abstract_model.py:82: UserWarning: Device used : cuda\n",
      "  warnings.warn(f\"Device used : {self.device}\")\n"
     ]
    }
   ],
   "source": [
    "TabNet_Model = TabNetWrapper(**TabNet_Params) \n",
    "FTT_Model = FTTransformerWrapper(**ftt_params)\n",
    "XGB_Model = XGBRegressor(**xgb_params)\n",
    "CatBoost_Model = CatBoostRegressor(**catboost_params)\n",
    "LGBM_Model = LGBMRegressor(**lgbm_params, random_state=42, n_estimators=300)"
   ]
  },
  {
   "cell_type": "code",
   "execution_count": null,
   "id": "ab10c34c",
   "metadata": {
    "execution": {
     "iopub.execute_input": "2024-12-19T13:59:47.450177Z",
     "iopub.status.busy": "2024-12-19T13:59:47.449796Z",
     "iopub.status.idle": "2024-12-19T14:03:01.058008Z",
     "shell.execute_reply": "2024-12-19T14:03:01.057097Z"
    },
    "papermill": {
     "duration": 193.697522,
     "end_time": "2024-12-19T14:03:01.060655",
     "exception": false,
     "start_time": "2024-12-19T13:59:47.363133",
     "status": "completed"
    },
    "tags": []
   },
   "outputs": [],
   "source": [
    "n_splits = 5\n",
    "SEED = 42\n",
    "X = new_X\n",
    "y = new_y['PCIAT-PCIAT_Total']\n",
    "\n",
    "KF = KFold(n_splits=n_splits, shuffle=True, random_state=42)\n",
    "\n",
    "for fold, (train_idx, test_idx) in enumerate(tqdm(KF.split(X, y), desc=\"Training Folds\", total=n_splits)):\n",
    "    X_train, X_val = X.iloc[train_idx], X.iloc[test_idx]\n",
    "    y_train, y_val = y.iloc[train_idx], y.iloc[test_idx]\n",
    "    \n",
    "    # Train LightGBM\n",
    "    LGBM_Model.fit(\n",
    "        X_train, y_train,\n",
    "        eval_set=[(X_val, y_val)],\n",
    "        eval_metric='mse',\n",
    "    )\n",
    "    \n",
    "    # Train XGBoost\n",
    "    XGB_Model.fit(\n",
    "        X_train, y_train,\n",
    "        eval_set=[(X_val, y_val)],\n",
    "        eval_metric='rmse',\n",
    "        early_stopping_rounds=30,\n",
    "        verbose=True\n",
    "    )\n",
    "    \n",
    "    # Train CatBoost\n",
    "    CatBoost_Model.fit(\n",
    "        X_train, y_train,\n",
    "        eval_set=(X_val, y_val),\n",
    "        use_best_model=True,\n",
    "        verbose=10\n",
    "    )\n",
    "    \n",
    "    # Train FTT_Model\n",
    "    FTT_Model.fit(\n",
    "        X_train, y_train,\n",
    "    )"
   ]
  },
  {
   "cell_type": "code",
   "execution_count": 65,
   "id": "19928f80",
   "metadata": {
    "execution": {
     "iopub.execute_input": "2024-12-19T14:03:01.321111Z",
     "iopub.status.busy": "2024-12-19T14:03:01.320738Z",
     "iopub.status.idle": "2024-12-19T14:03:01.327151Z",
     "shell.execute_reply": "2024-12-19T14:03:01.326517Z"
    },
    "papermill": {
     "duration": 0.136742,
     "end_time": "2024-12-19T14:03:01.328593",
     "exception": false,
     "start_time": "2024-12-19T14:03:01.191851",
     "status": "completed"
    },
    "tags": []
   },
   "outputs": [],
   "source": [
    "voting_model = VotingRegressor(estimators=[\n",
    "    ('lightgbm', LGBM_Model),\n",
    "    ('xgboost', XGB_Model),\n",
    "    ('catboost', CatBoost_Model),\n",
    "    ('ftt', FTT_Model),\n",
    "    ('tabnet', TabNet_Model)\n",
    "],weights=[4.0,4.0,4.0, 3.0,5.0])"
   ]
  },
  {
   "cell_type": "code",
   "execution_count": null,
   "id": "abfebe08",
   "metadata": {
    "execution": {
     "iopub.execute_input": "2024-12-19T14:03:01.584495Z",
     "iopub.status.busy": "2024-12-19T14:03:01.584146Z",
     "iopub.status.idle": "2024-12-19T14:07:17.961948Z",
     "shell.execute_reply": "2024-12-19T14:07:17.960779Z"
    },
    "papermill": {
     "duration": 256.508135,
     "end_time": "2024-12-19T14:07:17.963861",
     "exception": false,
     "start_time": "2024-12-19T14:03:01.455726",
     "status": "completed"
    },
    "tags": []
   },
   "outputs": [],
   "source": [
    "submission2= prepare_submission(voting_model, new_test)"
   ]
  },
  {
   "cell_type": "code",
   "execution_count": 67,
   "id": "d0b462d6",
   "metadata": {
    "execution": {
     "iopub.execute_input": "2024-12-19T14:07:18.335705Z",
     "iopub.status.busy": "2024-12-19T14:07:18.335064Z",
     "iopub.status.idle": "2024-12-19T14:07:18.344436Z",
     "shell.execute_reply": "2024-12-19T14:07:18.343581Z"
    },
    "papermill": {
     "duration": 0.214885,
     "end_time": "2024-12-19T14:07:18.346076",
     "exception": false,
     "start_time": "2024-12-19T14:07:18.131191",
     "status": "completed"
    },
    "tags": []
   },
   "outputs": [
    {
     "data": {
      "text/html": [
       "<div>\n",
       "<style scoped>\n",
       "    .dataframe tbody tr th:only-of-type {\n",
       "        vertical-align: middle;\n",
       "    }\n",
       "\n",
       "    .dataframe tbody tr th {\n",
       "        vertical-align: top;\n",
       "    }\n",
       "\n",
       "    .dataframe thead th {\n",
       "        text-align: right;\n",
       "    }\n",
       "</style>\n",
       "<table border=\"1\" class=\"dataframe\">\n",
       "  <thead>\n",
       "    <tr style=\"text-align: right;\">\n",
       "      <th></th>\n",
       "      <th>id</th>\n",
       "      <th>sii</th>\n",
       "    </tr>\n",
       "  </thead>\n",
       "  <tbody>\n",
       "    <tr>\n",
       "      <th>0</th>\n",
       "      <td>00008ff9</td>\n",
       "      <td>0</td>\n",
       "    </tr>\n",
       "    <tr>\n",
       "      <th>1</th>\n",
       "      <td>000fd460</td>\n",
       "      <td>0</td>\n",
       "    </tr>\n",
       "    <tr>\n",
       "      <th>2</th>\n",
       "      <td>00105258</td>\n",
       "      <td>1</td>\n",
       "    </tr>\n",
       "    <tr>\n",
       "      <th>3</th>\n",
       "      <td>00115b9f</td>\n",
       "      <td>0</td>\n",
       "    </tr>\n",
       "    <tr>\n",
       "      <th>4</th>\n",
       "      <td>0016bb22</td>\n",
       "      <td>1</td>\n",
       "    </tr>\n",
       "    <tr>\n",
       "      <th>5</th>\n",
       "      <td>001f3379</td>\n",
       "      <td>1</td>\n",
       "    </tr>\n",
       "    <tr>\n",
       "      <th>6</th>\n",
       "      <td>0038ba98</td>\n",
       "      <td>1</td>\n",
       "    </tr>\n",
       "    <tr>\n",
       "      <th>7</th>\n",
       "      <td>0068a485</td>\n",
       "      <td>0</td>\n",
       "    </tr>\n",
       "    <tr>\n",
       "      <th>8</th>\n",
       "      <td>0069fbed</td>\n",
       "      <td>1</td>\n",
       "    </tr>\n",
       "    <tr>\n",
       "      <th>9</th>\n",
       "      <td>0083e397</td>\n",
       "      <td>1</td>\n",
       "    </tr>\n",
       "    <tr>\n",
       "      <th>10</th>\n",
       "      <td>0087dd65</td>\n",
       "      <td>0</td>\n",
       "    </tr>\n",
       "    <tr>\n",
       "      <th>11</th>\n",
       "      <td>00abe655</td>\n",
       "      <td>1</td>\n",
       "    </tr>\n",
       "    <tr>\n",
       "      <th>12</th>\n",
       "      <td>00ae59c9</td>\n",
       "      <td>1</td>\n",
       "    </tr>\n",
       "    <tr>\n",
       "      <th>13</th>\n",
       "      <td>00af6387</td>\n",
       "      <td>0</td>\n",
       "    </tr>\n",
       "    <tr>\n",
       "      <th>14</th>\n",
       "      <td>00bd4359</td>\n",
       "      <td>1</td>\n",
       "    </tr>\n",
       "    <tr>\n",
       "      <th>15</th>\n",
       "      <td>00c0cd71</td>\n",
       "      <td>1</td>\n",
       "    </tr>\n",
       "    <tr>\n",
       "      <th>16</th>\n",
       "      <td>00d56d4b</td>\n",
       "      <td>0</td>\n",
       "    </tr>\n",
       "    <tr>\n",
       "      <th>17</th>\n",
       "      <td>00d9913d</td>\n",
       "      <td>0</td>\n",
       "    </tr>\n",
       "    <tr>\n",
       "      <th>18</th>\n",
       "      <td>00e6167c</td>\n",
       "      <td>0</td>\n",
       "    </tr>\n",
       "    <tr>\n",
       "      <th>19</th>\n",
       "      <td>00ebc35d</td>\n",
       "      <td>1</td>\n",
       "    </tr>\n",
       "  </tbody>\n",
       "</table>\n",
       "</div>"
      ],
      "text/plain": [
       "          id  sii\n",
       "0   00008ff9    0\n",
       "1   000fd460    0\n",
       "2   00105258    1\n",
       "3   00115b9f    0\n",
       "4   0016bb22    1\n",
       "5   001f3379    1\n",
       "6   0038ba98    1\n",
       "7   0068a485    0\n",
       "8   0069fbed    1\n",
       "9   0083e397    1\n",
       "10  0087dd65    0\n",
       "11  00abe655    1\n",
       "12  00ae59c9    1\n",
       "13  00af6387    0\n",
       "14  00bd4359    1\n",
       "15  00c0cd71    1\n",
       "16  00d56d4b    0\n",
       "17  00d9913d    0\n",
       "18  00e6167c    0\n",
       "19  00ebc35d    1"
      ]
     },
     "execution_count": 67,
     "metadata": {},
     "output_type": "execute_result"
    }
   ],
   "source": [
    "submission2"
   ]
  },
  {
   "cell_type": "markdown",
   "id": "fca26baf",
   "metadata": {
    "papermill": {
     "duration": 0.159577,
     "end_time": "2024-12-19T14:07:18.669514",
     "exception": false,
     "start_time": "2024-12-19T14:07:18.509937",
     "status": "completed"
    },
    "tags": []
   },
   "source": [
    "### Submission 3"
   ]
  },
  {
   "cell_type": "code",
   "execution_count": 68,
   "id": "70877938",
   "metadata": {
    "execution": {
     "iopub.execute_input": "2024-12-19T14:07:18.991277Z",
     "iopub.status.busy": "2024-12-19T14:07:18.990915Z",
     "iopub.status.idle": "2024-12-19T14:07:18.996969Z",
     "shell.execute_reply": "2024-12-19T14:07:18.996014Z"
    },
    "papermill": {
     "duration": 0.168876,
     "end_time": "2024-12-19T14:07:18.998527",
     "exception": false,
     "start_time": "2024-12-19T14:07:18.829651",
     "status": "completed"
    },
    "tags": []
   },
   "outputs": [
    {
     "name": "stderr",
     "output_type": "stream",
     "text": [
      "/opt/conda/lib/python3.10/site-packages/pytorch_tabnet/abstract_model.py:82: UserWarning: Device used : cuda\n",
      "  warnings.warn(f\"Device used : {self.device}\")\n"
     ]
    }
   ],
   "source": [
    "TabNet_Model = TabNetWrapper(**TabNet_Params) \n",
    "XGB_Model = XGBRegressor(**xgb_params)\n",
    "CatBoost_Model = CatBoostRegressor(**catboost_params)\n",
    "LGBM_Model = LGBMRegressor(**lgbm_params, random_state=42, n_estimators=300)"
   ]
  },
  {
   "cell_type": "code",
   "execution_count": null,
   "id": "b9962b2f",
   "metadata": {
    "execution": {
     "iopub.execute_input": "2024-12-19T14:07:19.317512Z",
     "iopub.status.busy": "2024-12-19T14:07:19.316707Z",
     "iopub.status.idle": "2024-12-19T14:10:35.523122Z",
     "shell.execute_reply": "2024-12-19T14:10:35.522155Z"
    },
    "papermill": {
     "duration": 196.368919,
     "end_time": "2024-12-19T14:10:35.525098",
     "exception": false,
     "start_time": "2024-12-19T14:07:19.156179",
     "status": "completed"
    },
    "tags": []
   },
   "outputs": [],
   "source": [
    "n_splits = 5\n",
    "SEED = 42\n",
    "X = new_X\n",
    "y = new_y['PCIAT-PCIAT_Total']\n",
    "\n",
    "KF = KFold(n_splits=n_splits, shuffle=True, random_state=42)\n",
    "\n",
    "for fold, (train_idx, test_idx) in enumerate(tqdm(KF.split(X, y), desc=\"Training Folds\", total=n_splits)):\n",
    "    X_train, X_val = X.iloc[train_idx], X.iloc[test_idx]\n",
    "    y_train, y_val = y.iloc[train_idx], y.iloc[test_idx]\n",
    "    \n",
    "    # Train LightGBM\n",
    "    LGBM_Model.fit(\n",
    "        X_train, y_train,\n",
    "        eval_set=[(X_val, y_val)],\n",
    "        eval_metric='mse',\n",
    "    )\n",
    "    \n",
    "    # Train XGBoost\n",
    "    XGB_Model.fit(\n",
    "        X_train, y_train,\n",
    "        eval_set=[(X_val, y_val)],\n",
    "        eval_metric='rmse',\n",
    "        early_stopping_rounds=30,\n",
    "        verbose=True\n",
    "    )\n",
    "    \n",
    "    # Train CatBoost\n",
    "    CatBoost_Model.fit(\n",
    "        X_train, y_train,\n",
    "        eval_set=(X_val, y_val),\n",
    "        use_best_model=True,\n",
    "        verbose=10\n",
    "    )\n",
    "    \n",
    "    # Train FTT_Model\n",
    "    FTT_Model.fit(\n",
    "        X_train, y_train,\n",
    "    )"
   ]
  },
  {
   "cell_type": "code",
   "execution_count": 70,
   "id": "00e55435",
   "metadata": {
    "execution": {
     "iopub.execute_input": "2024-12-19T14:10:35.936338Z",
     "iopub.status.busy": "2024-12-19T14:10:35.936006Z",
     "iopub.status.idle": "2024-12-19T14:10:35.941281Z",
     "shell.execute_reply": "2024-12-19T14:10:35.940561Z"
    },
    "papermill": {
     "duration": 0.209616,
     "end_time": "2024-12-19T14:10:35.942911",
     "exception": false,
     "start_time": "2024-12-19T14:10:35.733295",
     "status": "completed"
    },
    "tags": []
   },
   "outputs": [],
   "source": [
    "voting_model = VotingRegressor(estimators=[\n",
    "    ('lightgbm', LGBM_Model),\n",
    "    ('xgboost', XGB_Model),\n",
    "    ('catboost', CatBoost_Model),\n",
    "    ('tabnet', TabNet_Model)\n",
    "],weights=[4.0,3.0,5.0, 4.0])"
   ]
  },
  {
   "cell_type": "code",
   "execution_count": null,
   "id": "8b3da492",
   "metadata": {
    "execution": {
     "iopub.execute_input": "2024-12-19T14:10:36.389067Z",
     "iopub.status.busy": "2024-12-19T14:10:36.388429Z",
     "iopub.status.idle": "2024-12-19T14:12:03.047181Z",
     "shell.execute_reply": "2024-12-19T14:12:03.046038Z"
    },
    "papermill": {
     "duration": 86.862315,
     "end_time": "2024-12-19T14:12:03.049008",
     "exception": false,
     "start_time": "2024-12-19T14:10:36.186693",
     "status": "completed"
    },
    "tags": []
   },
   "outputs": [],
   "source": [
    "submission3= prepare_submission(voting_model, new_test)"
   ]
  },
  {
   "cell_type": "code",
   "execution_count": 72,
   "id": "37bef919",
   "metadata": {
    "execution": {
     "iopub.execute_input": "2024-12-19T14:12:03.507393Z",
     "iopub.status.busy": "2024-12-19T14:12:03.506486Z",
     "iopub.status.idle": "2024-12-19T14:12:03.515283Z",
     "shell.execute_reply": "2024-12-19T14:12:03.514416Z"
    },
    "papermill": {
     "duration": 0.236741,
     "end_time": "2024-12-19T14:12:03.516887",
     "exception": false,
     "start_time": "2024-12-19T14:12:03.280146",
     "status": "completed"
    },
    "tags": []
   },
   "outputs": [
    {
     "data": {
      "text/html": [
       "<div>\n",
       "<style scoped>\n",
       "    .dataframe tbody tr th:only-of-type {\n",
       "        vertical-align: middle;\n",
       "    }\n",
       "\n",
       "    .dataframe tbody tr th {\n",
       "        vertical-align: top;\n",
       "    }\n",
       "\n",
       "    .dataframe thead th {\n",
       "        text-align: right;\n",
       "    }\n",
       "</style>\n",
       "<table border=\"1\" class=\"dataframe\">\n",
       "  <thead>\n",
       "    <tr style=\"text-align: right;\">\n",
       "      <th></th>\n",
       "      <th>id</th>\n",
       "      <th>sii</th>\n",
       "    </tr>\n",
       "  </thead>\n",
       "  <tbody>\n",
       "    <tr>\n",
       "      <th>0</th>\n",
       "      <td>00008ff9</td>\n",
       "      <td>0</td>\n",
       "    </tr>\n",
       "    <tr>\n",
       "      <th>1</th>\n",
       "      <td>000fd460</td>\n",
       "      <td>0</td>\n",
       "    </tr>\n",
       "    <tr>\n",
       "      <th>2</th>\n",
       "      <td>00105258</td>\n",
       "      <td>1</td>\n",
       "    </tr>\n",
       "    <tr>\n",
       "      <th>3</th>\n",
       "      <td>00115b9f</td>\n",
       "      <td>0</td>\n",
       "    </tr>\n",
       "    <tr>\n",
       "      <th>4</th>\n",
       "      <td>0016bb22</td>\n",
       "      <td>1</td>\n",
       "    </tr>\n",
       "    <tr>\n",
       "      <th>5</th>\n",
       "      <td>001f3379</td>\n",
       "      <td>1</td>\n",
       "    </tr>\n",
       "    <tr>\n",
       "      <th>6</th>\n",
       "      <td>0038ba98</td>\n",
       "      <td>1</td>\n",
       "    </tr>\n",
       "    <tr>\n",
       "      <th>7</th>\n",
       "      <td>0068a485</td>\n",
       "      <td>0</td>\n",
       "    </tr>\n",
       "    <tr>\n",
       "      <th>8</th>\n",
       "      <td>0069fbed</td>\n",
       "      <td>1</td>\n",
       "    </tr>\n",
       "    <tr>\n",
       "      <th>9</th>\n",
       "      <td>0083e397</td>\n",
       "      <td>1</td>\n",
       "    </tr>\n",
       "    <tr>\n",
       "      <th>10</th>\n",
       "      <td>0087dd65</td>\n",
       "      <td>0</td>\n",
       "    </tr>\n",
       "    <tr>\n",
       "      <th>11</th>\n",
       "      <td>00abe655</td>\n",
       "      <td>1</td>\n",
       "    </tr>\n",
       "    <tr>\n",
       "      <th>12</th>\n",
       "      <td>00ae59c9</td>\n",
       "      <td>1</td>\n",
       "    </tr>\n",
       "    <tr>\n",
       "      <th>13</th>\n",
       "      <td>00af6387</td>\n",
       "      <td>0</td>\n",
       "    </tr>\n",
       "    <tr>\n",
       "      <th>14</th>\n",
       "      <td>00bd4359</td>\n",
       "      <td>1</td>\n",
       "    </tr>\n",
       "    <tr>\n",
       "      <th>15</th>\n",
       "      <td>00c0cd71</td>\n",
       "      <td>1</td>\n",
       "    </tr>\n",
       "    <tr>\n",
       "      <th>16</th>\n",
       "      <td>00d56d4b</td>\n",
       "      <td>0</td>\n",
       "    </tr>\n",
       "    <tr>\n",
       "      <th>17</th>\n",
       "      <td>00d9913d</td>\n",
       "      <td>0</td>\n",
       "    </tr>\n",
       "    <tr>\n",
       "      <th>18</th>\n",
       "      <td>00e6167c</td>\n",
       "      <td>0</td>\n",
       "    </tr>\n",
       "    <tr>\n",
       "      <th>19</th>\n",
       "      <td>00ebc35d</td>\n",
       "      <td>1</td>\n",
       "    </tr>\n",
       "  </tbody>\n",
       "</table>\n",
       "</div>"
      ],
      "text/plain": [
       "          id  sii\n",
       "0   00008ff9    0\n",
       "1   000fd460    0\n",
       "2   00105258    1\n",
       "3   00115b9f    0\n",
       "4   0016bb22    1\n",
       "5   001f3379    1\n",
       "6   0038ba98    1\n",
       "7   0068a485    0\n",
       "8   0069fbed    1\n",
       "9   0083e397    1\n",
       "10  0087dd65    0\n",
       "11  00abe655    1\n",
       "12  00ae59c9    1\n",
       "13  00af6387    0\n",
       "14  00bd4359    1\n",
       "15  00c0cd71    1\n",
       "16  00d56d4b    0\n",
       "17  00d9913d    0\n",
       "18  00e6167c    0\n",
       "19  00ebc35d    1"
      ]
     },
     "execution_count": 72,
     "metadata": {},
     "output_type": "execute_result"
    }
   ],
   "source": [
    "submission3"
   ]
  },
  {
   "cell_type": "markdown",
   "id": "c5359037",
   "metadata": {},
   "source": [
    "## Final submision"
   ]
  },
  {
   "cell_type": "code",
   "execution_count": 73,
   "id": "f4128fd1",
   "metadata": {
    "execution": {
     "iopub.execute_input": "2024-12-19T14:12:03.996321Z",
     "iopub.status.busy": "2024-12-19T14:12:03.995278Z",
     "iopub.status.idle": "2024-12-19T14:12:04.012488Z",
     "shell.execute_reply": "2024-12-19T14:12:04.011836Z"
    },
    "papermill": {
     "duration": 0.277822,
     "end_time": "2024-12-19T14:12:04.014049",
     "exception": false,
     "start_time": "2024-12-19T14:12:03.736227",
     "status": "completed"
    },
    "tags": []
   },
   "outputs": [],
   "source": [
    "sub1 = submission1\n",
    "sub2 = submission2\n",
    "sub3 = submission3\n",
    "\n",
    "sub1 = sub1.sort_values(by='id').reset_index(drop=True)\n",
    "sub2 = sub2.sort_values(by='id').reset_index(drop=True)\n",
    "sub3 = sub3.sort_values(by='id').reset_index(drop=True)\n",
    "\n",
    "combined = pd.DataFrame({\n",
    "    'id': sub1['id'],\n",
    "    'sii_1': sub1['sii'],\n",
    "    'sii_2': sub2['sii'],\n",
    "    'sii_3': sub3['sii']\n",
    "})\n",
    "\n",
    "def majority_vote(row):\n",
    "    return row.mode()[0]\n",
    "\n",
    "combined['final_sii'] = combined[['sii_1', 'sii_2', 'sii_3']].apply(majority_vote, axis=1)\n",
    "\n",
    "sum_submission = combined[['id', 'final_sii']].rename(columns={'final_sii': 'sii'})\n",
    "sum_submission.to_csv('submission.csv', index=False)"
   ]
  },
  {
   "cell_type": "code",
   "execution_count": 74,
   "id": "ed2d7ac4",
   "metadata": {
    "execution": {
     "iopub.execute_input": "2024-12-19T14:12:04.452346Z",
     "iopub.status.busy": "2024-12-19T14:12:04.452011Z",
     "iopub.status.idle": "2024-12-19T14:12:04.460601Z",
     "shell.execute_reply": "2024-12-19T14:12:04.459752Z"
    },
    "papermill": {
     "duration": 0.229664,
     "end_time": "2024-12-19T14:12:04.462279",
     "exception": false,
     "start_time": "2024-12-19T14:12:04.232615",
     "status": "completed"
    },
    "tags": []
   },
   "outputs": [
    {
     "data": {
      "text/html": [
       "<div>\n",
       "<style scoped>\n",
       "    .dataframe tbody tr th:only-of-type {\n",
       "        vertical-align: middle;\n",
       "    }\n",
       "\n",
       "    .dataframe tbody tr th {\n",
       "        vertical-align: top;\n",
       "    }\n",
       "\n",
       "    .dataframe thead th {\n",
       "        text-align: right;\n",
       "    }\n",
       "</style>\n",
       "<table border=\"1\" class=\"dataframe\">\n",
       "  <thead>\n",
       "    <tr style=\"text-align: right;\">\n",
       "      <th></th>\n",
       "      <th>id</th>\n",
       "      <th>sii</th>\n",
       "    </tr>\n",
       "  </thead>\n",
       "  <tbody>\n",
       "    <tr>\n",
       "      <th>0</th>\n",
       "      <td>00008ff9</td>\n",
       "      <td>0</td>\n",
       "    </tr>\n",
       "    <tr>\n",
       "      <th>1</th>\n",
       "      <td>000fd460</td>\n",
       "      <td>0</td>\n",
       "    </tr>\n",
       "    <tr>\n",
       "      <th>2</th>\n",
       "      <td>00105258</td>\n",
       "      <td>1</td>\n",
       "    </tr>\n",
       "    <tr>\n",
       "      <th>3</th>\n",
       "      <td>00115b9f</td>\n",
       "      <td>0</td>\n",
       "    </tr>\n",
       "    <tr>\n",
       "      <th>4</th>\n",
       "      <td>0016bb22</td>\n",
       "      <td>1</td>\n",
       "    </tr>\n",
       "    <tr>\n",
       "      <th>5</th>\n",
       "      <td>001f3379</td>\n",
       "      <td>1</td>\n",
       "    </tr>\n",
       "    <tr>\n",
       "      <th>6</th>\n",
       "      <td>0038ba98</td>\n",
       "      <td>1</td>\n",
       "    </tr>\n",
       "    <tr>\n",
       "      <th>7</th>\n",
       "      <td>0068a485</td>\n",
       "      <td>0</td>\n",
       "    </tr>\n",
       "    <tr>\n",
       "      <th>8</th>\n",
       "      <td>0069fbed</td>\n",
       "      <td>1</td>\n",
       "    </tr>\n",
       "    <tr>\n",
       "      <th>9</th>\n",
       "      <td>0083e397</td>\n",
       "      <td>1</td>\n",
       "    </tr>\n",
       "    <tr>\n",
       "      <th>10</th>\n",
       "      <td>0087dd65</td>\n",
       "      <td>0</td>\n",
       "    </tr>\n",
       "    <tr>\n",
       "      <th>11</th>\n",
       "      <td>00abe655</td>\n",
       "      <td>1</td>\n",
       "    </tr>\n",
       "    <tr>\n",
       "      <th>12</th>\n",
       "      <td>00ae59c9</td>\n",
       "      <td>1</td>\n",
       "    </tr>\n",
       "    <tr>\n",
       "      <th>13</th>\n",
       "      <td>00af6387</td>\n",
       "      <td>0</td>\n",
       "    </tr>\n",
       "    <tr>\n",
       "      <th>14</th>\n",
       "      <td>00bd4359</td>\n",
       "      <td>1</td>\n",
       "    </tr>\n",
       "    <tr>\n",
       "      <th>15</th>\n",
       "      <td>00c0cd71</td>\n",
       "      <td>1</td>\n",
       "    </tr>\n",
       "    <tr>\n",
       "      <th>16</th>\n",
       "      <td>00d56d4b</td>\n",
       "      <td>0</td>\n",
       "    </tr>\n",
       "    <tr>\n",
       "      <th>17</th>\n",
       "      <td>00d9913d</td>\n",
       "      <td>0</td>\n",
       "    </tr>\n",
       "    <tr>\n",
       "      <th>18</th>\n",
       "      <td>00e6167c</td>\n",
       "      <td>0</td>\n",
       "    </tr>\n",
       "    <tr>\n",
       "      <th>19</th>\n",
       "      <td>00ebc35d</td>\n",
       "      <td>1</td>\n",
       "    </tr>\n",
       "  </tbody>\n",
       "</table>\n",
       "</div>"
      ],
      "text/plain": [
       "          id  sii\n",
       "0   00008ff9    0\n",
       "1   000fd460    0\n",
       "2   00105258    1\n",
       "3   00115b9f    0\n",
       "4   0016bb22    1\n",
       "5   001f3379    1\n",
       "6   0038ba98    1\n",
       "7   0068a485    0\n",
       "8   0069fbed    1\n",
       "9   0083e397    1\n",
       "10  0087dd65    0\n",
       "11  00abe655    1\n",
       "12  00ae59c9    1\n",
       "13  00af6387    0\n",
       "14  00bd4359    1\n",
       "15  00c0cd71    1\n",
       "16  00d56d4b    0\n",
       "17  00d9913d    0\n",
       "18  00e6167c    0\n",
       "19  00ebc35d    1"
      ]
     },
     "execution_count": 74,
     "metadata": {},
     "output_type": "execute_result"
    }
   ],
   "source": [
    "sum_submission"
   ]
  }
 ],
 "metadata": {
  "kaggle": {
   "accelerator": "gpu",
   "dataSources": [
    {
     "databundleVersionId": 9643020,
     "sourceId": 81933,
     "sourceType": "competition"
    },
    {
     "datasetId": 6261488,
     "sourceId": 10144188,
     "sourceType": "datasetVersion"
    },
    {
     "datasetId": 6274967,
     "sourceId": 10161833,
     "sourceType": "datasetVersion"
    },
    {
     "datasetId": 6303553,
     "sourceId": 10200802,
     "sourceType": "datasetVersion"
    },
    {
     "datasetId": 6305398,
     "sourceId": 10203245,
     "sourceType": "datasetVersion"
    },
    {
     "datasetId": 6308872,
     "sourceId": 10208164,
     "sourceType": "datasetVersion"
    },
    {
     "modelId": 191870,
     "modelInstanceId": 169524,
     "sourceId": 198747,
     "sourceType": "modelInstanceVersion"
    }
   ],
   "dockerImageVersionId": 30805,
   "isGpuEnabled": true,
   "isInternetEnabled": false,
   "language": "python",
   "sourceType": "notebook"
  },
  "kernelspec": {
   "display_name": "Python 3",
   "language": "python",
   "name": "python3"
  },
  "language_info": {
   "codemirror_mode": {
    "name": "ipython",
    "version": 3
   },
   "file_extension": ".py",
   "mimetype": "text/x-python",
   "name": "python",
   "nbconvert_exporter": "python",
   "pygments_lexer": "ipython3",
   "version": "3.10.14"
  },
  "papermill": {
   "default_parameters": {},
   "duration": 1342.934101,
   "end_time": "2024-12-19T14:12:06.501459",
   "environment_variables": {},
   "exception": null,
   "input_path": "__notebook__.ipynb",
   "output_path": "__notebook__.ipynb",
   "parameters": {},
   "start_time": "2024-12-19T13:49:43.567358",
   "version": "2.6.0"
  }
 },
 "nbformat": 4,
 "nbformat_minor": 5
}
