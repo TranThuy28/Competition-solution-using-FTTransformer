{
 "cells": [
  {
   "cell_type": "markdown",
   "id": "6e0c0a4e",
   "metadata": {
    "papermill": {
     "duration": 0.006321,
     "end_time": "2024-12-15T07:13:48.520039",
     "exception": false,
     "start_time": "2024-12-15T07:13:48.513718",
     "status": "completed"
    },
    "tags": []
   },
   "source": [
    "### First improvement (IMPUTATION WITH MICE)"
   ]
  },
  {
   "cell_type": "code",
   "execution_count": 1,
   "id": "d16a647c",
   "metadata": {
    "execution": {
     "iopub.execute_input": "2024-12-15T07:13:48.533515Z",
     "iopub.status.busy": "2024-12-15T07:13:48.533175Z",
     "iopub.status.idle": "2024-12-15T07:13:49.224283Z",
     "shell.execute_reply": "2024-12-15T07:13:49.223603Z"
    },
    "papermill": {
     "duration": 0.699442,
     "end_time": "2024-12-15T07:13:49.226238",
     "exception": false,
     "start_time": "2024-12-15T07:13:48.526796",
     "status": "completed"
    },
    "tags": []
   },
   "outputs": [],
   "source": [
    "import numpy as np\n",
    "import pandas as pd\n",
    "from torch.utils.data import DataLoader\n",
    "from tab_transformer_pytorch import FTTransformer\n",
    "import torch.nn as nn\n",
    "import torch.optim as optim\n",
    "from sklearn.experimental import enable_iterative_imputer\n",
    "from sklearn.impute import IterativeImputer\n",
    "import numpy as np"
   ]
  },
  {
   "cell_type": "markdown",
   "id": "e4057659",
   "metadata": {
    "papermill": {
     "duration": 0.005315,
     "end_time": "2024-12-15T07:13:49.237499",
     "exception": false,
     "start_time": "2024-12-15T07:13:49.232184",
     "status": "completed"
    },
    "tags": []
   },
   "source": [
    "#### Drop any samples which only missed any values in PCIAT test"
   ]
  },
  {
   "cell_type": "code",
   "execution_count": 2,
   "id": "db001dba",
   "metadata": {
    "execution": {
     "iopub.execute_input": "2024-12-15T07:13:49.250011Z",
     "iopub.status.busy": "2024-12-15T07:13:49.249149Z",
     "iopub.status.idle": "2024-12-15T07:13:49.313907Z",
     "shell.execute_reply": "2024-12-15T07:13:49.313248Z"
    },
    "papermill": {
     "duration": 0.072861,
     "end_time": "2024-12-15T07:13:49.315812",
     "exception": false,
     "start_time": "2024-12-15T07:13:49.242951",
     "status": "completed"
    },
    "tags": []
   },
   "outputs": [],
   "source": [
    "train_data = pd.read_csv(\"/kaggle/input/child-mind-institute-problematic-internet-use/train.csv\")\n",
    "test_data = pd.read_csv(\"/kaggle/input/child-mind-institute-problematic-internet-use/test.csv\")"
   ]
  },
  {
   "cell_type": "code",
   "execution_count": 3,
   "id": "1afd1781",
   "metadata": {
    "execution": {
     "iopub.execute_input": "2024-12-15T07:13:49.328140Z",
     "iopub.status.busy": "2024-12-15T07:13:49.327916Z",
     "iopub.status.idle": "2024-12-15T07:13:49.342790Z",
     "shell.execute_reply": "2024-12-15T07:13:49.342224Z"
    },
    "papermill": {
     "duration": 0.022616,
     "end_time": "2024-12-15T07:13:49.344256",
     "exception": false,
     "start_time": "2024-12-15T07:13:49.321640",
     "status": "completed"
    },
    "tags": []
   },
   "outputs": [],
   "source": [
    "columns_not_in_test = ['PCIAT-PCIAT_01', 'PCIAT-PCIAT_02', 'PCIAT-PCIAT_03', 'PCIAT-PCIAT_04', 'PCIAT-PCIAT_05', 'PCIAT-PCIAT_06', 'PCIAT-PCIAT_07', 'PCIAT-PCIAT_08', 'PCIAT-PCIAT_09', 'PCIAT-PCIAT_10', 'PCIAT-PCIAT_11', 'PCIAT-PCIAT_12', 'PCIAT-PCIAT_13', 'PCIAT-PCIAT_14', 'PCIAT-PCIAT_15', 'PCIAT-PCIAT_16', 'PCIAT-PCIAT_17', 'PCIAT-PCIAT_18', 'PCIAT-PCIAT_19', 'PCIAT-PCIAT_20', 'PCIAT-PCIAT_Total', 'PCIAT-Season', 'sii']\n",
    "train_data = train_data.dropna(subset=columns_not_in_test)"
   ]
  },
  {
   "cell_type": "code",
   "execution_count": 4,
   "id": "9c74ec24",
   "metadata": {
    "execution": {
     "iopub.execute_input": "2024-12-15T07:13:49.367138Z",
     "iopub.status.busy": "2024-12-15T07:13:49.366891Z",
     "iopub.status.idle": "2024-12-15T07:13:49.372554Z",
     "shell.execute_reply": "2024-12-15T07:13:49.371960Z"
    },
    "papermill": {
     "duration": 0.013276,
     "end_time": "2024-12-15T07:13:49.374007",
     "exception": false,
     "start_time": "2024-12-15T07:13:49.360731",
     "status": "completed"
    },
    "tags": []
   },
   "outputs": [],
   "source": [
    "label_related_features = ['PCIAT-PCIAT_01', 'PCIAT-PCIAT_02', 'PCIAT-PCIAT_03', 'PCIAT-PCIAT_04', 'PCIAT-PCIAT_05', 'PCIAT-PCIAT_06', 'PCIAT-PCIAT_07', 'PCIAT-PCIAT_08', 'PCIAT-PCIAT_09', 'PCIAT-PCIAT_10', 'PCIAT-PCIAT_11', 'PCIAT-PCIAT_12', 'PCIAT-PCIAT_13', 'PCIAT-PCIAT_14', 'PCIAT-PCIAT_15', 'PCIAT-PCIAT_16', 'PCIAT-PCIAT_17', 'PCIAT-PCIAT_18', 'PCIAT-PCIAT_19', 'PCIAT-PCIAT_20', 'PCIAT-PCIAT_Total', 'PCIAT-Season', 'sii']\n",
    "label = ['PCIAT-PCIAT_Total']\n",
    "X = train_data.drop(label_related_features, axis = 1)\n",
    "y = train_data[label]"
   ]
  },
  {
   "cell_type": "markdown",
   "id": "64fc7499",
   "metadata": {
    "execution": {
     "iopub.execute_input": "2024-12-14T07:09:25.396721Z",
     "iopub.status.busy": "2024-12-14T07:09:25.396351Z",
     "iopub.status.idle": "2024-12-14T07:09:25.401621Z",
     "shell.execute_reply": "2024-12-14T07:09:25.400842Z",
     "shell.execute_reply.started": "2024-12-14T07:09:25.396683Z"
    },
    "papermill": {
     "duration": 0.005375,
     "end_time": "2024-12-15T07:13:49.384816",
     "exception": false,
     "start_time": "2024-12-15T07:13:49.379441",
     "status": "completed"
    },
    "tags": []
   },
   "source": [
    "#### One hot encoding"
   ]
  },
  {
   "cell_type": "code",
   "execution_count": 5,
   "id": "02bae47a",
   "metadata": {
    "execution": {
     "iopub.execute_input": "2024-12-15T07:13:49.396635Z",
     "iopub.status.busy": "2024-12-15T07:13:49.396387Z",
     "iopub.status.idle": "2024-12-15T07:13:50.417905Z",
     "shell.execute_reply": "2024-12-15T07:13:50.417244Z"
    },
    "papermill": {
     "duration": 1.029659,
     "end_time": "2024-12-15T07:13:50.419878",
     "exception": false,
     "start_time": "2024-12-15T07:13:49.390219",
     "status": "completed"
    },
    "tags": []
   },
   "outputs": [],
   "source": [
    "from sklearn.preprocessing import OneHotEncoder\n",
    "\n",
    "\n",
    "def encode_seasonal_data(train_data, test_data, features_to_encode):\n",
    "\n",
    "    encoded_train = train_data.copy()\n",
    "    encoded_test = test_data.copy()\n",
    "    \n",
    "    for feature in features_to_encode:\n",
    "        encoder = OneHotEncoder(handle_unknown='ignore', sparse=False)\n",
    "        \n",
    "        train_encoded = encoder.fit_transform(encoded_train[[feature]])\n",
    "        test_encoded = encoder.transform(encoded_test[[feature]])\n",
    "        \n",
    "        column_names = [f\"{feature}_{cat}\" for cat in encoder.categories_[0]]\n",
    "        \n",
    "        train_encoded_df = pd.DataFrame(train_encoded,\n",
    "                                      columns=column_names,\n",
    "                                      index=encoded_train.index)\n",
    "        test_encoded_df = pd.DataFrame(test_encoded,\n",
    "                                     columns=column_names,\n",
    "                                     index=encoded_test.index)\n",
    "        \n",
    "        encoded_train = pd.concat([encoded_train.drop(columns=[feature]), \n",
    "                                 train_encoded_df], axis=1)\n",
    "        encoded_test = pd.concat([encoded_test.drop(columns=[feature]), \n",
    "                                test_encoded_df], axis=1)\n",
    "    \n",
    "    return encoded_train, encoded_test"
   ]
  },
  {
   "cell_type": "code",
   "execution_count": 6,
   "id": "0f48486d",
   "metadata": {
    "execution": {
     "iopub.execute_input": "2024-12-15T07:13:50.432669Z",
     "iopub.status.busy": "2024-12-15T07:13:50.432326Z",
     "iopub.status.idle": "2024-12-15T07:13:50.437967Z",
     "shell.execute_reply": "2024-12-15T07:13:50.437068Z"
    },
    "papermill": {
     "duration": 0.01387,
     "end_time": "2024-12-15T07:13:50.439755",
     "exception": false,
     "start_time": "2024-12-15T07:13:50.425885",
     "status": "completed"
    },
    "tags": []
   },
   "outputs": [
    {
     "name": "stdout",
     "output_type": "stream",
     "text": [
      "['Basic_Demos-Enroll_Season', 'CGAS-Season', 'Physical-Season', 'Fitness_Endurance-Season', 'FGC-Season', 'BIA-Season', 'PAQ_A-Season', 'PAQ_C-Season', 'SDS-Season', 'PreInt_EduHx-Season']\n"
     ]
    }
   ],
   "source": [
    "features_to_encode = X.select_dtypes(include=['object']).columns.to_list()\n",
    "features_to_encode = features_to_encode[1:]\n",
    "print(features_to_encode)"
   ]
  },
  {
   "cell_type": "code",
   "execution_count": 7,
   "id": "b07fa53f",
   "metadata": {
    "execution": {
     "iopub.execute_input": "2024-12-15T07:13:50.452030Z",
     "iopub.status.busy": "2024-12-15T07:13:50.451798Z",
     "iopub.status.idle": "2024-12-15T07:13:50.523151Z",
     "shell.execute_reply": "2024-12-15T07:13:50.522250Z"
    },
    "papermill": {
     "duration": 0.079687,
     "end_time": "2024-12-15T07:13:50.525113",
     "exception": false,
     "start_time": "2024-12-15T07:13:50.445426",
     "status": "completed"
    },
    "tags": []
   },
   "outputs": [
    {
     "name": "stderr",
     "output_type": "stream",
     "text": [
      "/opt/conda/lib/python3.10/site-packages/sklearn/preprocessing/_encoders.py:868: FutureWarning: `sparse` was renamed to `sparse_output` in version 1.2 and will be removed in 1.4. `sparse_output` is ignored unless you leave `sparse` to its default value.\n",
      "  warnings.warn(\n",
      "/opt/conda/lib/python3.10/site-packages/sklearn/preprocessing/_encoders.py:868: FutureWarning: `sparse` was renamed to `sparse_output` in version 1.2 and will be removed in 1.4. `sparse_output` is ignored unless you leave `sparse` to its default value.\n",
      "  warnings.warn(\n",
      "/opt/conda/lib/python3.10/site-packages/sklearn/preprocessing/_encoders.py:868: FutureWarning: `sparse` was renamed to `sparse_output` in version 1.2 and will be removed in 1.4. `sparse_output` is ignored unless you leave `sparse` to its default value.\n",
      "  warnings.warn(\n",
      "/opt/conda/lib/python3.10/site-packages/sklearn/preprocessing/_encoders.py:868: FutureWarning: `sparse` was renamed to `sparse_output` in version 1.2 and will be removed in 1.4. `sparse_output` is ignored unless you leave `sparse` to its default value.\n",
      "  warnings.warn(\n",
      "/opt/conda/lib/python3.10/site-packages/sklearn/preprocessing/_encoders.py:868: FutureWarning: `sparse` was renamed to `sparse_output` in version 1.2 and will be removed in 1.4. `sparse_output` is ignored unless you leave `sparse` to its default value.\n",
      "  warnings.warn(\n",
      "/opt/conda/lib/python3.10/site-packages/sklearn/preprocessing/_encoders.py:868: FutureWarning: `sparse` was renamed to `sparse_output` in version 1.2 and will be removed in 1.4. `sparse_output` is ignored unless you leave `sparse` to its default value.\n",
      "  warnings.warn(\n",
      "/opt/conda/lib/python3.10/site-packages/sklearn/preprocessing/_encoders.py:868: FutureWarning: `sparse` was renamed to `sparse_output` in version 1.2 and will be removed in 1.4. `sparse_output` is ignored unless you leave `sparse` to its default value.\n",
      "  warnings.warn(\n",
      "/opt/conda/lib/python3.10/site-packages/sklearn/preprocessing/_encoders.py:868: FutureWarning: `sparse` was renamed to `sparse_output` in version 1.2 and will be removed in 1.4. `sparse_output` is ignored unless you leave `sparse` to its default value.\n",
      "  warnings.warn(\n",
      "/opt/conda/lib/python3.10/site-packages/sklearn/preprocessing/_encoders.py:868: FutureWarning: `sparse` was renamed to `sparse_output` in version 1.2 and will be removed in 1.4. `sparse_output` is ignored unless you leave `sparse` to its default value.\n",
      "  warnings.warn(\n",
      "/opt/conda/lib/python3.10/site-packages/sklearn/preprocessing/_encoders.py:868: FutureWarning: `sparse` was renamed to `sparse_output` in version 1.2 and will be removed in 1.4. `sparse_output` is ignored unless you leave `sparse` to its default value.\n",
      "  warnings.warn(\n"
     ]
    }
   ],
   "source": [
    "X_encoded, test_encoded = encode_seasonal_data(X, test_data, features_to_encode)\n",
    "new_X = X_encoded.drop(['id'], axis = 1)\n",
    "new_test = test_encoded.drop(['id'], axis = 1)"
   ]
  },
  {
   "cell_type": "markdown",
   "id": "d87adbee",
   "metadata": {
    "papermill": {
     "duration": 0.005474,
     "end_time": "2024-12-15T07:13:50.536724",
     "exception": false,
     "start_time": "2024-12-15T07:13:50.531250",
     "status": "completed"
    },
    "tags": []
   },
   "source": [
    "# FIRST TRIAL USING MICE IMPUTER"
   ]
  },
  {
   "cell_type": "code",
   "execution_count": 9,
   "id": "36ad36c2",
   "metadata": {
    "execution": {
     "iopub.execute_input": "2024-12-15T07:13:50.821131Z",
     "iopub.status.busy": "2024-12-15T07:13:50.820890Z",
     "iopub.status.idle": "2024-12-15T07:13:50.825616Z",
     "shell.execute_reply": "2024-12-15T07:13:50.824833Z"
    },
    "papermill": {
     "duration": 0.012836,
     "end_time": "2024-12-15T07:13:50.827245",
     "exception": false,
     "start_time": "2024-12-15T07:13:50.814409",
     "status": "completed"
    },
    "tags": []
   },
   "outputs": [],
   "source": [
    "def fill_na_with_MICE(df):\n",
    "    df_copy = df.copy()\n",
    "    missing_mask = df_copy.isna()\n",
    "    original_columns = df_copy.columns.tolist()\n",
    "    imputer = IterativeImputer(max_iter=50, random_state=0)\n",
    "    imputed_values = imputer.fit_transform(df_copy)\n",
    "    imputed_df = pd.DataFrame(\n",
    "        imputed_values,\n",
    "        columns=original_columns,\n",
    "        index=df_copy.index\n",
    "    )\n",
    "    df_copy[missing_mask] = imputed_df[missing_mask]\n",
    "    return df_copy\n",
    "    "
   ]
  },
  {
   "cell_type": "code",
   "execution_count": 10,
   "id": "c0439d68",
   "metadata": {
    "execution": {
     "iopub.execute_input": "2024-12-15T07:13:50.839391Z",
     "iopub.status.busy": "2024-12-15T07:13:50.839134Z",
     "iopub.status.idle": "2024-12-15T07:14:41.699187Z",
     "shell.execute_reply": "2024-12-15T07:14:41.698251Z"
    },
    "papermill": {
     "duration": 50.873419,
     "end_time": "2024-12-15T07:14:41.706416",
     "exception": false,
     "start_time": "2024-12-15T07:13:50.832997",
     "status": "completed"
    },
    "tags": []
   },
   "outputs": [
    {
     "name": "stderr",
     "output_type": "stream",
     "text": [
      "/opt/conda/lib/python3.10/site-packages/sklearn/impute/_iterative.py:785: ConvergenceWarning: [IterativeImputer] Early stopping criterion not reached.\n",
      "  warnings.warn(\n"
     ]
    }
   ],
   "source": [
    "new_X = fill_na_with_MICE(new_X)\n",
    "new_test = fill_na_with_MICE(new_test)"
   ]
  },
  {
   "cell_type": "markdown",
   "id": "2fd336bd",
   "metadata": {
    "papermill": {
     "duration": 0.005853,
     "end_time": "2024-12-15T07:14:41.760319",
     "exception": false,
     "start_time": "2024-12-15T07:14:41.754466",
     "status": "completed"
    },
    "tags": []
   },
   "source": [
    "### Training"
   ]
  },
  {
   "cell_type": "code",
   "execution_count": 12,
   "id": "4442b3a3",
   "metadata": {
    "execution": {
     "iopub.execute_input": "2024-12-15T07:14:41.773339Z",
     "iopub.status.busy": "2024-12-15T07:14:41.773069Z",
     "iopub.status.idle": "2024-12-15T07:14:41.779794Z",
     "shell.execute_reply": "2024-12-15T07:14:41.779231Z"
    },
    "papermill": {
     "duration": 0.01494,
     "end_time": "2024-12-15T07:14:41.781266",
     "exception": false,
     "start_time": "2024-12-15T07:14:41.766326",
     "status": "completed"
    },
    "tags": []
   },
   "outputs": [],
   "source": [
    "from sklearn.model_selection import train_test_split\n",
    "from sklearn.preprocessing import StandardScaler\n",
    "\n",
    "X_train, X_val, y_train, y_val = train_test_split(new_X, y, test_size=0.2, random_state=42)\n",
    "# scaler = StandardScaler()\n",
    "# X_train_scaled = scaler.fit_transform(X_train)\n",
    "# X_val_scaled = scaler.transform(X_val)"
   ]
  },
  {
   "cell_type": "code",
   "execution_count": 13,
   "id": "267ffc83",
   "metadata": {
    "execution": {
     "iopub.execute_input": "2024-12-15T07:14:41.794185Z",
     "iopub.status.busy": "2024-12-15T07:14:41.793930Z",
     "iopub.status.idle": "2024-12-15T07:14:41.798840Z",
     "shell.execute_reply": "2024-12-15T07:14:41.798029Z"
    },
    "papermill": {
     "duration": 0.013255,
     "end_time": "2024-12-15T07:14:41.800498",
     "exception": false,
     "start_time": "2024-12-15T07:14:41.787243",
     "status": "completed"
    },
    "tags": []
   },
   "outputs": [],
   "source": [
    "def get_info_for_ftt(df):\n",
    "    # this function returns 2 things\n",
    "    # first, categories = (10, 5, 6, 5, 8),      # tuple containing the number of unique values within each category\n",
    "    # second, num_continuous = 10, # number of continuous values \n",
    "    # both of them are parameters of FTTransformer\n",
    "    number_of_cat = 0\n",
    "    cat_ranges = []\n",
    "    all_features = df.columns.tolist()\n",
    "    cat_idx = []\n",
    "    for i, feature in enumerate(all_features):\n",
    "        if (df[feature].nunique() <= 2):\n",
    "            number_of_cat = number_of_cat + 1\n",
    "            cat_ranges.append(df[feature].nunique())\n",
    "            cat_idx.append(i)\n",
    "    \n",
    "    num_continuous = df.shape[-1] - number_of_cat\n",
    "    return cat_ranges, num_continuous, cat_idx\n"
   ]
  },
  {
   "cell_type": "code",
   "execution_count": 14,
   "id": "44ca75bf",
   "metadata": {
    "execution": {
     "iopub.execute_input": "2024-12-15T07:14:41.813433Z",
     "iopub.status.busy": "2024-12-15T07:14:41.813153Z",
     "iopub.status.idle": "2024-12-15T07:14:41.832031Z",
     "shell.execute_reply": "2024-12-15T07:14:41.831464Z"
    },
    "papermill": {
     "duration": 0.027192,
     "end_time": "2024-12-15T07:14:41.833661",
     "exception": false,
     "start_time": "2024-12-15T07:14:41.806469",
     "status": "completed"
    },
    "tags": []
   },
   "outputs": [],
   "source": [
    "cat_ranges, num_continuous, cat_idx = get_info_for_ftt(new_X)"
   ]
  },
  {
   "cell_type": "code",
   "execution_count": 15,
   "id": "e338cb59",
   "metadata": {
    "execution": {
     "iopub.execute_input": "2024-12-15T07:14:41.846776Z",
     "iopub.status.busy": "2024-12-15T07:14:41.846527Z",
     "iopub.status.idle": "2024-12-15T07:14:44.872758Z",
     "shell.execute_reply": "2024-12-15T07:14:44.871841Z"
    },
    "papermill": {
     "duration": 3.035282,
     "end_time": "2024-12-15T07:14:44.874925",
     "exception": false,
     "start_time": "2024-12-15T07:14:41.839643",
     "status": "completed"
    },
    "tags": []
   },
   "outputs": [],
   "source": [
    "import torch\n",
    "from torch.utils.data import Dataset\n",
    "\n",
    "class MyDataset(Dataset):\n",
    "    def __init__(self, features, labels, cat_idx):\n",
    "        self.features = features\n",
    "        self.labels = labels\n",
    "        self.cat_idx = cat_idx\n",
    "        \n",
    "    def __len__(self):\n",
    "        return len(self.labels)\n",
    "        \n",
    "    def divide_cat_num(self, row_data):\n",
    "        mask = np.zeros(len(row_data), dtype=bool)\n",
    "        mask[self.cat_idx] = True\n",
    "        cat_elements = row_data[mask]\n",
    "        remaining_elements = row_data[~mask]\n",
    "        return cat_elements, remaining_elements\n",
    "\n",
    "    def __getitem__(self, idx):\n",
    "        row_value = self.features[idx]\n",
    "        tensor_row_value = torch.tensor(row_value)\n",
    "        cat_values, num_values = self.divide_cat_num(row_value)\n",
    "        cat_values = torch.tensor(cat_values, dtype=torch.int32)\n",
    "        num_values = torch.tensor(num_values, dtype=torch.float64)\n",
    "        label = self.labels.iloc[idx].values\n",
    "        tensor_label = torch.tensor(label, dtype=torch.float64) \n",
    "        return cat_values, num_values, tensor_label"
   ]
  },
  {
   "cell_type": "code",
   "execution_count": 17,
   "id": "5e033154",
   "metadata": {
    "execution": {
     "iopub.execute_input": "2024-12-15T07:14:44.908211Z",
     "iopub.status.busy": "2024-12-15T07:14:44.907875Z",
     "iopub.status.idle": "2024-12-15T07:14:44.912682Z",
     "shell.execute_reply": "2024-12-15T07:14:44.911839Z"
    },
    "papermill": {
     "duration": 0.013288,
     "end_time": "2024-12-15T07:14:44.914172",
     "exception": false,
     "start_time": "2024-12-15T07:14:44.900884",
     "status": "completed"
    },
    "tags": []
   },
   "outputs": [],
   "source": [
    "train_dataset = MyDataset(X_train.values, y_train, cat_idx)\n",
    "val_dataset = MyDataset(X_val.values, y_val, cat_idx)\n"
   ]
  },
  {
   "cell_type": "code",
   "execution_count": 18,
   "id": "dea99eb4",
   "metadata": {
    "execution": {
     "iopub.execute_input": "2024-12-15T07:14:44.927298Z",
     "iopub.status.busy": "2024-12-15T07:14:44.927036Z",
     "iopub.status.idle": "2024-12-15T07:14:44.930939Z",
     "shell.execute_reply": "2024-12-15T07:14:44.930240Z"
    },
    "papermill": {
     "duration": 0.012246,
     "end_time": "2024-12-15T07:14:44.932449",
     "exception": false,
     "start_time": "2024-12-15T07:14:44.920203",
     "status": "completed"
    },
    "tags": []
   },
   "outputs": [],
   "source": [
    "trainloader = DataLoader(train_dataset, batch_size = 64, shuffle = True)\n",
    "valloader = DataLoader(val_dataset, batch_size = 64, shuffle = True)"
   ]
  },
  {
   "cell_type": "code",
   "execution_count": 19,
   "id": "46b8c170",
   "metadata": {
    "execution": {
     "iopub.execute_input": "2024-12-15T07:14:44.945660Z",
     "iopub.status.busy": "2024-12-15T07:14:44.945412Z",
     "iopub.status.idle": "2024-12-15T07:14:44.953877Z",
     "shell.execute_reply": "2024-12-15T07:14:44.953226Z"
    },
    "papermill": {
     "duration": 0.016992,
     "end_time": "2024-12-15T07:14:44.955444",
     "exception": false,
     "start_time": "2024-12-15T07:14:44.938452",
     "status": "completed"
    },
    "tags": []
   },
   "outputs": [],
   "source": [
    "def train_model(train_loader, val_loader, model, criterion, optimizer, num_epochs, save_path='model_checkpoints'):\n",
    "    import os\n",
    "    import torch\n",
    "    \n",
    "    # Create save directory if it doesn't exist\n",
    "    os.makedirs(save_path, exist_ok=True)\n",
    "    \n",
    "    device = torch.device('cuda' if torch.cuda.is_available() else 'cpu')\n",
    "    model = model.to(device)\n",
    "    best_val_loss = float('inf')\n",
    "    \n",
    "    for epoch in range(num_epochs):\n",
    "        model.train()\n",
    "        train_loss = 0\n",
    "        for x_cat, x_num, y in train_loader:\n",
    "            # Move all inputs to device\n",
    "            x_cat = x_cat.to(device) if x_cat is not None else None\n",
    "            x_num = x_num.to(device)\n",
    "            y = y.to(device)\n",
    "            \n",
    "            optimizer.zero_grad()\n",
    "            output = model(x_cat, x_num)\n",
    "            loss = criterion(output, y)\n",
    "            loss.backward()\n",
    "            optimizer.step()\n",
    "            train_loss += loss.item()\n",
    "            \n",
    "        model.eval()\n",
    "        val_loss = 0\n",
    "        with torch.no_grad():\n",
    "            for x_cat, x_num, y in val_loader:\n",
    "                x_cat = x_cat.to(device) if x_cat is not None else None\n",
    "                x_num = x_num.to(device)\n",
    "                y = y.to(device)\n",
    "                \n",
    "                output = model(x_cat, x_num)\n",
    "                val_loss += criterion(output, y).item()\n",
    "        \n",
    "        avg_train_loss = train_loss/len(train_loader)\n",
    "        avg_val_loss = val_loss/len(val_loader)\n",
    "        print(f'Epoch {epoch+1}, Train Loss: {avg_train_loss:.4f}, Val Loss: {avg_val_loss:.4f}')\n",
    "        \n",
    "        # Save the best model\n",
    "        if avg_val_loss < best_val_loss:\n",
    "            best_val_loss = avg_val_loss\n",
    "            checkpoint = {\n",
    "                'epoch': epoch,\n",
    "                'model_state_dict': model.state_dict(),\n",
    "                'optimizer_state_dict': optimizer.state_dict(),\n",
    "                'train_loss': avg_train_loss,\n",
    "                'val_loss': avg_val_loss,\n",
    "                'best_val_loss': best_val_loss\n",
    "            }\n",
    "            torch.save(checkpoint, os.path.join(save_path, f'best_model.pth'))\n",
    "            print(f'Saved best model with validation loss: {best_val_loss:.4f}')"
   ]
  },
  {
   "cell_type": "code",
   "execution_count": 20,
   "id": "897f3244",
   "metadata": {
    "execution": {
     "iopub.execute_input": "2024-12-15T07:14:44.968509Z",
     "iopub.status.busy": "2024-12-15T07:14:44.968295Z",
     "iopub.status.idle": "2024-12-15T07:15:19.338966Z",
     "shell.execute_reply": "2024-12-15T07:15:19.337887Z"
    },
    "papermill": {
     "duration": 34.379575,
     "end_time": "2024-12-15T07:15:19.341127",
     "exception": false,
     "start_time": "2024-12-15T07:14:44.961552",
     "status": "completed"
    },
    "tags": []
   },
   "outputs": [
    {
     "name": "stdout",
     "output_type": "stream",
     "text": [
      "Processing /kaggle/input/tab-transformer-pytorch/tab_transformer_pytorch-0.3.0-py3-none-any.whl\r\n",
      "Installing collected packages: tab-transformer-pytorch\r\n",
      "Successfully installed tab-transformer-pytorch-0.3.0\r\n"
     ]
    }
   ],
   "source": [
    "!pip install --no-deps /kaggle/input/tab-transformer-pytorch/tab_transformer_pytorch-0.3.0-py3-none-any.whl"
   ]
  },
  {
   "cell_type": "code",
   "execution_count": 21,
   "id": "91b98014",
   "metadata": {
    "execution": {
     "iopub.execute_input": "2024-12-15T07:15:19.355719Z",
     "iopub.status.busy": "2024-12-15T07:15:19.355407Z",
     "iopub.status.idle": "2024-12-15T07:16:00.022124Z",
     "shell.execute_reply": "2024-12-15T07:16:00.021254Z"
    },
    "papermill": {
     "duration": 40.67637,
     "end_time": "2024-12-15T07:16:00.024162",
     "exception": false,
     "start_time": "2024-12-15T07:15:19.347792",
     "status": "completed"
    },
    "tags": []
   },
   "outputs": [
    {
     "name": "stdout",
     "output_type": "stream",
     "text": [
      "Processing /kaggle/input/fttransformer/einops-0.8.0-py3-none-any.whl\r\n",
      "Installing collected packages: einops\r\n",
      "Successfully installed einops-0.8.0\r\n"
     ]
    }
   ],
   "source": [
    "!pip install /kaggle/input/fttransformer/einops-0.8.0-py3-none-any.whl"
   ]
  },
  {
   "cell_type": "code",
   "execution_count": 23,
   "id": "5c7a8959",
   "metadata": {
    "execution": {
     "iopub.execute_input": "2024-12-15T07:16:00.065837Z",
     "iopub.status.busy": "2024-12-15T07:16:00.065573Z",
     "iopub.status.idle": "2024-12-15T07:16:00.080460Z",
     "shell.execute_reply": "2024-12-15T07:16:00.079821Z"
    },
    "papermill": {
     "duration": 0.023589,
     "end_time": "2024-12-15T07:16:00.081945",
     "exception": false,
     "start_time": "2024-12-15T07:16:00.058356",
     "status": "completed"
    },
    "tags": []
   },
   "outputs": [],
   "source": [
    "cat_ranges, num_continuous, cat_idx = get_info_for_ftt(new_X)"
   ]
  },
  {
   "cell_type": "code",
   "execution_count": 24,
   "id": "c4ed5abd",
   "metadata": {
    "execution": {
     "iopub.execute_input": "2024-12-15T07:16:00.095625Z",
     "iopub.status.busy": "2024-12-15T07:16:00.095392Z",
     "iopub.status.idle": "2024-12-15T07:19:09.025675Z",
     "shell.execute_reply": "2024-12-15T07:19:09.024591Z"
    },
    "papermill": {
     "duration": 188.939146,
     "end_time": "2024-12-15T07:19:09.027442",
     "exception": false,
     "start_time": "2024-12-15T07:16:00.088296",
     "status": "completed"
    },
    "tags": []
   },
   "outputs": [
    {
     "name": "stdout",
     "output_type": "stream",
     "text": [
      "Epoch 1, Train Loss: 1019.3797, Val Loss: 907.0401\n",
      "Saved best model with validation loss: 907.0401\n",
      "Epoch 2, Train Loss: 915.8929, Val Loss: 833.1286\n",
      "Saved best model with validation loss: 833.1286\n",
      "Epoch 3, Train Loss: 838.2762, Val Loss: 743.8377\n",
      "Saved best model with validation loss: 743.8377\n",
      "Epoch 4, Train Loss: 749.3193, Val Loss: 689.6166\n",
      "Saved best model with validation loss: 689.6166\n",
      "Epoch 5, Train Loss: 672.1535, Val Loss: 630.2401\n",
      "Saved best model with validation loss: 630.2401\n",
      "Epoch 6, Train Loss: 609.8914, Val Loss: 562.9627\n",
      "Saved best model with validation loss: 562.9627\n",
      "Epoch 7, Train Loss: 546.4572, Val Loss: 500.7891\n",
      "Saved best model with validation loss: 500.7891\n",
      "Epoch 8, Train Loss: 501.3157, Val Loss: 455.0522\n",
      "Saved best model with validation loss: 455.0522\n",
      "Epoch 9, Train Loss: 463.8464, Val Loss: 453.4273\n",
      "Saved best model with validation loss: 453.4273\n",
      "Epoch 10, Train Loss: 447.6328, Val Loss: 418.4037\n",
      "Saved best model with validation loss: 418.4037\n",
      "Epoch 11, Train Loss: 429.5187, Val Loss: 416.4021\n",
      "Saved best model with validation loss: 416.4021\n",
      "Epoch 12, Train Loss: 423.1596, Val Loss: 406.4691\n",
      "Saved best model with validation loss: 406.4691\n",
      "Epoch 13, Train Loss: 416.8400, Val Loss: 403.2560\n",
      "Saved best model with validation loss: 403.2560\n",
      "Epoch 14, Train Loss: 410.9259, Val Loss: 402.9303\n",
      "Saved best model with validation loss: 402.9303\n",
      "Epoch 15, Train Loss: 412.5366, Val Loss: 399.1354\n",
      "Saved best model with validation loss: 399.1354\n",
      "Epoch 16, Train Loss: 410.6390, Val Loss: 410.1804\n",
      "Epoch 17, Train Loss: 411.4662, Val Loss: 394.5035\n",
      "Saved best model with validation loss: 394.5035\n",
      "Epoch 18, Train Loss: 376.7490, Val Loss: 350.0130\n",
      "Saved best model with validation loss: 350.0130\n",
      "Epoch 19, Train Loss: 357.9791, Val Loss: 339.8840\n",
      "Saved best model with validation loss: 339.8840\n",
      "Epoch 20, Train Loss: 343.7537, Val Loss: 340.4472\n",
      "Epoch 21, Train Loss: 334.9156, Val Loss: 320.9722\n",
      "Saved best model with validation loss: 320.9722\n",
      "Epoch 22, Train Loss: 330.7990, Val Loss: 322.7394\n",
      "Epoch 23, Train Loss: 323.2977, Val Loss: 318.5444\n",
      "Saved best model with validation loss: 318.5444\n",
      "Epoch 24, Train Loss: 323.0659, Val Loss: 323.1990\n",
      "Epoch 25, Train Loss: 322.4227, Val Loss: 339.3746\n",
      "Epoch 26, Train Loss: 314.8131, Val Loss: 325.7502\n",
      "Epoch 27, Train Loss: 321.1457, Val Loss: 314.1020\n",
      "Saved best model with validation loss: 314.1020\n",
      "Epoch 28, Train Loss: 313.2206, Val Loss: 312.3682\n",
      "Saved best model with validation loss: 312.3682\n",
      "Epoch 29, Train Loss: 312.7604, Val Loss: 329.4691\n",
      "Epoch 30, Train Loss: 317.9217, Val Loss: 320.5047\n",
      "Epoch 31, Train Loss: 312.0739, Val Loss: 317.6503\n",
      "Epoch 32, Train Loss: 310.1522, Val Loss: 321.2180\n",
      "Epoch 33, Train Loss: 305.3734, Val Loss: 302.9724\n",
      "Saved best model with validation loss: 302.9724\n",
      "Epoch 34, Train Loss: 306.5304, Val Loss: 306.1113\n",
      "Epoch 35, Train Loss: 302.2378, Val Loss: 307.8721\n",
      "Epoch 36, Train Loss: 301.9167, Val Loss: 304.6934\n",
      "Epoch 37, Train Loss: 307.1997, Val Loss: 299.1599\n",
      "Saved best model with validation loss: 299.1599\n",
      "Epoch 38, Train Loss: 300.0399, Val Loss: 303.4944\n",
      "Epoch 39, Train Loss: 292.3001, Val Loss: 304.7636\n",
      "Epoch 40, Train Loss: 293.6769, Val Loss: 327.2924\n",
      "Epoch 41, Train Loss: 294.9513, Val Loss: 305.4731\n",
      "Epoch 42, Train Loss: 283.2079, Val Loss: 299.0606\n",
      "Saved best model with validation loss: 299.0606\n",
      "Epoch 43, Train Loss: 291.9444, Val Loss: 300.9814\n",
      "Epoch 44, Train Loss: 290.6624, Val Loss: 292.0488\n",
      "Saved best model with validation loss: 292.0488\n",
      "Epoch 45, Train Loss: 282.0672, Val Loss: 301.7323\n",
      "Epoch 46, Train Loss: 283.7693, Val Loss: 293.8282\n",
      "Epoch 47, Train Loss: 279.4800, Val Loss: 304.5077\n",
      "Epoch 48, Train Loss: 289.5246, Val Loss: 318.9898\n",
      "Epoch 49, Train Loss: 284.8093, Val Loss: 295.5123\n",
      "Epoch 50, Train Loss: 279.7640, Val Loss: 295.1646\n",
      "Epoch 51, Train Loss: 282.1264, Val Loss: 310.2748\n",
      "Epoch 52, Train Loss: 286.3145, Val Loss: 296.6213\n",
      "Epoch 53, Train Loss: 278.3517, Val Loss: 305.3728\n",
      "Epoch 54, Train Loss: 274.6211, Val Loss: 309.8800\n",
      "Epoch 55, Train Loss: 272.7040, Val Loss: 313.2300\n",
      "Epoch 56, Train Loss: 278.6293, Val Loss: 312.4920\n",
      "Epoch 57, Train Loss: 278.2487, Val Loss: 309.0704\n",
      "Epoch 58, Train Loss: 273.7761, Val Loss: 299.2934\n",
      "Epoch 59, Train Loss: 272.5625, Val Loss: 310.5490\n",
      "Epoch 60, Train Loss: 273.4607, Val Loss: 303.3343\n",
      "Epoch 61, Train Loss: 279.2802, Val Loss: 299.8789\n",
      "Epoch 62, Train Loss: 274.7982, Val Loss: 310.6925\n",
      "Epoch 63, Train Loss: 271.2714, Val Loss: 297.0624\n",
      "Epoch 64, Train Loss: 274.2522, Val Loss: 300.4805\n",
      "Epoch 65, Train Loss: 268.1853, Val Loss: 306.4049\n",
      "Epoch 66, Train Loss: 267.3995, Val Loss: 300.6683\n",
      "Epoch 67, Train Loss: 258.9778, Val Loss: 294.5145\n",
      "Epoch 68, Train Loss: 260.0861, Val Loss: 308.2896\n",
      "Epoch 69, Train Loss: 265.2051, Val Loss: 306.6325\n",
      "Epoch 70, Train Loss: 267.2648, Val Loss: 297.1800\n",
      "Epoch 71, Train Loss: 260.0281, Val Loss: 295.5722\n",
      "Epoch 72, Train Loss: 264.3793, Val Loss: 307.7678\n",
      "Epoch 73, Train Loss: 263.9555, Val Loss: 296.8550\n",
      "Epoch 74, Train Loss: 260.8912, Val Loss: 317.8883\n",
      "Epoch 75, Train Loss: 266.4283, Val Loss: 308.8584\n",
      "Epoch 76, Train Loss: 255.3897, Val Loss: 327.6941\n",
      "Epoch 77, Train Loss: 253.7511, Val Loss: 308.5160\n",
      "Epoch 78, Train Loss: 252.1959, Val Loss: 312.9820\n",
      "Epoch 79, Train Loss: 256.5991, Val Loss: 311.7403\n",
      "Epoch 80, Train Loss: 262.2441, Val Loss: 310.6049\n",
      "Epoch 81, Train Loss: 253.9948, Val Loss: 308.1978\n",
      "Epoch 82, Train Loss: 248.9094, Val Loss: 328.9739\n",
      "Epoch 83, Train Loss: 256.1962, Val Loss: 311.5629\n",
      "Epoch 84, Train Loss: 249.0693, Val Loss: 309.5517\n",
      "Epoch 85, Train Loss: 251.4421, Val Loss: 322.5331\n",
      "Epoch 86, Train Loss: 249.6982, Val Loss: 317.7667\n",
      "Epoch 87, Train Loss: 257.0436, Val Loss: 308.4718\n",
      "Epoch 88, Train Loss: 249.9435, Val Loss: 308.7244\n",
      "Epoch 89, Train Loss: 252.5030, Val Loss: 311.8305\n",
      "Epoch 90, Train Loss: 251.4256, Val Loss: 334.5644\n",
      "Epoch 91, Train Loss: 251.9322, Val Loss: 332.2677\n",
      "Epoch 92, Train Loss: 252.0497, Val Loss: 322.5883\n",
      "Epoch 93, Train Loss: 248.0106, Val Loss: 328.1135\n",
      "Epoch 94, Train Loss: 246.0843, Val Loss: 322.6342\n",
      "Epoch 95, Train Loss: 250.5462, Val Loss: 312.9293\n",
      "Epoch 96, Train Loss: 249.9289, Val Loss: 322.1159\n",
      "Epoch 97, Train Loss: 243.5876, Val Loss: 320.6369\n",
      "Epoch 98, Train Loss: 250.9077, Val Loss: 334.4103\n",
      "Epoch 99, Train Loss: 244.7790, Val Loss: 329.6229\n",
      "Epoch 100, Train Loss: 244.2618, Val Loss: 319.6444\n"
     ]
    }
   ],
   "source": [
    "\n",
    "from tab_transformer_pytorch import FTTransformer\n",
    "model = FTTransformer(\n",
    "    categories = tuple(cat_ranges), \n",
    "    num_continuous = num_continuous,                \n",
    "    dim = 97,                           \n",
    "    dim_out = 1,                        \n",
    "    depth = 6,                          \n",
    "    heads = 8,                          \n",
    "    attn_dropout = 0.1,                 \n",
    "    ff_dropout = 0.1,                  \n",
    ")\n",
    "model = model.to(torch.float64)\n",
    "criterion = nn.MSELoss()\n",
    "optimizer = optim.Adam(model.parameters(), lr=0.001)\n",
    "\n",
    "train_model(\n",
    "    train_loader=trainloader,\n",
    "    val_loader=valloader,\n",
    "    model=model,\n",
    "    criterion=criterion,\n",
    "    optimizer=optimizer,\n",
    "    num_epochs=100\n",
    ")\n"
   ]
  },
  {
   "cell_type": "code",
   "execution_count": 26,
   "id": "02f79a00",
   "metadata": {
    "execution": {
     "iopub.execute_input": "2024-12-15T07:19:09.105834Z",
     "iopub.status.busy": "2024-12-15T07:19:09.105576Z",
     "iopub.status.idle": "2024-12-15T07:19:09.109374Z",
     "shell.execute_reply": "2024-12-15T07:19:09.108708Z"
    },
    "papermill": {
     "duration": 0.017289,
     "end_time": "2024-12-15T07:19:09.110902",
     "exception": false,
     "start_time": "2024-12-15T07:19:09.093613",
     "status": "completed"
    },
    "tags": []
   },
   "outputs": [],
   "source": [
    "def load_model(model, checkpoint_path):\n",
    "    checkpoint = torch.load(checkpoint_path)\n",
    "    model.load_state_dict(checkpoint['model_state_dict'])\n",
    "    return model"
   ]
  },
  {
   "cell_type": "code",
   "execution_count": 27,
   "id": "1d11a5aa",
   "metadata": {
    "execution": {
     "iopub.execute_input": "2024-12-15T07:19:09.134245Z",
     "iopub.status.busy": "2024-12-15T07:19:09.133982Z",
     "iopub.status.idle": "2024-12-15T07:19:09.187213Z",
     "shell.execute_reply": "2024-12-15T07:19:09.186322Z"
    },
    "papermill": {
     "duration": 0.066657,
     "end_time": "2024-12-15T07:19:09.188970",
     "exception": false,
     "start_time": "2024-12-15T07:19:09.122313",
     "status": "completed"
    },
    "tags": []
   },
   "outputs": [
    {
     "name": "stderr",
     "output_type": "stream",
     "text": [
      "/tmp/ipykernel_23/1423795141.py:2: FutureWarning: You are using `torch.load` with `weights_only=False` (the current default value), which uses the default pickle module implicitly. It is possible to construct malicious pickle data which will execute arbitrary code during unpickling (See https://github.com/pytorch/pytorch/blob/main/SECURITY.md#untrusted-models for more details). In a future release, the default value for `weights_only` will be flipped to `True`. This limits the functions that could be executed during unpickling. Arbitrary objects will no longer be allowed to be loaded via this mode unless they are explicitly allowlisted by the user via `torch.serialization.add_safe_globals`. We recommend you start setting `weights_only=True` for any use case where you don't have full control of the loaded file. Please open an issue on GitHub for any issues related to this experimental feature.\n",
      "  checkpoint = torch.load(checkpoint_path)\n"
     ]
    }
   ],
   "source": [
    "checkpoint_path = \"/kaggle/working/model_checkpoints/best_model.pth\"\n",
    "# checkpoint_path = \"/kaggle/input/best_v1/pytorch/default/1/best_model_val_loss_291.7448.pth\"\n",
    "model = load_model(model, checkpoint_path)\n"
   ]
  },
  {
   "cell_type": "code",
   "execution_count": 28,
   "id": "99d6e68d",
   "metadata": {
    "execution": {
     "iopub.execute_input": "2024-12-15T07:19:09.212420Z",
     "iopub.status.busy": "2024-12-15T07:19:09.212113Z",
     "iopub.status.idle": "2024-12-15T07:19:09.219423Z",
     "shell.execute_reply": "2024-12-15T07:19:09.218594Z"
    },
    "papermill": {
     "duration": 0.020819,
     "end_time": "2024-12-15T07:19:09.220956",
     "exception": false,
     "start_time": "2024-12-15T07:19:09.200137",
     "status": "completed"
    },
    "tags": []
   },
   "outputs": [],
   "source": [
    "def get_prediction(new_test, cat_idx, model, batch_size=32, track_memory=False):\n",
    "    def divide_cat_num(data, cat_idx):\n",
    "        mask = np.zeros(data.shape[1], dtype=bool)\n",
    "        mask[cat_idx] = True\n",
    "        cat_elements = data[:, mask]\n",
    "        remaining_elements = data[:, ~mask]\n",
    "        return cat_elements, remaining_elements\n",
    "    \n",
    "    device = 'cuda'\n",
    "    new_test_values = new_test.values\n",
    "    num_samples = len(new_test_values)\n",
    "    predictions = []\n",
    "    \n",
    "    # Process data in batches\n",
    "    for i in range(0, num_samples, batch_size):\n",
    "        if track_memory:\n",
    "            print(f'GPU Memory before batch {i}: {torch.cuda.memory_allocated()/1024**2:.2f} MB')\n",
    "            \n",
    "        batch_data = new_test_values[i:i + batch_size]\n",
    "        cat, num = divide_cat_num(batch_data, cat_idx)\n",
    "        \n",
    "        cat = torch.tensor(cat, dtype=torch.int32).to(device)\n",
    "        num = torch.tensor(num, dtype=torch.float64).to(device)\n",
    "        \n",
    "        with torch.no_grad():\n",
    "            output = model(cat, num)\n",
    "            output = output.squeeze(1)\n",
    "            predictions.extend(output.cpu().numpy())\n",
    "        \n",
    "        # Clear GPU memory\n",
    "        del cat\n",
    "        del num\n",
    "        del output\n",
    "        torch.cuda.empty_cache()\n",
    "        \n",
    "        if track_memory:\n",
    "            print(f'GPU Memory after batch {i}: {torch.cuda.memory_allocated()/1024**2:.2f} MB')\n",
    "    \n",
    "    return predictions"
   ]
  },
  {
   "cell_type": "code",
   "execution_count": 29,
   "id": "6f777441",
   "metadata": {
    "execution": {
     "iopub.execute_input": "2024-12-15T07:19:09.244377Z",
     "iopub.status.busy": "2024-12-15T07:19:09.243824Z",
     "iopub.status.idle": "2024-12-15T07:19:09.312678Z",
     "shell.execute_reply": "2024-12-15T07:19:09.311841Z"
    },
    "papermill": {
     "duration": 0.082149,
     "end_time": "2024-12-15T07:19:09.314221",
     "exception": false,
     "start_time": "2024-12-15T07:19:09.232072",
     "status": "completed"
    },
    "tags": []
   },
   "outputs": [
    {
     "data": {
      "text/plain": [
       "[21.659102976325478,\n",
       " 14.261172054902204,\n",
       " 32.421974318135845,\n",
       " 29.04975339555261,\n",
       " 40.621759060638155,\n",
       " 22.03164100468785,\n",
       " 28.5942384499491,\n",
       " 22.478068128469292,\n",
       " 42.82963832532368,\n",
       " 40.699154333796216,\n",
       " 36.65486937559051,\n",
       " 35.03178065269604,\n",
       " 37.83768867658091,\n",
       " 42.33504665052117,\n",
       " 40.705605425517504,\n",
       " 26.694612718119835,\n",
       " 10.362069992657332,\n",
       " 24.519974983340813,\n",
       " 26.650535433174774,\n",
       " 38.482926652301124]"
      ]
     },
     "execution_count": 29,
     "metadata": {},
     "output_type": "execute_result"
    }
   ],
   "source": [
    "prediction = get_prediction(new_test, cat_idx, model)\n",
    "prediction"
   ]
  },
  {
   "cell_type": "code",
   "execution_count": 30,
   "id": "088dce4d",
   "metadata": {
    "execution": {
     "iopub.execute_input": "2024-12-15T07:19:09.337896Z",
     "iopub.status.busy": "2024-12-15T07:19:09.337633Z",
     "iopub.status.idle": "2024-12-15T07:19:09.341763Z",
     "shell.execute_reply": "2024-12-15T07:19:09.340849Z"
    },
    "papermill": {
     "duration": 0.017999,
     "end_time": "2024-12-15T07:19:09.343621",
     "exception": false,
     "start_time": "2024-12-15T07:19:09.325622",
     "status": "completed"
    },
    "tags": []
   },
   "outputs": [],
   "source": [
    "test_id = test_data['id']"
   ]
  },
  {
   "cell_type": "code",
   "execution_count": 31,
   "id": "35c75ab5",
   "metadata": {
    "execution": {
     "iopub.execute_input": "2024-12-15T07:19:09.366891Z",
     "iopub.status.busy": "2024-12-15T07:19:09.366652Z",
     "iopub.status.idle": "2024-12-15T07:19:09.373877Z",
     "shell.execute_reply": "2024-12-15T07:19:09.373074Z"
    },
    "papermill": {
     "duration": 0.020591,
     "end_time": "2024-12-15T07:19:09.375382",
     "exception": false,
     "start_time": "2024-12-15T07:19:09.354791",
     "status": "completed"
    },
    "tags": []
   },
   "outputs": [],
   "source": [
    "def handle_prediction(predictions, test_id):\n",
    "    # return submission.csv\n",
    "    sii = []\n",
    "    for i in range(len(predictions)):\n",
    "        predict = predictions[i]\n",
    "        if (predict >=  0 and predict <= 30):\n",
    "            sii.append(0)\n",
    "        elif(predict < 50):\n",
    "            sii.append(1)\n",
    "        elif(predict < 80):\n",
    "            sii.append(2)\n",
    "        else:\n",
    "            sii.append(3)\n",
    "    sii = pd.DataFrame(sii)\n",
    "    submission = pd.concat([test_id, sii], axis = 1)\n",
    "    submission = submission.rename(columns={0: 'sii'})\n",
    "    return submission\n",
    "submission = handle_prediction(prediction, test_id)"
   ]
  },
  {
   "cell_type": "code",
   "execution_count": 32,
   "id": "ce5983f2",
   "metadata": {
    "execution": {
     "iopub.execute_input": "2024-12-15T07:19:09.398898Z",
     "iopub.status.busy": "2024-12-15T07:19:09.398155Z",
     "iopub.status.idle": "2024-12-15T07:19:09.404408Z",
     "shell.execute_reply": "2024-12-15T07:19:09.403729Z"
    },
    "papermill": {
     "duration": 0.019396,
     "end_time": "2024-12-15T07:19:09.405878",
     "exception": false,
     "start_time": "2024-12-15T07:19:09.386482",
     "status": "completed"
    },
    "tags": []
   },
   "outputs": [],
   "source": [
    "submission.to_csv(\"submission.csv\", index=False)"
   ]
  }
 ],
 "metadata": {
  "kaggle": {
   "accelerator": "gpu",
   "dataSources": [
    {
     "databundleVersionId": 9643020,
     "sourceId": 81933,
     "sourceType": "competition"
    },
    {
     "datasetId": 6261488,
     "sourceId": 10144188,
     "sourceType": "datasetVersion"
    },
    {
     "datasetId": 6303553,
     "sourceId": 10200802,
     "sourceType": "datasetVersion"
    },
    {
     "datasetId": 6305398,
     "sourceId": 10203245,
     "sourceType": "datasetVersion"
    },
    {
     "modelId": 191870,
     "modelInstanceId": 169524,
     "sourceId": 198747,
     "sourceType": "modelInstanceVersion"
    }
   ],
   "dockerImageVersionId": 30805,
   "isGpuEnabled": true,
   "isInternetEnabled": false,
   "language": "python",
   "sourceType": "notebook"
  },
  "kernelspec": {
   "display_name": "Python 3",
   "language": "python",
   "name": "python3"
  },
  "language_info": {
   "codemirror_mode": {
    "name": "ipython",
    "version": 3
   },
   "file_extension": ".py",
   "mimetype": "text/x-python",
   "name": "python",
   "nbconvert_exporter": "python",
   "pygments_lexer": "ipython3",
   "version": "3.10.14"
  },
  "papermill": {
   "default_parameters": {},
   "duration": 324.688961,
   "end_time": "2024-12-15T07:19:10.837728",
   "environment_variables": {},
   "exception": null,
   "input_path": "__notebook__.ipynb",
   "output_path": "__notebook__.ipynb",
   "parameters": {},
   "start_time": "2024-12-15T07:13:46.148767",
   "version": "2.6.0"
  }
 },
 "nbformat": 4,
 "nbformat_minor": 5
}
